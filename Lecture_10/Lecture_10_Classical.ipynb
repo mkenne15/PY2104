{
 "cells": [
  {
   "cell_type": "markdown",
   "id": "61b8e7e9-f159-4bce-9c1c-bf8d482584a2",
   "metadata": {
    "tags": []
   },
   "source": [
    "# Introduction to Thermodynamics and Statistical Physics"
   ]
  },
  {
   "cell_type": "markdown",
   "id": "a9cdd2c7-617d-4bd2-a67d-dee9e41d46f9",
   "metadata": {},
   "source": [
    "In this lecture, we are going to discuss:\n",
    "\n",
    "* The Third Law of Thermodynamics."
   ]
  },
  {
   "cell_type": "markdown",
   "id": "e67a0e6f-04f0-498b-8f97-32472d0e55de",
   "metadata": {
    "tags": []
   },
   "source": [
    "## The Third Law of Thermodynamics"
   ]
  },
  {
   "cell_type": "markdown",
   "id": "326eb98e-cfeb-4613-b1b5-01695672e946",
   "metadata": {},
   "source": [
    "In the last lecture, we looked at a statistical definition of the third law of thermodynamics. Let's continue that discussion today, and look at a classical definition\n",
    "### Classical\n",
    "Let's conider the enthalpy and the Gibb's free energy again:\n",
    "\\begin{align}\n",
    "    {\\rm d} H &= T{\\rm d} S + V {\\rm d} P\\\\\n",
    "    {\\rm d} G &= {\\rm d} H - T {\\rm d} S - S {\\rm d} T\n",
    "\\end{align}\n",
    "\n",
    "If we perform a reaction in the lab (meaning it will be under constant temperature and pressure) we got the following information. First, change in enthalpy just becomes\n",
    "$$\n",
    "    \\Delta{H} = \\Delta{Q}\n",
    "$$\n",
    "If $\\Delta{H}<0$, then heat is emitted from the system (exothermic reactions). If $\\Delta{H}>0$, then heat is absorbed into the system (endothermic reactions). For the Gibb's free energy, we found that under such conditions (constant T and P), ${\\rm d} G \\leq 0$ - that is, the system will always try to minimise the Gibbs energy in order to reach equilibrium. As such, if for the reaction $\\Delta G < 0$, it can occur spontaneously!\n",
    "\n",
    "So, for such a reaction we have that\n",
    "$$\n",
    "    {\\rm \\Delta} G = {\\rm \\Delta} H - T {\\rm \\Delta} S\n",
    "$$\n",
    "This means that as the temperature approaches 0, the Gibbs Free energy and the enthalpy approach each other. This was experimentally proven by Walter Nernst, who then postulated that the entropy should go as $\\Delta S \\to 0$ as $T \\rightarrow 0$. This lead to the statement that\n",
    "\n",
    "**Near absolute zero, all reactions in a system in internal equilibrium take place with no change in entropy.**\n",
    "\n",
    "## Consequences\n",
    "\n",
    "### Heat Capacity\n",
    "So how does the 3rd Law affect all of the things we've talked about so far? First, let's consider heat capacity. Given that\n",
    "$$\n",
    "    C = T \\left( \\frac{\\partial S}{\\partial T}\\right) = \\left( \\frac{\\partial S}{\\partial \\ln T}\\right) \\rightarrow 0\n",
    "$$\n",
    "as, when $T\\rightarrow 0$, $\\ln T\\rightarrow \\infty$ - so heat capacities go to 0 at 0 temperature!\n",
    "\n",
    "### Thermal Expansion\n",
    "From Maxwell's equations, we have that\n",
    "$$\n",
    "    \\left(\\frac{\\partial S}{\\partial P}\\right)_T = -\\left(\\frac{\\partial V}{\\partial T}\\right)_P\n",
    "$$\n",
    "Since $S=S(T,P)\\rightarrow 0$ as $T\\rightarrow 0$ for all P, this implies that the left hand side of this equation also goes to 0. As such,\n",
    "$$\n",
    "    \\lim _{T\\to 0} \\left(\\frac{\\partial V}{\\partial T}\\right)_P = 0\n",
    "$$\n",
    "which also means that $\\beta_P \\to 0$. This means that thermal expansion stops.\n",
    "\n",
    "With that, our discussion of the laws of classical thermodynamics comes to a close. Next, we're going to discuss statistical mechanics, and start looking at how we apply both classical and statistical thermodynamics to particular problems."
   ]
  }
 ],
 "metadata": {
  "kernelspec": {
   "display_name": "Python 3 (ipykernel)",
   "language": "python",
   "name": "python3"
  },
  "language_info": {
   "codemirror_mode": {
    "name": "ipython",
    "version": 3
   },
   "file_extension": ".py",
   "mimetype": "text/x-python",
   "name": "python",
   "nbconvert_exporter": "python",
   "pygments_lexer": "ipython3",
   "version": "3.8.10"
  }
 },
 "nbformat": 4,
 "nbformat_minor": 5
}
