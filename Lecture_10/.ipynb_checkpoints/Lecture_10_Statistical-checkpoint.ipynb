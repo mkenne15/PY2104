{
 "cells": [
  {
   "cell_type": "markdown",
   "id": "61b8e7e9-f159-4bce-9c1c-bf8d482584a2",
   "metadata": {
    "tags": []
   },
   "source": [
    "# Introduction to Thermodynamics and Statistical Physics"
   ]
  },
  {
   "cell_type": "markdown",
   "id": "a9cdd2c7-617d-4bd2-a67d-dee9e41d46f9",
   "metadata": {},
   "source": [
    "In this lecture, we are going to discuss:\n",
    "\n",
    "* Equipartition of energy theorem."
   ]
  },
  {
   "cell_type": "markdown",
   "id": "aeacdc94-a3fd-4264-a71e-b52e501ce503",
   "metadata": {},
   "source": [
    "# Equipartition of Energy"
   ]
  },
  {
   "cell_type": "markdown",
   "id": "2c40cab2-848c-4ab6-b15c-5d53aa18558b",
   "metadata": {},
   "source": [
    "Before going further, we are going to discuss the equipartition theorem. To motivate our discussion, let's write down what the kinetic energy of a particle of mass m and moving a velocity v is\n",
    "$$\n",
    "    E_K = \\frac{1}{2} mv^2.\n",
    "$$\n",
    "Now, if we have a particle at the end of a spring, the potential energy of that particle when displaced by a distance x is\n",
    "$$\n",
    "    E_P = \\frac{1}{2} kx^2\n",
    "$$\n",
    "The total energy of a particle at the end of the spring is thus\n",
    "$$\n",
    "    E = E_K + E_P = \\frac{1}{2} mv^2 + \\frac{1}{2} kx^2\n",
    "$$\n",
    "As the particle oscillates back and forth, the energy within the system is constantly moving between kinetic energy and potential energy, while the total energy of the system remains constant. The interesting thing to note here is that both energy terms in this equation have a quadratic dependance on some variable ($v^2$ for kinetic, $x^2$ for potential). \n",
    "\n",
    "Now let's imagine we have some system which is connected to a heat bath. The system is capable of extracting energy from the heat bath or transferring energy to it. What is the mean thermal energy of the system? The thermal energy must be stored as either kinetic energy or potential energy - how exactly is it distributed?\n",
    "\n",
    "So, let's assume we can write the energy down as some quadratic function - that is, we could write\n",
    "$$\n",
    "    E = \\alpha x^2\n",
    "$$\n",
    "where $\\alpha$ is some constant and x is some variable. The probability that the system would have a particular energy $\\alpha x^2$ would then be\n",
    "$$\n",
    "    P(x) = \\frac{{\\rm e}^{-\\beta \\alpha x^2}} {\\int_{-\\infty}^{+\\infty}{\\rm e}^{-\\beta \\alpha x^2} {\\rm d} {x}} \n",
    "$$\n",
    "where the bottom term is an integral rather than the normal summation we see in Z because we're going to assume here that $x$ can have non-integer values.\n",
    "The mean energy of the system is then\n",
    "\n",
    "\\begin{align}\n",
    "    <E> &= \\int_{- \\infty}^{+\\infty} E P(x) {\\rm d} x \\\\\n",
    "    <E> &= \\frac{\\int_{-\\infty}^{+\\infty} \\alpha x^2 {\\rm e}^{-\\beta \\alpha x^2} {\\rm d} x} {\\int_{-\\infty}^{+\\infty}{\\rm e}^{-\\beta \\alpha x^2} {\\rm d} {x}} \\\\\n",
    "    <E> &=\\frac{1}{2\\beta}\\\\\n",
    "    <E> &=\\frac{1}{2} k_{\\rm B} T\n",
    "\\end{align}\n",
    "\n",
    "This is a pretty significant result, as even though we've assumed an arbitrary function for the energy, the mean energy that we get out just depends on temperature! It is possible (but non-trivial) to extend this result to allow for the energy to be made up of multiple quadratics, say\n",
    "$$\n",
    "    E = \\sum_{i=1}^{n} \\alpha_i x_i^2\n",
    "$$\n",
    "then the result becomes\n",
    "$$\n",
    "    <E> =\\frac{n}{2} k_{\\rm B} T\n",
    "$$\n",
    "This is a very, very useful theorem. Each quadratic term that contributes to the total energy is called a mode, or degree of freedom of the system. Thus, we get the theorem for the equipartition of energy:\n",
    "        \n",
    "If the energy in a classical system is the sum of n quadratic modes, and the system is in contact with a heat reservoir at temperature $T$, the mean energy of the system is given by $nk_{\\rm b} T/ 2$"
   ]
  },
  {
   "cell_type": "markdown",
   "id": "edaee662-179f-44a2-be84-0d8209633ab8",
   "metadata": {},
   "source": [
    "## Applications"
   ]
  },
  {
   "cell_type": "markdown",
   "id": "208a322e-2c7f-4e63-9d22-2067f0d37a35",
   "metadata": {},
   "source": [
    "**Translational motion in a monatomic gas**: Imagine we have a particle which is able to move in all 3 directions. It has a velocity component associated with each direction, and as such, a kinetic energy associated with each direction. This gives\n",
    "$$\n",
    "    E = \\frac{1}{2} mv_x^2+\\frac{1}{2} mv_y^2+\\frac{1}{2} mv_z^2\n",
    "$$\n",
    "Summation of 3 quadratic modes, meaning the mean energy of the system\n",
    "$$\n",
    "    <E> = \\frac{3}{2} k_{\\rm B} T\n",
    "$$\n",
    "![Entropy_of_mixing](Figures/Monatomic.png)\n",
    "\n",
    "**Rotational motion in a diatomic gas**: Imagine we have 2 particles bonded together with a rigid bond, such that the diatomic particle can then spin about 2 axes. This gives an additional 2 terms due to rotation about each axis which doesn't have a neat symmetry, giving\n",
    "$$\n",
    "    \\frac{L_1^2}{2I_1} + \\frac{L_2^2}{2I_2}\n",
    "$$\n",
    "This means the energy is\n",
    "$$\n",
    "    E = \\frac{1}{2} mv_x^2+\\frac{1}{2} mv_y^2+\\frac{1}{2} mv_z^2+\\frac{L_1^2}{2I_1} + \\frac{L_2^2}{2I_2}\n",
    "$$\n",
    "and thus\n",
    "$$\n",
    "    <E> = \\frac{5}{2} k_{\\rm B} T\n",
    "$$\n",
    "![Entropy_of_mixing](Figures/Diatomic_Rotation.png)"
   ]
  },
  {
   "cell_type": "code",
   "execution_count": null,
   "id": "eafac4ab-a63b-44c5-8cb1-fb394c737239",
   "metadata": {},
   "outputs": [],
   "source": []
  }
 ],
 "metadata": {
  "kernelspec": {
   "display_name": "Python 3 (ipykernel)",
   "language": "python",
   "name": "python3"
  },
  "language_info": {
   "codemirror_mode": {
    "name": "ipython",
    "version": 3
   },
   "file_extension": ".py",
   "mimetype": "text/x-python",
   "name": "python",
   "nbconvert_exporter": "python",
   "pygments_lexer": "ipython3",
   "version": "3.8.10"
  }
 },
 "nbformat": 4,
 "nbformat_minor": 5
}
