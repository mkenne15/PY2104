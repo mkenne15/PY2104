{
 "cells": [
  {
   "cell_type": "markdown",
   "id": "1c3ec203-ece4-493d-ad4c-a42a91dd38a4",
   "metadata": {},
   "source": [
    "# Revisiting the partition function"
   ]
  },
  {
   "cell_type": "markdown",
   "id": "36da859e-5acd-49e2-b885-ca923037229a",
   "metadata": {},
   "source": [
    "In this lecture, we are going to revisit the partition function which we discussed during the introductory part of the course, and figure out how it relates to the thermodynamic quantities which we introduced in classical thermal physics.\n",
    "\n",
    "The partition function is defined as \n",
    "$$\n",
    "    Z = \\sum_i {\\rm e}^{-\\beta E_i}\n",
    "$$\n",
    "It looks pretty boring, but is a very powerful tool, as we'll shortly see. Typically, when solving a statistical mechanics issues, there are two steps.\n",
    "\n",
    "1. Write down the partition function.\n",
    "2. Follow the standard procedures needed to get the relevant quantity out of the partition function.\n",
    "\n",
    "For this lecture, we are going to be focusing on the single particle partition function - that is, we will work out what $Z$ is for a single particle. We'll generalise to many particles later."
   ]
  },
  {
   "cell_type": "markdown",
   "id": "68ddf5d8-f9f2-44dc-9452-95c0e5ea835f",
   "metadata": {},
   "source": [
    "## Writing down the partition function"
   ]
  },
  {
   "cell_type": "markdown",
   "id": "7bc4e4e1-661a-4e17-bd59-77eae1b5c7a7",
   "metadata": {},
   "source": [
    "This is not too difficult a step, and is something you have encountered in your problem sets previously. Let's take a look at some explicit examples.\n",
    "\n",
    "### The two level system\n",
    "Let the energy of a system be $\\pm\\Delta/2$. The partition function for such a system is thus\n",
    "$$\n",
    "    Z = {\\rm e}^{\\beta \\Delta /2}+{\\rm e}^{-\\beta \\Delta /2} = 2 \\cosh \\left(\\frac{\\beta \\Delta}{2}\\right)\n",
    "$$\n",
    "\n",
    "### The simple harmonic oscillator\n",
    "Let the energy of a system be $(n+1/2)\\hbar \\omega$, where $\\hbar=h/(2\\pi)$ and n can go up to infinity. The partition function for such a system is thus\n",
    "$$\n",
    "    Z = \\sum_{n=0}^{\\infty} {\\rm e}^{\\beta (n+1/2)\\hbar \\omega} = {\\rm e}^{-\\beta \\hbar \\omega/2} \\sum_{n=0}^{\\infty} {\\rm e}^{-\\beta n \\hbar \\omega}=\\frac{{\\rm e}^{-\\beta \\hbar \\omega/2}}{1-{\\rm e}^{-\\beta \\hbar \\omega}}\n",
    "$$\n",
    "where we've used the result for an infinite geometric progression of\n",
    "$$\n",
    "    a\\sum_{n=0}^{\\infty} r^n = \\frac{a}{1-r}\n",
    "$$\n",
    "where $a$ is a constant to simplify the expression."
   ]
  },
  {
   "cell_type": "markdown",
   "id": "738c08ca-4795-428e-8cfa-af7b8dfed369",
   "metadata": {},
   "source": [
    "## Deriving useful quantities from the partition function"
   ]
  },
  {
   "cell_type": "markdown",
   "id": "3fc3ba69-e8d2-471a-b9b7-2d8f896e2596",
   "metadata": {},
   "source": [
    "Ok, now that we can write down what the partition function, let's see what we can derive from it.\n",
    "\n",
    "### The internal energy (U)\n",
    "As discussed in previous lectures, the internal energy of a system is given by\n",
    "$$\n",
    "    U = \\sum_i P_i E_i\n",
    "$$\n",
    "$$\n",
    "    U = \\frac{\\sum_i E_i {\\rm e}^{-\\beta E_i}}{\\sum_i {\\rm e}^{-\\beta E_i}}\n",
    "$$\n",
    "Given that $Z = \\sum_i {\\rm e}^{-\\beta E_i}$, then $\\frac{{\\rm d} Z}{{\\rm d} \\beta} = - \\sum_i E_i {\\rm e}^{-\\beta E_i}$. This leaves us with\n",
    "$$\n",
    "    U = -\\frac{1}{Z}\\frac{{\\rm d} Z}{{\\rm d} \\beta} = -\\frac{{\\rm d} \\ln Z}{{\\rm d} \\beta}\n",
    "$$\n",
    "as we've seen previously. It can also sometimes be useful to rewrite this in terms of temperature. Using\n",
    "$$\n",
    "    \\beta = \\frac{1}{k_{\\rm B}T} \\to \\frac{{\\rm d} \\beta}{{\\rm d} T} = -\\frac{1}{k_{\\rm B}T^2}\n",
    "$$\n",
    "gives\n",
    "$$\n",
    "    U = k_{\\rm B}T^2 \\frac{{\\rm d} \\ln Z}{{\\rm d} T}\n",
    "$$\n",
    "\n",
    "### Entropy (S)\n",
    "The probability of a state being in some energy j is given by\n",
    "$$\n",
    "    P(E_j) = \\frac{{\\rm e}^{-\\beta E_j}}{Z}\n",
    "$$\n",
    "Taking the log gives\n",
    "$$\n",
    "    \\ln P(E_j) = -\\beta E_j - \\ln (Z)\n",
    "$$\n",
    "If we now recall our statistical definition of entropy, which was\n",
    "$$\n",
    "    S = -k_{\\rm B} \\sum_i P_i \\ln P_i\n",
    "$$\n",
    "(see Lecture 6) then we get\n",
    "$$\n",
    "    S = k_{\\rm B} \\sum_i P_i [\\beta E_i - \\ln (Z)]= k_{\\rm B} \\beta \\sum_i P_i E_i - \\ln (Z)\\sum_i P_i]\n",
    "$$\n",
    "We can now substitute $U = \\sum_i P_i E_i$ and $\\sum_i P_i E_i = 1.0$ to get\n",
    "$$\n",
    "    S = k_{\\rm B} [\\beta U - \\ln(Z)]\n",
    "$$"
   ]
  },
  {
   "cell_type": "code",
   "execution_count": null,
   "id": "c58e57b8-396c-4c48-ad34-64534324556e",
   "metadata": {},
   "outputs": [],
   "source": []
  }
 ],
 "metadata": {
  "kernelspec": {
   "display_name": "Python 3 (ipykernel)",
   "language": "python",
   "name": "python3"
  },
  "language_info": {
   "codemirror_mode": {
    "name": "ipython",
    "version": 3
   },
   "file_extension": ".py",
   "mimetype": "text/x-python",
   "name": "python",
   "nbconvert_exporter": "python",
   "pygments_lexer": "ipython3",
   "version": "3.8.10"
  }
 },
 "nbformat": 4,
 "nbformat_minor": 5
}
