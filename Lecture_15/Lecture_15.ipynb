{
 "cells": [
  {
   "cell_type": "markdown",
   "id": "2e4ea0ff-69c0-419f-ae0d-bbe1a0b3a653",
   "metadata": {
    "tags": []
   },
   "source": [
    "# Introduction to Thermodynamics and Statistical Physics"
   ]
  },
  {
   "cell_type": "markdown",
   "id": "0d08f681-8f8c-4405-8c59-b6934c87f487",
   "metadata": {},
   "source": [
    "In this lecture, we are going to discuss:\n",
    "\n",
    "* Chemical Potential\n",
    "* Phase Transitions"
   ]
  },
  {
   "cell_type": "markdown",
   "id": "2d6afc3d-cc98-4746-8e7d-2db93068f47c",
   "metadata": {
    "tags": []
   },
   "source": [
    "## The Chemical Potential and Phase transitions"
   ]
  },
  {
   "cell_type": "markdown",
   "id": "a35c8b45-65f8-43eb-a3e3-fe2047e28180",
   "metadata": {
    "tags": []
   },
   "source": [
    "The next part of this course will focus on what happens if the particle number within a system is no longer kept constant, and what happens when systems of two or more phases are in equilibrium. Here, a phase is a homogenous part of a system bounded by surfaces, across which the properties of the system change discontinuously (say for example a container which has both water which is boiling at 100 degrees, above which we have water vapour also at 100 degrees). We will restrict ourselves to a single component (that is, we won't consider a mixture of water and acid) as this would be a complex task.\n",
    "\n",
    "In this setup, we will be able to transfer matter between the different phases. For different phases to be in equilibrium, certain conditions must hold such that no matter transfer occurs.\n",
    "\n",
    "### Equilibrium conditions\n",
    "Imagine we have a one component system, and we want to determine the conditions for which 2 phases can exist in equilibrium. First, let's assume the system is totally isolated, such that\n",
    "\\begin{align}\n",
    "    U_1+U_2 &= U\\\\\n",
    "    V_1+V_2 &= V\\\\\n",
    "    N_1+N_2 &= N\\\\\n",
    "\\end{align}\n",
    "The entropy of the system is given by\n",
    "$$\n",
    "    S(U,V,N,U_1,V_1,N_1) = S_1(U_1,V_1,N_1)+S_2(U_2,V_2,N_2).\n",
    "$$\n",
    "To be in equilibrium, the entropy must be maximised, giving\n",
    "$$\n",
    "    {\\rm d} S = {\\rm d} S_1 + {\\rm d} S_2\n",
    "$$\n",
    "Now,\n",
    "$$\n",
    "    {\\rm d} S_1 = \\left( \\frac{\\partial S_1}{\\partial U_1}\\right)_{V_1,N_1} {\\rm d} U_1 +\\left( \\frac{\\partial S_1}{\\partial V_1}\\right)_{U_1,N_1} {\\rm d} V_1 +\\left( \\frac{\\partial S_1}{\\partial N_1}\\right)_{V_1,U_1} {\\rm d} N_1 \n",
    "$$\n",
    "and\n",
    "$$\n",
    "    {\\rm d} S_2 = \\left( \\frac{\\partial S_2}{\\partial U_2}\\right)_{V_2,N_2} {\\rm d} U_2 +\\left( \\frac{\\partial S_2}{\\partial V_2}\\right)_{U_2,N_2} {\\rm d} V_2 +\\left( \\frac{\\partial S_2}{\\partial N_2}\\right)_{V_2,U_2} {\\rm d} N_2\n",
    "$$\n",
    "Using\n",
    "$$\n",
    "    U_2 = U - U_1 \\to {\\rm d} U_2 = - {\\rm d} U_1\n",
    "$$\n",
    "gives\n",
    "$$\n",
    "    {\\rm d} S_2 = -\\left( \\frac{\\partial S_2}{\\partial U_2}\\right)_{V_2,N_2} {\\rm d} U_1 -\\left( \\frac{\\partial S_2}{\\partial V_2}\\right)_{U_2,N_2} {\\rm d} V_1 -\\left( \\frac{\\partial S_2}{\\partial N_2}\\right)_{V_2,U_2} {\\rm d} N_1\n",
    "$$\n",
    "which finally gives\n",
    "\n",
    "\\begin{align}\n",
    "    {\\rm d} S &= \\left[\\left( \\frac{\\partial S_1}{\\partial U_1}\\right)_{V_1,N_1} - \\left( \\frac{\\partial S_2}{\\partial U_2}\\right)_{V_2,N_2}\\right]{\\rm d} U_1 \\\\\n",
    "    &+ \\left[\\left( \\frac{\\partial S_1}{\\partial V_1}\\right)_{U_1,N_1} - \\left( \\frac{\\partial S_2}{\\partial V_2}\\right)_{U_2,N_2}\\right]{\\rm d} V_1\\\\ \n",
    "    &+\\left[\\left( \\frac{\\partial S_1}{\\partial N_1}\\right)_{V_1,U_1} - \\left( \\frac{\\partial S_2}{\\partial N_2}\\right)_{V_2,U_2}\\right]{\\rm d} N_1 =0\n",
    "\\end{align}\n",
    "\n",
    "Since $U_1$, $V_1$, and $N_1$ are all independant, each of terms must go to 0 for equilibrium to be achieved. The first two terms equate to saying that both phases must be at the same temperature and pressure (refer to the definition of entropy in Lecture 5 if this isn't clear). The last term implies that\n",
    "$$\n",
    "    \\left( \\frac{\\partial S_1}{\\partial N_1}\\right)_{V_1,U_1} = \\left( \\frac{\\partial S_2}{\\partial N_2}\\right)_{V_2,U_2}\n",
    "$$\n",
    "is the condition for particle equilibrium. If we now define the chemical potential as\n",
    "$$\n",
    "    \\mu_i = -T_i \\left( \\frac{\\partial S_i}{\\partial N_i}\\right)_{V_i,U_i}\n",
    "$$\n",
    "then the condition becomes\n",
    "$$\n",
    "    \\mu_1 = \\mu_2.\n",
    "$$\n",
    "So how are we to interpret the chemical potential? Consider a system that is not in equilibrium. The phase with a larger $\\left( \\frac{\\partial S_i}{\\partial N_i}\\right)$ will tend to gain particles (as this maximises entropy) - but because $\\mu$ is proportional to the negative of this quantity, this means that this phase has a smaller chemical potential - so particles flow from a phase of higher $\\mu$ to one with a lower $\\mu$."
   ]
  },
  {
   "cell_type": "markdown",
   "id": "e8e409a0-ac66-4aa9-8fd9-ffefe3484ecf",
   "metadata": {},
   "source": [
    "So what does this do to the fundamental thermodynamic relation? Consider again\n",
    "$$\n",
    "    {\\rm d} S = \\left( \\frac{\\partial S}{\\partial U}\\right)_{V,N} {\\rm d} U +\\left( \\frac{\\partial S}{\\partial V}\\right)_{U,N} {\\rm d} V +\\left( \\frac{\\partial S}{\\partial N}\\right)_{V,U} {\\rm d} N.\n",
    "$$\n",
    "Using our known substitutions, we get \n",
    "$$\n",
    "    {\\rm d} S = \\frac{1}{T} {\\rm d} U +\\frac{1}{T} P {\\rm d} V - \\frac{1}{T} \\mu {\\rm d} N.\n",
    "$$\n",
    "Tidying up gives\n",
    "$$\n",
    "    {\\rm d} U = T {\\rm d} S - P {\\rm d} V + \\mu {\\rm d} N.\n",
    "$$\n",
    "From this, we can express $\\mu$ in terms of $U$ as \n",
    "$$\n",
    "    \\mu = \\left( \\frac{ \\partial U }{ \\partial N} \\right)_{S,V} \n",
    "$$\n",
    "which is not altogether useful, as both $S$ and $V$ are hard to keep constant. Modifying either the Helmholtz free energy or the Gibbs free energy to account for this change to the fundamental thermodynamic relation thus gives\n",
    "\n",
    "\\begin{align}\n",
    "    {\\rm d} F &= - P {\\rm d} V - S {\\rm d} T + \\mu {\\rm d} N. \\\\\n",
    "    {\\rm d} G &= V {\\rm d} P - S {\\rm d} T + \\mu {\\rm d} N. \\\\\n",
    "\\end{align}\n",
    "\n",
    "which leads to\n",
    "\n",
    "\\begin{align}\n",
    "    \\mu &= \\left( \\frac{ \\partial F }{ \\partial N} \\right)_{V,T}\\\\ \n",
    "    \\mu &= \\left( \\frac{ \\partial G }{ \\partial N} \\right)_{P,T} \n",
    "\\end{align}\n",
    "\n",
    "In the case we are considering of single component system (remember, this is us saying that we only have one type of particle in the system, like a system containg just water molecules), then the Gibbs free energy depends on N, the particle number, such that\n",
    "$$\n",
    "    G(T,P,N) = N\\; G(T,P,1) = N g(T,P)\n",
    "$$\n",
    "where\n",
    "$$\n",
    "    g(T,P) = \\frac{G(T,P,N)}{N}\n",
    "$$\n",
    "is the Gibbs free energy per particle. From above, this then means that we can write the chemical potential for a single component, homogenous system as\n",
    "$$\n",
    "    \\mu = g(T,P).\n",
    "$$\n",
    "Finally, this means that for a two phase, single component system, where each phase is homogenous, we require that\n",
    "$$\n",
    "    g_1(T,P) = g_2(T,P)\n",
    "$$\n",
    "This condition defines a curve in the $(P,T)$ plane. For any combination of temperature and pressure which lie on the curve, the phases are in equilibrium, while for any points that lie off of the curve, they are not.\n",
    "\n",
    "A simple example of this is shown below. In this, 1 and 2 define the regions in which $g_1 < g_2$ and $g_2 < g_1$ respectively.\n",
    "\n",
    "![TPCurve](Figures/Gibbs_Free_Energy.png)\n",
    "\n",
    "If $N_1$ and $N_2$ are the number of molecules in phases 1 and 2 respectively, then the Gibbs free energy of the system is\n",
    "$$\n",
    "    G = N_1 g_1(T,P)+N_2 g_2(T,P)\n",
    "$$\n",
    "For a system at a pressure and temperature given by point A in the figure above, $g_1<g_2$, and so the Gibbs free energy is minimised if all of the substance is in phase 1. Similar logic applies to point B, where $G$ is a minimum if all of the substance is in phase 2. Thus, the curve divides the $(P, T)$ plane into regions where one or other phase represents the stable equilibrium state.\n",
    "\n",
    "It is only along the curve that the phases can coexist in equilibrium - as such, this curve is called a **phase equilibrium curve**. This curve has a different name depending on which 2 phases are being discussed:\n",
    "\n",
    "* If the two phases are liquid and vapour, it's a vapour pressure curve.\n",
    "* If the two phases are liquid and solid, it's a melting curve.\n",
    "* If the two phases are vapour and solid, it's a sublimation curve.\n",
    "\n",
    "Let's now briefly consider what happens for a 3 phase system. The equilibrium condition for such a system is given by\n",
    "$$\n",
    "    g_1(T,P) = g_2(T,P) = g_3(T,P)\n",
    "$$\n",
    "Rather than just describing a curve, this condition describes the intersection of two curves, with the intersection point known as the triple point. A simple curve is plotted below as an example, but I recommend looking up the curve for water to get an idea of the full complexity of such a graph. The triple point of water occurs at a temperature and pressure of (611.567 Pa, 273.16 K).\n",
    "\n",
    "![TPCurve](Figures/Triple_Phase.png)"
   ]
  },
  {
   "cell_type": "code",
   "execution_count": null,
   "id": "b6085078-0b86-4eac-b035-61933f3d2323",
   "metadata": {},
   "outputs": [],
   "source": []
  }
 ],
 "metadata": {
  "kernelspec": {
   "display_name": "Python 3 (ipykernel)",
   "language": "python",
   "name": "python3"
  },
  "language_info": {
   "codemirror_mode": {
    "name": "ipython",
    "version": 3
   },
   "file_extension": ".py",
   "mimetype": "text/x-python",
   "name": "python",
   "nbconvert_exporter": "python",
   "pygments_lexer": "ipython3",
   "version": "3.11.10"
  }
 },
 "nbformat": 4,
 "nbformat_minor": 5
}
