{
 "cells": [
  {
   "cell_type": "markdown",
   "id": "8ed6f8f7-c1bd-44d6-86e4-ee1b481f024a",
   "metadata": {},
   "source": [
    "# The Clausius-Clapyeron equation"
   ]
  },
  {
   "cell_type": "markdown",
   "id": "5d9b9c0e-17f9-4564-921a-e20a53770ff5",
   "metadata": {},
   "source": [
    "At the end of the last lecture, we arrived at a relation for the gradient of the phase equilibrium curve in terms of entropy and volume:\n",
    "$$\n",
    "    \\frac{{\\rm d} P}{{\\rm d} T} = \\frac{\\Delta S}{\\Delta V}\n",
    "$$\n",
    "\n",
    "This equation relates the change in entropy and change in volume of a component at different pressures and temperatures which lie along the phase equilibrium curve. In order better understand this expression, consider two phases of a 1 component system which are in thermodynamic equilibrium with each other at a temperature of $T$. In order to convert any of the component from phase 1 to phase 2, a **latent heat** must be added. This represents the difference in entropy between the 2 phases, and is given by\n",
    "$$\n",
    "    L_{1,2} = T \\left(S_2-S_1\\right) = T \\Delta S.\n",
    "$$\n",
    "This allows us to write the Clasius-Clapyeron equation as\n",
    "$$\n",
    "    \\frac{{\\rm d} P}{{\\rm d} T} = \\frac{L_{1,2}}{T \\Delta V}\n",
    "$$\n",
    "It's useful to point out at this stage that, because we cancelled a $N_i$ (particle number in phase i) in the last lecture to arrive at this expression, then $L_{1,2}$ and $\\Delta V$ must refer to the same amount of substance - that is, if $L_{1,2}$ is given for 1 mole of a substance, then $\\Delta V$ should be the volume change of 1 mole.\n",
    "\n",
    "Immediately, some useful information can be drawn from this equation. First, for melting, evaportion, or sublimation, the entropy changes are positive (during these processes, we are going from more-ordered to less ordered states). \n",
    "\n",
    "Second, when going from a solid or a liquid to a gas, the density decreases, which means the volume increases. As such, $\\frac{{\\rm d} P}{{\\rm d} T}$ is positive for the vapour-pressure and sublimation curves. \n",
    "\n",
    "For melting, things get a bit more complicated. **Most** substances expand when they melt, and for such substances $\\frac{{\\rm d} P}{{\\rm d} T}$ is also positive for melting. However, some substances (such as water) contract when they melt (which is of course why ice floats and is due to the unusual shape of water molecules). For these substances, $\\frac{{\\rm d} P}{{\\rm d} T}$ is negative for melting."
   ]
  },
  {
   "cell_type": "markdown",
   "id": "e21c8c1b-16e5-4104-a548-ed83cb5e0abc",
   "metadata": {},
   "source": [
    "## Examples"
   ]
  },
  {
   "cell_type": "markdown",
   "id": "8674bc0d-7194-440d-9254-2f949656f740",
   "metadata": {},
   "source": [
    "### Pressure dependence of melting point of water\n",
    "\n",
    "First, let us consider the phase equilibrium curve for ice and liquid water at 0$^{\\rm o}$ C. In order to work with the Clausius-Clapyeron equation, we need\n",
    "\n",
    "* The latent heat of fusion for water at 0$^{\\rm o}$ C: $L_{1,2}=3.35 \\times 10^5$ J/kg\n",
    "* The volumes per gram in the solid and liquid phases at 0$^{\\rm o}$ C, which are: $V_1=1.09070$ cm$^{3}$/g and $V_2=1.00013$ cm$^{3}$/g respectively.\n",
    "\n",
    "From this, we have that $\\Delta V=-0.0906 \\times 10^{-3}$ m$^{3}$/kg. This gives that\n",
    "$$\n",
    "    \\frac{{\\rm d} P}{{\\rm d} T} = \\frac{3.35 \\times 10^5}{(273.15)(-0.0906 \\times 10^{-3})} = -1.35 \\times 10^7 \\: {\\rm N} \\: {\\rm m^{-2}} \\: {\\rm K^{-1}}.\n",
    "$$\n",
    "Knowing that $1.01325\\times 10^5\\: {\\rm N} \\: {\\rm m^{-2}} = 1.01325\\times 10^5\\: {\\rm Pa}= 1 \\: {\\rm atm}$, we can write this as \n",
    "$$\n",
    "    \\frac{{\\rm d} P}{{\\rm d} T} = -134 \\: {\\rm atm} \\: {\\rm K^{-1}}\n",
    "$$\n",
    "This means that the melting point decreases by 1$^{\\rm o}$ when the pressure is increased by $134$ atmospheres. This decrease is also what allows for glaciers to move. At their base, the high pressure due to the weight of the ice above the base lowers the melting point, meaning the base of the glacier becomes a liquid on which the glacier can move.\n",
    "\n",
    "### Pressure dependence of boiling point of water\n",
    "\n",
    "Ok, let us now consider liquid water and water vapour. For this, we need \n",
    "\n",
    "* The latent heat of vapourisation for water at 100$^{\\rm o}$ C: $L_{1,2}=2.257 \\times 10^6$ J/kg\n",
    "* The volumes per gram in the solid and liquid phases at 100$^{\\rm o}$ C, which are: $V_1=1.043$ cm$^{3}$/g and $V_2=1,673$ cm$^{3}$/g respectively.\n",
    "\n",
    "Thus we get\n",
    "$$\n",
    "    \\frac{{\\rm d} P}{{\\rm d} T} = \\frac{2.257 \\times 10^6}{(373.15)(1.672)} = 3.62 \\times 10^3 \\: {\\rm N} \\: {\\rm m^{-2}} \\: {\\rm K^{-1}}.\n",
    "$$\n",
    "\n",
    "So, if we were at the peak of Mt. Everest, which is at a pressure of $3.6 \\times 10 ^ 4\\: {\\rm N} \\: {\\rm m^{-2}}$, then the change in pressure relative to 1 atmosphere is\n",
    "$$\n",
    "    \\Delta P = -6.5\\times10^4 \\: {\\rm N} \\: {\\rm m^{-2}}\n",
    "$$\n",
    "The change in the temperature at which water boils is thus\n",
    "$$\n",
    "    \\Delta T = - \\frac{65\\times10^4}{3.62\\times10^4} = -18^{\\rm o}\n",
    "$$\n",
    "Meaning water boils at $82^{\\rm o}$ at this altitude.\n",
    "\n",
    "### Approximating the vapour pressure curve\n",
    "When dealing with the vapour pressure curve (that is, liquid and vapour in equilibrium with each other), the following approximate treatment can be used. First, we shall assume that the volume of the substance in the vapour phase is much larger than in the liquid phase (a quick look at the numbers for water should convince you this is true, where the difference is 3 orders of magnitude). As such\n",
    "$$\n",
    "    \\Delta V = V_2-V_1 \\approx V_2\n",
    "$$\n",
    "Second, let's assume that when in a vapour form, the substance behaves like an ideal gas. As such, for one mole\n",
    "$$\n",
    "    P V_2 = R T\n",
    "$$\n",
    "This further gives that\n",
    "$$\n",
    "    \\frac{{\\rm d} P}{{\\rm d} T} = \\frac{L_{1,2}}{T \\Delta V} \\approx \\frac{L_{1,2}}{T V_2} = \\frac{P L_{1,2}}{R T^2}\n",
    "$$\n",
    "Assuming we are interested in water, then at waters usual boiling point at atmospheric pressure, we get\n",
    "$$\n",
    "    \\frac{{\\rm d} P}{{\\rm d} T} = 3.56 \\times 10^3 \\: {\\rm N} \\: {\\rm m^{-2}} \\: {\\rm K^{-1}}\n",
    "$$\n",
    "which is pretty close to what we got using actual values for the measured volume in the previous section (which tells us that vapour isn't a million miles away from behaving like an ideal gas!). \n",
    "\n",
    "This approxmiation also has another use. If the latent heat is assumed to be temperature independant, then we can integrate the above expression to get\n",
    "\\begin{align}\n",
    "    \\frac{1}{P} {\\rm d} P &= \\frac{L_{1,2}}{R T^2} {\\rm d} T\\\\\n",
    "    \\int \\frac{1}{P} {\\rm d} P &= \\int \\frac{L_{1,2}}{R T^2} {\\rm d} T\\\\\n",
    "    \\ln (P) + {\\rm const} &= -\\frac{1}{2}\\frac{L_{1,2}}{R T}\\\\\n",
    "    P &= {\\rm const} . \\exp\\left({-\\frac{L_{1,2}}{2 R T}}\\right)\\\\\n",
    "\\end{align}\n",
    "\n",
    "Note that in the above, we've worked this out for 1 mole. If you want to do different masses, you just need to add the term\n",
    "$$\n",
    "    P = {\\rm const} . \\exp\\left({-\\frac{M L_{1,2}}{2 R T}}\\right)\n",
    "$$\n",
    "where M is the gram-molecular weight. Gram-molecular weight is an easy thing to compute. Hydrogren has a gram-molecular weight of 1 (that is, 1 mole weighs 1 gram). Water has a gram molecular weight of 18 (that is, 18 grams per mole) as each molecule has 2 hydrogen and one oxygen atom, and oxygen has a gram-molecular weight of 16."
   ]
  },
  {
   "cell_type": "markdown",
   "id": "b3c16bc2-0234-445b-bbaa-e7432eb6c2ff",
   "metadata": {},
   "source": [
    "# The critical point"
   ]
  },
  {
   "cell_type": "markdown",
   "id": "a1cbe03d-4dce-4bc6-a8c4-8a4e07cd8a7e",
   "metadata": {},
   "source": [
    "It turns out the vapour pressure curve is a bit more interesting than we've previously drawn it. Consider the below figure, which shows how the latent heat of vapourisation for water changes with respect to temperature (showing that our above assumption that the latent heat is temperature independant is not always appropriate!). The data is from Engineering ToolBox, (2010). Water - Heat of Vaporization vs. Temperature. [online] Available at: https://www.engineeringtoolbox.com/water-properties-d_1573.html [Accessed 10/11/22]. I've saved the data as a .csv file with this notebook, in units of degrees celsius and kW/kg respectively. "
   ]
  },
  {
   "cell_type": "code",
   "execution_count": 1,
   "id": "69c5420b-8c8f-4733-b0ac-2d7369bb2065",
   "metadata": {},
   "outputs": [
    {
     "data": {
      "image/png": "[encoded data removed]",
      "text/plain": [
       "<Figure size 600x450 with 1 Axes>"
      ]
     },
     "metadata": {
      "needs_background": "light"
     },
     "output_type": "display_data"
    }
   ],
   "source": [
    "import numpy as np\n",
    "import pandas as pd\n",
    "import matplotlib.pyplot as plt\n",
    "\n",
    "data = pd.read_csv(\"L_T_water.csv\")\n",
    "plt.figure(figsize=[4,3], dpi=150)\n",
    "plt.plot(data.Temp,data.L)\n",
    "plt.xlabel(r\"T ($^{\\rm o}$ C)\")\n",
    "plt.ylabel(r\"L$_{12}$ (kW/kg)\")\n",
    "plt.xlim(0,373.15)\n",
    "plt.ylim(0,)\n",
    "plt.tight_layout()\n",
    "plt.savefig(\"Figures/Vapourisation_Energy_Time_Water.jpg\")\n",
    "plt.show()"
   ]
  },
  {
   "cell_type": "markdown",
   "id": "13c83987-95d1-459e-8816-d7446940c979",
   "metadata": {},
   "source": [
    "This shows that at 373.946$^{\\rm o}$ C, the latent heat of vapourisation goes to 0! This is known as the critical temperature, and it means that when we draw the pressure vapour curve in a P-T diagram, it stops at the critical point. To really understand what's going on here, we need to move beyond the ideal gas (for the moment!).\n",
    "\n",
    "![TPCurve](Figures/Triple_Phase_CP.png)"
   ]
  }
 ],
 "metadata": {
  "kernelspec": {
   "display_name": "Python 3 (ipykernel)",
   "language": "python",
   "name": "python3"
  },
  "language_info": {
   "codemirror_mode": {
    "name": "ipython",
    "version": 3
   },
   "file_extension": ".py",
   "mimetype": "text/x-python",
   "name": "python",
   "nbconvert_exporter": "python",
   "pygments_lexer": "ipython3",
   "version": "3.8.10"
  }
 },
 "nbformat": 4,
 "nbformat_minor": 5
}
