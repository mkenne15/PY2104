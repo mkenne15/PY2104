{
 "cells": [
  {
   "cell_type": "markdown",
   "id": "a87ee9f6-faac-48c1-91c3-148016b72ae7",
   "metadata": {
    "tags": []
   },
   "source": [
    "# Introduction to Thermodynamics and Statistical Physics"
   ]
  },
  {
   "cell_type": "markdown",
   "id": "fad3d3d7-27cd-4c1b-9527-ce3bcc589030",
   "metadata": {},
   "source": [
    "In this lecture, we are going to continue introducing some topics which are needed to fully explore thermal physics. In particular, we'll cover:\n",
    "\n",
    "* Thermal Equilibrium and the Zeroth Law of Thermodynamics\n",
    "* Thermometers\n",
    "* Microstates versus macrostates\n",
    "* Temperature\n",
    "* Ensembles\n",
    "* Boltzmann distribution"
   ]
  },
  {
   "cell_type": "markdown",
   "id": "d8059623-68a7-49a1-81c9-d022a7097d7d",
   "metadata": {
    "tags": []
   },
   "source": [
    "## Thermal equilibrium"
   ]
  },
  {
   "cell_type": "markdown",
   "id": "bd54e72c-3c28-4804-94ef-fe5544fdaf52",
   "metadata": {},
   "source": [
    "What exactly is temperature? Qualitatively, it is how hot or cold an object is, but this is of course subjective. If we have two bodies, and we know that one with temperature $T_1$ is hotter than one with temperature $T_2$, then we know that $T_1>T_2$.\n",
    "\n",
    "![Thermal Equilibrium](Figures/Thermal_Equilibrium.png)\n",
    "\n",
    "Furthermore, we know that if we bring two bodies into thermal contact with each other, heating (energy in transit) will occur between bodies (shown in b above), and they'll eventually end up with a temperature $T_1>T_{\\rm f}>T_2$ (c). When this is achieved, and there is no net flow between the bodies, they are in **thermal equilibrium**.\n",
    "\n",
    "This process is not reversible. That is, if we have two objects in thermal contact, and they are in thermal equilibrium, we would never expect them to spontaneously to undergo a flow of energy that goes from (c) back to (a). So, this means as a function of time, bodies tend towards thermal equilibrium.\n",
    "\n",
    "Realising this, and also then that if multiple bodies are in thermal equilibrium with each other, then all bodies must be at the same temperature leads us to the Zeroth law of thermodynamics."
   ]
  },
  {
   "cell_type": "markdown",
   "id": "197631ee-b313-460f-b470-39b36a40ad2a",
   "metadata": {},
   "source": [
    "**Zeroth Law of Thermodynamics**\n",
    "\n",
    "Two systems, each separately in thermal equilibrium with a third, are in equilibrium with each other."
   ]
  },
  {
   "cell_type": "markdown",
   "id": "c9ac5e9a-849c-47c1-a8b8-fd3f8b032661",
   "metadata": {},
   "source": [
    "### Application of the Zeroth Law: Thermometers\n",
    "Imagine now we want to measure the temperature of an system. If we bring that system into thermal contact with a device whose thermal properties we know, and wait for them to reach thermal equilibrium, then we know the temperature of the first system. \n",
    "\n",
    "Such devices are called thermometers, and they come in various types:\n",
    "\n",
    "* Liquid thermometers, where the corresponding change in volume of the liquid gives us a change in temperature.\n",
    "* Electric thermometers, where the electrical resistance of the device changes with temperature.\n",
    "\n",
    "The problem with these sorts of thermometers is that their properties (volume, resistance) only depend linearly on temperature within limit temperature ranges (at high temperatures, electrical thermometers melt while liquid thermometers boil for example). So they can't be used to give an absolute definition of temperature which is grounded in fundamental physics. To get this, we are going to need some statistical arguments."
   ]
  },
  {
   "cell_type": "markdown",
   "id": "11c008de-a224-4caf-af69-ef8734d55889",
   "metadata": {},
   "source": [
    "## Microstates versus Macrostates"
   ]
  },
  {
   "cell_type": "markdown",
   "id": "d8ccc017-4d17-45b7-88bc-9a845fdb7558",
   "metadata": {},
   "source": [
    "Imagine we have some  dipoles in a magnetic field. Each dipole contributes an interaction energy of $- \\mu \\cdot B$. Quantum mechanics tells us that there are only specific orientations of the dipole in the magnetic field allowed. This is simplest when the dipoles possess angular momentum of $\\hbar/2$, which is referred to as \"spin 1/2\".\n",
    "\n",
    "The dipoles can thus line up in one of two directions: parallel, or anti-parallel to the magnetic field. This leads to an interaction energy of $\\mp \\mu B$ per dipole. Imagine now we have $N$ dipoles. If $n$ are oriented parallel to the field, then $(N-n)$ must be anti-parallel. Thus, the total energy of the system is given by:\n",
    "\n",
    "$$\n",
    "    E(n) = n(-\\mu B)+(N-n)(\\mu B) = (N-2n)\\mu B\n",
    "$$\n",
    "\n",
    "This means that if we have $N=9$, and $n=7$, we would have an interaction energy of $-6\\mu B$. So why is this interesting?\n",
    "\n",
    "Well, consider examples A and B below. The both have two dipoles which are oriented anti-parallel to the magnetic field, while the other 7 are all in alignment. From a microscopic point of view, the two scenarios are different, as the individual atoms which are anti-parallel are different in both cases. However, from a macroscopic point of view, the interaction energy of both with the magnetic field (which is what we can measure) are the same. These means that a **given macrostate can be described by a large number of equally likely of microstates**.\n",
    "\n",
    "![B_field_dipoles](Figures/B_Field_Dipoles.png)\n",
    "\n",
    "For the above example, there are $2^N$ microstates. The number of microstates which can give the same interaction energy $E(n)$ is\n",
    "$$\n",
    "    \\Omega(n) = \\frac{N!}{n!(N-n)!}\n",
    "$$\n",
    "This is referred to as the statistical weight. It's worth considering exactly what it means - see Section 1.4 of Blundell & Blundell for a more robust discussion of where this term comes from. For the moment, the below plot shows the statistical weight for our above toy problem, where we vary n."
   ]
  },
  {
   "cell_type": "code",
   "execution_count": 1,
   "id": "c24d410d-afdf-4e46-8831-211cf63d66ec",
   "metadata": {},
   "outputs": [
    {
     "data": {
      "image/png": "[encoded data removed]",
      "text/plain": [
       "<Figure size 450x300 with 1 Axes>"
      ]
     },
     "metadata": {
      "needs_background": "light"
     },
     "output_type": "display_data"
    }
   ],
   "source": [
    "import matplotlib.pyplot as plt\n",
    "import numpy as np\n",
    "\n",
    "def stat_weight(n,N):\n",
    "    return np.math.factorial(int(N))/(np.math.factorial(n)*np.math.factorial(int(N-n)))\n",
    "\n",
    "N = 9.0\n",
    "n = np.arange(0,9.1,1)\n",
    "omega = np.zeros_like(n)\n",
    "for i in n:\n",
    "    omega[int(i)] = stat_weight(i,N)\n",
    "plt.figure(figsize=[3,2],dpi=150)\n",
    "plt.plot(n,omega)\n",
    "plt.xlabel(\"n\")\n",
    "plt.ylabel(\"$\\Omega (n)$\")\n",
    "plt.tight_layout()\n",
    "plt.savefig(\"Figures/Stat_weight.png\")\n",
    "plt.show()"
   ]
  },
  {
   "cell_type": "markdown",
   "id": "5ec0f288-58f3-4e0f-9bee-f11c4b02dd7c",
   "metadata": {},
   "source": [
    "What this shows us is that the statistical weight is highest for when $n$ is between 4 and 5. This should make sense as this is when half of the dipoles are oriented parallel to the B field, and half anti-parallel, and so we have the most freedom with placing them in the grid. This also means that the macrostate given by $n=4/5$ is the most probable state to occur, as these macrostates have the largest number of microstates."
   ]
  },
  {
   "cell_type": "markdown",
   "id": "d8330a85-c64d-4355-93f7-6001c096513b",
   "metadata": {},
   "source": [
    "## Temperature"
   ]
  },
  {
   "cell_type": "markdown",
   "id": "1e95943d-944f-4bba-84d4-4a5d3f9b5ad7",
   "metadata": {},
   "source": [
    "We can now use the above expresssion for statistical weight to arrive at a defintion of the temperature of an object. First, let's consider 2 bodies which are in thermal contact.\n",
    "\n",
    "![Stat_Weight](Figures/Temperature_Statistical_Weight.png)\n",
    "\n",
    "For the following, we are going to assume that this is a closed system (that is, we're not losing any energy to the surroundings) and so, at all times, the total energy of the system is given by $E=E_1+E_2$. As such, all we need to do is specify $E_1$ and the macrostate of the system will be determined. \n",
    "The first system can be in any one of $\\Omega_1(E_1)$ microstates and the second system can be in any one of $\\Omega_2(E_2)$ microstates. Thus, the system as a whole can be in any number of $\\Omega_1(E_1) \\Omega_2(E_2)$ microstates.\n",
    "\n",
    "Now, if we let the system reach thermal equilibrium, then the system will appear to be in the macrostate which maximises the number of microstates (consider the above graph to convince yourself of this). As such, the most probable division of energy between the two systems is the one which maximises $\\Omega_1(E_1) \\Omega_2(E_2)$. So we end up with\n",
    "$$\n",
    "\\frac{{\\rm d}}{{\\rm d}E_1} \\left(\\Omega_1(E_1) \\Omega_2(E_2)\\right) = 0\n",
    "$$\n",
    "This gives\n",
    "$$\n",
    "\\Omega_2(E_2) \\frac{{\\rm d} \\Omega_1(E_1) }{{\\rm d}E_1} + \\Omega_1(E_1) \\frac{{\\rm d} \\Omega_2(E_2) }{{\\rm d}E_2} \\frac{{\\rm d} E_2 }{{\\rm d}E_1} = 0\n",
    "$$\n",
    "Now recalling that $E=E_1+E_2$ and is fixed gives ${\\rm d}E_1=-{\\rm d}E_2$, which in turn gives $\\frac{{\\rm d}E_1}{{\\rm d}E_2}=-1$. This simplifies our above expression to\n",
    "$$\n",
    "\\frac{1}{\\Omega_1} \\frac{{\\rm d} \\Omega_1}{{\\rm d} E_1} - \\frac{1}{\\Omega_2} \\frac{{\\rm d} \\Omega_2}{{\\rm d} E_2} = 0\n",
    "$$\n",
    "from which we get\n",
    "$$\n",
    "    \\frac{{\\rm d ln} \\Omega_1}{{\\rm d} E_1} = \\frac{{\\rm d ln} \\Omega_2}{{\\rm d} E_2}\n",
    "$$\n",
    "This condition defines the most likely division of energy between the objects which we would call \"being at the same temperature\". As such, we can now define\n",
    "$$\n",
    "    \\frac{1}{k_{\\rm B}T} = \\frac{{\\rm d ln} \\Omega}{{\\rm d} E}\n",
    "$$\n",
    "where the choice of $k_{\\rm B}T$ will be motivated later."
   ]
  },
  {
   "cell_type": "markdown",
   "id": "21ba4a4b-ad54-4ca4-afba-f907666961b1",
   "metadata": {},
   "source": [
    "## Ensembles"
   ]
  },
  {
   "cell_type": "markdown",
   "id": "a3e5a5ea-5d32-488a-b7d4-86484cea4a0d",
   "metadata": {},
   "source": [
    "In order to make use of this definition for temperature, we are going to use an ensemble. The motivation for this is that we will imagine a system whos properties we measure by conducting repeated identical experiments on, such that we can average over variations due to the systems microscopic properties. There are three main types of ensembles we shall encounter in our studies:\n",
    "\n",
    "* **The microcanonical ensemble**: an ensemble of systems that all have the same fixed energy.\n",
    "* **The canonical ensemble**: an ensemble of systems, each of which can exchange energy freely with a large reservoir of energy.\n",
    "* **The grand canonical ensemble**: an ensemble of systems, each of which can exchange energy and particles freely with a large reservoir."
   ]
  },
  {
   "cell_type": "code",
   "execution_count": null,
   "id": "d61d2e5c-ed92-4633-a2bd-6230547e3c1a",
   "metadata": {},
   "outputs": [],
   "source": []
  }
 ],
 "metadata": {
  "kernelspec": {
   "display_name": "Python 3 (ipykernel)",
   "language": "python",
   "name": "python3"
  },
  "language_info": {
   "codemirror_mode": {
    "name": "ipython",
    "version": 3
   },
   "file_extension": ".py",
   "mimetype": "text/x-python",
   "name": "python",
   "nbconvert_exporter": "python",
   "pygments_lexer": "ipython3",
   "version": "3.11.9"
  }
 },
 "nbformat": 4,
 "nbformat_minor": 5
}
