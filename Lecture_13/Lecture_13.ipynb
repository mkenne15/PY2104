{
 "cells": [
  {
   "cell_type": "markdown",
   "id": "7424ca53-a7a8-4266-9846-a4cfec3f4118",
   "metadata": {
    "tags": []
   },
   "source": [
    "# Introduction to Thermodynamics and Statistical Physics"
   ]
  },
  {
   "cell_type": "markdown",
   "id": "b43aa3f3-872e-4206-bc73-b268607457c7",
   "metadata": {},
   "source": [
    "In this lecture, we are going to discuss:\n",
    "\n",
    "* Density of States.\n",
    "* Distinguishability."
   ]
  },
  {
   "cell_type": "markdown",
   "id": "8c15039d-e0c2-426c-af69-151e694b48f0",
   "metadata": {},
   "source": [
    "## Density of States"
   ]
  },
  {
   "cell_type": "markdown",
   "id": "09da38f7-5457-4bf4-9539-138ddae9fb63",
   "metadata": {},
   "source": [
    "In order to derive the equation of state of an ideal gas from statistical mechanics, we require a few results from quantum mechanics, and a more general discussion on the partition function. The first thing we need to do is to figure out what the allowed states are for an ideal gas, as we need this for the partition function.\n",
    "\n",
    "Imagine a cube with dimensions $L\\times L \\times L$ and a volume of $V$, filled with a gas. Each molecule in the gas will have a mass $m$ and momentum ${\\bf p}$. For convenience, we are going to use the parameter ${\\bf k}=\\frac{{\\bf p}}{\\hbar}$, which is also known as the wave vector.\n",
    "\n",
    "The result we require from quantum mechanics is that the solution to the Schrodinger equation for a particle which is trapped in a box is\n",
    "$$\n",
    "    \\psi (x,y,z) = \\left(\\frac{2}{L}\\right)^{3/2} \\sin (k_x x)\\sin (k_y y)\\sin (k_z z)\n",
    "$$\n",
    "\n",
    "The leading factor here is a normalising factor such that $\\int |\\psi|^2 = 1$. Ok, now we are going to impose that the particles must be inside of the box. This means that the wave equation must go to 0 at the boundaries of our cube ($x=0$,$x=L$,$y=0$,$y=L$,$z=0$,$z=L$). This occurs when\n",
    "$$\n",
    "    k_x = \\frac{n_x \\pi}{L}, \\: \\: \\: k_y = \\frac{n_y \\pi}{L}, \\: \\: \\: k_z = \\frac{n_z \\pi}{L}\n",
    "$$\n",
    "where $n_x,n_y, n_z$ are all positive integers. This means that every state that a particle can exist in within the box can be specified by a triplet of integers. As such, we can represent these states in three-dimensional k-space. The distance between a given point and a point in any other direction is thus $\\pi / L$. To really see this, imagine we were doing this in two dimensions instead of three.\n",
    "\n",
    "Back in 3 dimensions, this means that a single point in k-space occupies a volume of\n",
    "$$\n",
    "    \\frac{\\pi}{L}\\times\\frac{\\pi}{L}\\times\\frac{\\pi}{L} = \\left(\\frac{\\pi}{L}\\right)^3\n",
    "$$\n",
    "\n",
    "Now, let's say we have a wave vector of magnitude $k=|{\\bf k}|$. The number of allowed states with a wave vector whose magnitude lies between $k$ and $k+{\\rm d}k$ lie within one octant of a spherical shell shell of radius $k$ and thickness $k+{\\rm d}k$ (where we are only concerned with 1 octant as we are only allowing $k_x,k_y,k_z$ to be positive).  The volume occupied by this shell is\n",
    "$$\n",
    "    \\frac{1}{8} 4\\pi k^2 {\\rm d} k\n",
    "$$\n",
    "![DoS](Figures/Density_of_States.png)\n",
    "\n",
    "As such, the number of allowed states with a wave vector whose magnitude lies between $k$ and $k+{\\rm d} k$ is given by $g(k){\\rm d}k$ where $g(k)$ is the density of states. This number of states is given by\n",
    "$$\n",
    "    g(k){\\rm d}k = \\frac{{\\rm volume\\;in\\;k-space\\;of\\;one\\;octant\\;of\\;the\\;spherical\\;shell}}{{\\rm volume\\;in\\;k-space\\;occupied\\;per\\;allowed\\;state}}\n",
    "$$\n",
    "This implies that\n",
    "$$\n",
    "    g(k){\\rm d}k = \\frac{1}{8}\\frac{4\\pi k^2 {\\rm d} k}{(\\pi/L)^3} = \\frac{V k^2 {\\rm d} k}{2\\pi^2}\n",
    "$$"
   ]
  },
  {
   "cell_type": "markdown",
   "id": "3d3d4bf5-7cd7-4562-afc8-b6ab843a95d0",
   "metadata": {},
   "source": [
    "## Quantum Concentration"
   ]
  },
  {
   "cell_type": "markdown",
   "id": "83cee05e-3dd2-4955-bd10-4a5474703c26",
   "metadata": {},
   "source": [
    "Now, the partition function for a single particle in an ideal gas is given by\n",
    "$$\n",
    "    Z_1 = \\int_0 ^\\infty {\\rm e}^{-\\beta E(k)} g(k) {\\rm d}{k}\n",
    "$$\n",
    "where the energy of a single particle with wave vector $k$ is given by\n",
    "$$\n",
    "    E(k) = \\frac{\\hbar^2 k^2}{2m}\n",
    "$$\n",
    "Substituting for $E$ and $g$ now gives\n",
    "$$\n",
    "    Z_1 = \\int_0 ^\\infty {\\rm e}^{-\\beta \\frac{\\hbar^2 k^2}{2m}} \\frac{V k^2 }{2\\pi^2} {\\rm d}{k} = \\frac{V}{\\hbar^3} \\left(\\frac{mk_{\\rm B}T}{2\\pi}\\right)^{3/2}\n",
    "$$\n",
    "which is more easily written as\n",
    "$$\n",
    "    Z_1 = V n_{\\rm Q}\n",
    "$$\n",
    "where $n_{\\rm Q}$ is known as the quantum concentration, and is given by \n",
    "$$\n",
    "    n_{\\rm Q} = \\frac{1}{\\hbar^3} \\left(\\frac{mk_{\\rm B}T}{2\\pi}\\right)^{3/2}\n",
    "$$\n",
    "We can now define what is known as the **thermal wavelength** as \n",
    "$$\n",
    "    \\lambda_{\\rm th} = 1/n_{\\rm Q}^{1/3} = \\frac{h}{\\sqrt{2\\pi m k_{\\rm B} T}}\n",
    "$$\n",
    "which also means that the partition function is given by\n",
    "$$\n",
    "    Z_1 = \\frac{V}{\\lambda_{\\rm th}^3}\n",
    "$$"
   ]
  },
  {
   "cell_type": "markdown",
   "id": "dcc58be0-d8ee-4922-990d-bf14525a521b",
   "metadata": {},
   "source": [
    "## Distinguishability"
   ]
  },
  {
   "cell_type": "markdown",
   "id": "f02a6cd4-aaf7-4f79-8a4e-aaa13ca61bdb",
   "metadata": {},
   "source": [
    "So now that we know what the partition function is for a single particle, we need to derive what it is for the entire system. First, let's say that each particle can have energies\n",
    "$$\n",
    "    \\epsilon_1 \\leq \\epsilon_2 \\leq \\epsilon_3...\\leq\\epsilon_r \\leq ...\n",
    "$$\n",
    "with each energy level being discrete (which again is a results from quantum mechanics). Now if the gas has N particles at temperature T and within volume V, then we will say that \n",
    "\n",
    "* $n_1$ are in state $\\epsilon_1$\n",
    "* $n_2$ are in state $\\epsilon_2$\n",
    "\n",
    "etc. As such, $n_r$ is our occupation number. The energy must then be\n",
    "$$\n",
    "    U = \\sum_r n_r \\epsilon_r\n",
    "$$\n",
    "and\n",
    "$$\n",
    "    N = \\sum_r n_r\n",
    "$$\n",
    "For one particle in this system, the partition function is\n",
    "$$\n",
    "    Z_1 = \\sum_r {\\rm e}^{-\\beta \\epsilon_r}\n",
    "$$\n",
    "When we considered paramagntism, we simply said that\n",
    "$$\n",
    "    Z = Z_1^N\n",
    "$$\n",
    "However, this is only true because the particles were distinguishable. In this case, we have no way of telling one particle from another, which means this is not true for indistinguishable particles. Let's look at this in detail.\n",
    "\n",
    "Imagine there are 3 particles:\n",
    "$$\n",
    "    Z_3 \\propto \\sum_q {\\rm e}^{-\\beta \\epsilon_q} \\sum_r {\\rm e}^{-\\beta \\epsilon_r} \\sum_s {\\rm e}^{-\\beta \\epsilon_s}\n",
    "$$\n",
    "(which is just a product of the individual partition functions for each of the particles). Rewriting gives \n",
    "$$\n",
    "    Z_3 \\propto \\sum_q \\sum_r \\sum_s {\\rm e}^{-\\beta (\\epsilon_q+\\epsilon_r+\\epsilon_s)}\n",
    "$$\n",
    "Regrouping terms for clarity this becomes\n",
    "$$\n",
    "    Z_3 \\propto \\sum_r {\\rm e}^{-3 \\beta (\\epsilon_r)} + (\\sum_r\\sum_s)_{r \\neq s} {\\rm e}^{- \\beta (2 \\epsilon_r + \\epsilon_s)} + (\\sum_r\\sum_s\\sum_q)_{r \\neq s \\neq q} {\\rm e}^{- \\beta (\\epsilon_r + \\epsilon_s+ \\epsilon_q)}\n",
    "$$\n",
    "where the first term accounts for all 3 particles being in the same state, the second accounts for 2 particles in same state, and the last accounts for all particles in different states. Now we must find the appropriate normalisation coefficients, so that we don't want to count the same state more than once.\n",
    "\n",
    "* The first term has a coefficient of 1: there is only 1 way to put all three particles in the same state.\n",
    "\n",
    "![Term_1](Figures/Energy_levels_all_in_one.png)\n",
    "\n",
    "* The second term has a coefficient of 1/3: There are three possibilities to have one particle in one state and the other two particles in the same, different state. Note that we always have to have 2 particles in level $\\epsilon_r$ because of how we have grouped the terms in the previous equation.\n",
    "\n",
    "![Term_2](Figures/Energy_levels_two_in_one_one_in_other.png)\n",
    "\n",
    "* The third term has a coefficient of 1/3!: particle 1 is in 1 state of any 3 states, particle 2 is then in 1 state of the remaining 2 states, and particle 3 then has to be in the last available state = (3x2x1 = 3!).\n",
    "\n",
    "![Term_3](Figures/Energy_levels_all_diff.png)\n",
    "\n",
    "Thus,\n",
    "$$\n",
    "    Z_3 = \\sum_r {\\rm e}^{-3 \\beta (\\epsilon_r)} + \\frac{1}{3}(\\sum_r\\sum_s)_{r \\neq s} {\\rm e}^{- \\beta (2 \\epsilon_r + \\epsilon_s)} + \\frac{1}{3!}(\\sum_r\\sum_s\\sum_q)_{r \\neq s \\neq q} {\\rm e}^{- \\beta (\\epsilon_r + \\epsilon_s+ \\epsilon_q)}\n",
    "$$"
   ]
  },
  {
   "cell_type": "markdown",
   "id": "a7bd298a-4b5e-4785-94dd-0f8282bf7e41",
   "metadata": {},
   "source": [
    "## Distinguishability"
   ]
  },
  {
   "cell_type": "markdown",
   "id": "c5afb4fa-ae5e-4b65-84ec-ad5fde939a4b",
   "metadata": {},
   "source": [
    "In the last lecture, we discussed the partition function in the case of a 3 particle system. Let's now generalise it to $N$ particles.\n",
    "So to generalise this to $N$ particles:\n",
    "$$\n",
    "    Z = \\sum_r {\\rm e}^{-N \\beta (\\epsilon_r)} + ... + \\frac{1}{N!} (\\sum_{r_1} ...\\sum_{r_n})_{{r1} \\neq ... \\neq {rn}} {\\rm e}^{- \\beta (\\epsilon_{r1}+...+ \\epsilon_{rn})}\n",
    "$$\n",
    "where the $...$ represent terms where we have multiple particles in different states. Now, we make an important assumption: the number of states in a given energy interval is much larger than the number of particles with an energy in that interval. In the classical regime, the probability that any state r is occupied by more than one particle is very low. This means only the last term is significantly different from 0.\n",
    "\n",
    "The partition function then becomes\n",
    "\\begin{align}\n",
    "    Z &= \\frac{1}{N!} \\sum_{r_1} ...\\sum_{r_n} {\\rm e}^{- \\beta (\\epsilon_{r1}+...+ \\epsilon_{rn})}\\\\\n",
    "    Z &= \\frac{1}{N!} \\sum_{r_1} {\\rm e}^{- \\beta \\epsilon_{r1}}...\\sum_{r_N} {\\rm e}^{- \\beta \\epsilon_{rn}}\\\\\n",
    "    Z &= \\frac{1}{N!} \\left(\\sum_{r_1} {\\rm e}^{- \\beta \\epsilon_{r1}}\\right)^N\\\\\n",
    "    Z &= \\frac{1}{N!} Z_1^N\n",
    "\\end{align}\n",
    "\n",
    "This is true for the perfect, classical gas. Here, perfect means the particles are weakly/non-interacting (which let's us to write down the energies as $\\epsilon_1 \\leq \\epsilon_2 \\leq \\epsilon_3...\\leq\\epsilon_r \\leq ...$), and classical means there is a very low probability that there are multiple particles in any state. When is this last condition valid?\n",
    "\n",
    "There will only be one particle occupying each state if the system is in a regime where the number of states is much larger than the number of particles. For an ideal gas, this means we require that the number of thermally accessible states is larger than the number of particles. As such, we require that the number density of molecules be much less than the quantum concentration:\n",
    "$$\n",
    "    n<<n_{\\rm Q}\n",
    "$$"
   ]
  },
  {
   "cell_type": "code",
   "execution_count": null,
   "id": "58365fe9-8ebc-41f7-a0b3-7f6574a955d8",
   "metadata": {},
   "outputs": [],
   "source": []
  }
 ],
 "metadata": {
  "kernelspec": {
   "display_name": "Python 3 (ipykernel)",
   "language": "python",
   "name": "python3"
  },
  "language_info": {
   "codemirror_mode": {
    "name": "ipython",
    "version": 3
   },
   "file_extension": ".py",
   "mimetype": "text/x-python",
   "name": "python",
   "nbconvert_exporter": "python",
   "pygments_lexer": "ipython3",
   "version": "3.11.9"
  }
 },
 "nbformat": 4,
 "nbformat_minor": 5
}
