{
 "cells": [
  {
   "cell_type": "markdown",
   "id": "72c8af0a-c3db-4571-85a5-44cd19ab9208",
   "metadata": {
    "tags": []
   },
   "source": [
    "# Introduction to Thermodynamics and Statistical Physics"
   ]
  },
  {
   "cell_type": "markdown",
   "id": "d4d593e4-c975-4577-8743-869bfa076ff4",
   "metadata": {},
   "source": [
    "In this lecture, we are going to discuss:\n",
    "\n",
    "* Applications of the energy equipartition theorem.\n",
    "* The partition function."
   ]
  },
  {
   "cell_type": "markdown",
   "id": "861e3316-370e-43cd-ad7e-24025c014e1e",
   "metadata": {
    "tags": []
   },
   "source": [
    "## Applications of Equipartition of Energy\n",
    "\n",
    "**Vibrational energy in a diatomic gas**: Now imagine that same gas, but where the bond is no longer rigid, but instead acts like a spring with spring constant k. This adds gives another 2 terms:\n",
    "$$\n",
    "    \\frac{1}{2}\\mu ({\\bf \\dot{r_1}-\\dot{r_2}})^2 + \\frac{1}{2} k (|{\\bf \\dot{r_1}-\\dot{r_2}}|-l_0)^2\n",
    "$$\n",
    "where k is an imagined spring constant, $l_0$ is the equilibrium molecular bond length, and $\\mu$ is the reduced mass of the system. This means the total energy is \n",
    "$$\n",
    "    E = \\frac{1}{2} mv_x^2+\\frac{1}{2} mv_y^2+\\frac{1}{2} mv_z^2+\\frac{L_1^2}{2I_1} + \\frac{L_2^2}{2I_2}+\\frac{1}{2}\\mu ({\\bf \\dot{r_1}-\\dot{r_2}})^2 + \\frac{1}{2} k (|{\\bf \\dot{r_1}-\\dot{r_2}}|-l_0)^2\n",
    "$$\n",
    "and thus\n",
    "$$\n",
    "    <E> = \\frac{7}{2} k_{\\rm B} T\n",
    "$$\n",
    "![Entropy_of_mixing](Figures/Diatomic_Vibration.png)"
   ]
  },
  {
   "cell_type": "markdown",
   "id": "03cfd75f-874b-4f85-8d86-e6725f23f71f",
   "metadata": {},
   "source": [
    "## Dulong-Petite rule\n",
    "\n",
    "A relatively good model for a solid is that we have a rigid lattice of atoms, with each atom attached to it's nearest neighbour by a chemical bond that allows vibrations like. If there are $N$ atoms in the solid, then we have approimately 3$N$ atoms. Each spring has two quadratic modes of energy (1 kinetic and 1 potential), which means each spring contributes $k_{\\rm B} T$ to the mean energy. As such, the total mean energy of the solid should be $3N k_{\\rm B} T$, and has a heat capacity of $3 N k_{\\rm B}$. This is known as the Dulong-Petit rule, and is something we'll come back to in future lectures."
   ]
  },
  {
   "cell_type": "markdown",
   "id": "cb76e7cc-1c2b-4ce4-a211-2649c2d2d590",
   "metadata": {
    "tags": []
   },
   "source": [
    "# Revisiting the partition function"
   ]
  },
  {
   "cell_type": "markdown",
   "id": "e06b162d-7082-4399-8cf4-0ec327cdb55b",
   "metadata": {},
   "source": [
    "In this lecture, we are going to revisit the partition function which we discussed during the introductory part of the course, and figure out how it relates to the thermodynamic quantities which we introduced in classical thermal physics.\n",
    "\n",
    "The partition function is defined as \n",
    "$$\n",
    "    Z = \\sum_i {\\rm e}^{-\\beta E_i}\n",
    "$$\n",
    "It looks pretty boring, but is a very powerful tool, as we'll shortly see. Typically, when solving a statistical mechanics issues, there are two steps.\n",
    "\n",
    "1. Write down the partition function.\n",
    "2. Follow the standard procedures needed to get the relevant quantity out of the partition function.\n",
    "\n",
    "For this lecture, we are going to be focusing on the single particle partition function - that is, we will work out what $Z$ is for a single particle. We'll generalise to many particles later."
   ]
  },
  {
   "cell_type": "markdown",
   "id": "777b0e13-a47f-4fa3-ac98-9035dd249655",
   "metadata": {},
   "source": [
    "## Writing down the partition function"
   ]
  },
  {
   "cell_type": "markdown",
   "id": "69773ba1-12be-4a56-8d94-d55d8e7f033e",
   "metadata": {},
   "source": [
    "This is not too difficult a step, and is something you have encountered in your problem sets previously. Let's take a look at some explicit examples.\n",
    "\n",
    "### The two level system\n",
    "Let the energy of a system be $\\pm\\epsilon/2$. The partition function for such a system is thus\n",
    "$$\n",
    "    Z = {\\rm e}^{\\beta \\epsilon /2}+{\\rm e}^{-\\beta \\epsilon /2} = 2 \\cosh \\left(\\frac{\\beta \\epsilon}{2}\\right)\n",
    "$$\n",
    "\n",
    "### The simple harmonic oscillator\n",
    "Let the energy of a system be $(n+1/2)\\hbar \\omega$, where $\\hbar=h/(2\\pi)$ and n can go up to infinity. The partition function for such a system is thus\n",
    "$$\n",
    "    Z = \\sum_{n=0}^{\\infty} {\\rm e}^{\\beta (n+1/2)\\hbar \\omega} = {\\rm e}^{-\\beta \\hbar \\omega/2} \\sum_{n=0}^{\\infty} {\\rm e}^{-\\beta n \\hbar \\omega}=\\frac{{\\rm e}^{-\\beta \\hbar \\omega/2}}{1-{\\rm e}^{-\\beta \\hbar \\omega}}\n",
    "$$\n",
    "where we've used the result for an infinite geometric progression of\n",
    "$$\n",
    "    a\\sum_{n=0}^{\\infty} r^n = \\frac{a}{1-r}\n",
    "$$\n",
    "where $a$ is a constant to simplify the expression."
   ]
  },
  {
   "cell_type": "markdown",
   "id": "df3b972d-e734-45aa-aa29-5c9ae197f282",
   "metadata": {},
   "source": [
    "## Deriving useful quantities from the partition function"
   ]
  },
  {
   "cell_type": "markdown",
   "id": "63e88661-09f1-45cf-8577-1249de450af9",
   "metadata": {},
   "source": [
    "Ok, now that we can write down what the partition function, let's see what we can derive from it.\n",
    "\n",
    "### The internal energy (U)\n",
    "As discussed in previous lectures, the internal energy of a system is given by\n",
    "$$\n",
    "    U = \\sum_i P_i E_i\n",
    "$$\n",
    "$$\n",
    "    U = \\frac{\\sum_i E_i {\\rm e}^{-\\beta E_i}}{\\sum_i {\\rm e}^{-\\beta E_i}}\n",
    "$$\n",
    "Given that $Z = \\sum_i {\\rm e}^{-\\beta E_i}$, then $\\frac{{\\rm d} Z}{{\\rm d} \\beta} = - \\sum_i E_i {\\rm e}^{-\\beta E_i}$. This leaves us with\n",
    "$$\n",
    "    U = -\\frac{1}{Z}\\frac{{\\rm d} Z}{{\\rm d} \\beta} = -\\frac{{\\rm d} \\ln Z}{{\\rm d} \\beta}\n",
    "$$\n",
    "as we've seen previously. It can also sometimes be useful to rewrite this in terms of temperature. Using\n",
    "$$\n",
    "    \\beta = \\frac{1}{k_{\\rm B}T} \\to \\frac{{\\rm d} \\beta}{{\\rm d} T} = -\\frac{1}{k_{\\rm B}T^2}\n",
    "$$\n",
    "gives\n",
    "$$\n",
    "    U = k_{\\rm B}T^2 \\frac{{\\rm d} \\ln Z}{{\\rm d} T}\n",
    "$$\n",
    "\n",
    "### Heat Capacities\n",
    "Recalling that\n",
    "$$\n",
    "    C_{\\rm V} = \\left(\\frac{\\partial U}{\\partial T}\\right)_V\n",
    "$$\n",
    "we get\n",
    "$$\n",
    "    C_{\\rm V} = 2 k_{\\rm B}T \\frac{{\\rm d} \\ln Z}{{\\rm d} T} + k_{\\rm B}T^2 \\frac{{\\rm d^2} \\ln Z}{{\\rm d} T^2}\n",
    "$$\n",
    "\n",
    "### Entropy (S)\n",
    "The probability of a state being in some energy j is given by\n",
    "$$\n",
    "    P(E_j) = \\frac{{\\rm e}^{-\\beta E_j}}{Z}\n",
    "$$\n",
    "Taking the log gives\n",
    "$$\n",
    "    \\ln P(E_j) = -\\beta E_j - \\ln (Z)\n",
    "$$\n",
    "If we now recall our statistical definition of entropy, which was\n",
    "$$\n",
    "    S = -k_{\\rm B} \\sum_i P_i \\ln P_i\n",
    "$$\n",
    "(see Lecture 7) then we get\n",
    "$$\n",
    "    S = k_{\\rm B} \\sum_i P_i [\\beta E_i + \\ln (Z)]= k_{\\rm B} \\beta \\sum_i P_i E_i + \\ln (Z)\\sum_i P_i]\n",
    "$$\n",
    "We can now substitute $U = \\sum_i P_i E_i$ and $\\sum_i P_i E_i = 1.0$ to get\n",
    "$$\n",
    "    S = k_{\\rm B} [\\beta U + \\ln(Z)]\n",
    "$$\n",
    "which in terms of temperature works out as\n",
    "$$\n",
    "    S =  \\frac{U}{T} + k_{\\rm B} \\ln(Z)\n",
    "$$\n",
    "\n",
    "### The Helmholtz Free Energy (F)\n",
    "The Helmholtz Free Energy is given by\n",
    "$$\n",
    "    F = U-TS\n",
    "$$\n",
    "Using the above substituion for $S$ then leads to\n",
    "$$\n",
    "    F = -k_{\\rm B} T \\ln(Z)\n",
    "$$\n",
    "or, in terms of Z is\n",
    "$$\n",
    "    Z = {\\rm e}^{-\\beta F}\n",
    "$$\n",
    "The Helmholtz Free Energy turns out to be very useful in deriving pretty much everything else we've defined over the last 4 weeks. For example, we can get the entropy by recalling that\n",
    "$$\n",
    "    S = -\\left(\\frac{\\partial F}{\\partial T}\\right)_V\n",
    "$$\n",
    "(again, Lecture 7) which gives\n",
    "$$\n",
    "    S = k_{\\rm B} \\ln(Z) + k_{\\rm B} T \\left(\\frac{\\partial \\ln(Z)}{\\partial T}\\right)_V\n",
    "$$\n",
    "which is the same as the above expression if we use the relation between $U$ and $\\frac{{\\rm d} \\ln Z}{{\\rm d} T}$ derived earlier.\n",
    "\n",
    "### Pressure\n",
    "From Lecture 7 we have that\n",
    "$$\n",
    "    P = -\\left(\\frac{\\partial F}{\\partial V}\\right)_T = k_{\\rm B} T \\left( \\frac{\\partial \\ln(Z)} {\\partial V} \\right)_T\n",
    "$$\n",
    "\n",
    "### Enthalpy\n",
    "This lets us write down the enthalpy as\n",
    "$$\n",
    "    H = U+PV =  k_{\\rm B}T^2 \\frac{{\\rm d} \\ln Z}{{\\rm d} T}+k_{\\rm B} T V \\left( \\frac{\\partial \\ln(Z)} {\\partial V} \\right)_T\n",
    "$$\n",
    "\n",
    "### Gibbs Free Energy\n",
    "$$\n",
    "    G = F+PV =  -k_{\\rm B} T \\ln(Z) +k_{\\rm B} T V \\left( \\frac{\\partial \\ln(Z)} {\\partial V} \\right)_T\n",
    "$$"
   ]
  },
  {
   "cell_type": "markdown",
   "id": "72566a8d-2f15-4a38-9d69-5fe7f018ab7b",
   "metadata": {},
   "source": [
    "# Working through an example"
   ]
  },
  {
   "cell_type": "markdown",
   "id": "3f9691e7-9af0-4b6a-9a63-90485b50f1b7",
   "metadata": {},
   "source": [
    "Let's take the 2 level system which was described earlier. This system has a partition function of\n",
    "$$\n",
    "    Z = 2 \\cosh \\left(\\frac{\\beta \\epsilon}{2}\\right)\n",
    "$$\n",
    "The internal energy of the system is\n",
    "$$\n",
    "    U = -\\frac{{\\rm d} \\ln Z}{{\\rm d} \\beta}= -\\frac{\\epsilon}{2} \\tanh\\left(\\frac{\\beta \\epsilon}{2}\\right)\n",
    "$$\n",
    "The heat capacity of the system is given by\n",
    "$$\n",
    "    C_{\\rm V} = \\left(\\frac{\\partial U}{\\partial T}\\right)_V = k_{\\rm B} \\left(\\frac{\\beta \\epsilon}{2}\\right)^2 {\\rm sech}^2\\left(\\frac{\\beta \\epsilon}{2}\\right)\n",
    "$$\n",
    "The Helholtz Free energy is\n",
    "$$\n",
    "    F = -k_{\\rm B}T \\ln Z = -k_{\\rm B}T \\ln\\left[2 \\cosh \\left(\\frac{\\beta \\epsilon}{2}\\right)\\right]\n",
    "$$\n",
    "and so the entropy is\n",
    "$$\n",
    "    S = \\frac{U-F}{T} = -\\frac{\\epsilon}{2T} \\tanh\\left(\\frac{\\beta \\epsilon}{2}\\right) + k_{\\rm B} \\ln\\left[2 \\cosh \\left(\\frac{\\beta \\epsilon}{2}\\right)\\right]\n",
    "$$\n",
    "Let's now look at what each of these functions are doing."
   ]
  },
  {
   "cell_type": "code",
   "execution_count": 2,
   "id": "c4e3bf0f-09e4-4011-8baa-e0d91bc460c4",
   "metadata": {},
   "outputs": [
    {
     "data": {
      "image/png": "[encoded data removed]",
      "text/plain": [
       "<Figure size 1800x450 with 3 Axes>"
      ]
     },
     "metadata": {
      "needs_background": "light"
     },
     "output_type": "display_data"
    }
   ],
   "source": [
    "import numpy as np\n",
    "import matplotlib.pyplot as plt\n",
    "\n",
    "kT = np.arange(0.001,10,0.05) #in units of eps\n",
    "\n",
    "U = -0.5*np.tanh(1/(kT*2))\n",
    "Cv = (1/(2*kT))**2 * (1/np.cosh(1/(kT*2)))**2\n",
    "S = U/kT + np.log(2*np.cosh(1/(kT*2)))\n",
    "\n",
    "fig, ax = plt.subplots(ncols=3,figsize=[12,3],dpi=150)\n",
    "ax[0].plot(kT,U)\n",
    "ax[0].set_xlabel(r\"$k_{\\rm B}T/\\epsilon$\")\n",
    "ax[0].set_ylabel(r\"$U/\\epsilon$\")\n",
    "ax[1].plot(kT,Cv)\n",
    "ax[1].set_xlabel(r\"$k_{\\rm B}T/\\epsilon$\")\n",
    "ax[1].set_ylabel(r\"$C_V/k_{\\rm B}$\")\n",
    "ax[2].plot(kT,S)\n",
    "ax[2].set_xlabel(r\"$k_{\\rm B}T/\\epsilon$\")\n",
    "ax[2].set_ylabel(r\"$S/k_{\\rm B}$\")\n",
    "plt.tight_layout()\n",
    "plt.savefig(\"Figures/Thermal_properties_2_level.png\")\n",
    "plt.show()"
   ]
  },
  {
   "cell_type": "markdown",
   "id": "f40b87c1-41ff-4bc7-8d2d-f3c57d586dbc",
   "metadata": {},
   "source": [
    "These plots are very instructive. Let's consider 2 distinct temperature regimes and see what the plots tell us:\n",
    "### $T \\to 0$\n",
    "As the temperature drops to 0, the internal energy converges to $-\\epsilon/2$. That is, the system settles into the ground state. The heat capacity and the entropy converge to 0, as they should in accordance with the third law.\n",
    "\n",
    "### $T \\to \\infty$\n",
    "As the temperature goes to $\\infty$, the internal energy converges to $0$. This is because at these high temperatures, the probabilities that either state is populated are both 0.5, and the internal energy is $U=\\sum_i P_i E_i=-0.5 \\frac{\\epsilon}{2}+0.5\\frac{\\epsilon}{2}=0$. The heat capacity goes to 0. This can be understood by considering the fact that adding any energy to the system as this stage does not affect which state the system is likely to be in.\n",
    "\n",
    "The heat capacity does have a maximum - that is, there is a temperature at which adding more energy substantially changes the proability of the internal energy changing."
   ]
  },
  {
   "cell_type": "markdown",
   "id": "9e3661ec-99d0-4829-ad1f-0d7679e82651",
   "metadata": {},
   "source": [
    "This example demonstrates the big picture behind statistical mechanics. You write down $Z$, derive the relevant quantities, and then examine how those quantities behave for various temperatures. However, writing $Z$ down isn't always easy - there are only a handful of systems that we are explicitly able to solve for the discrete energy levels."
   ]
  },
  {
   "cell_type": "markdown",
   "id": "7233ab18-29de-4255-8d6c-3fc945c18cdd",
   "metadata": {},
   "source": [
    "## Combining Partition Functions"
   ]
  },
  {
   "cell_type": "markdown",
   "id": "c42d9dc7-807c-46e4-8900-9aa41dfaddb8",
   "metadata": {},
   "source": [
    "Let's now consider a system where the energy has various **independent** contributions, where the contributions are distinguishable. For example, imagine the energy is given by\n",
    "$$\n",
    "    E_{i,j} = E_i^{(a)}+E_j^{(b)}\n",
    "$$\n",
    "The partition function for such a combination would be\n",
    "$$\n",
    "    Z = \\sum_i\\sum_j {\\rm e}^{-\\beta (E_i^{(a)}+E_j^{(b)})} = \\sum_i{\\rm e}^{-\\beta E_i^{(a)}}\\sum_j {\\rm e}^{-\\beta E_j^{(b)}}=Z_a Z_b\n",
    "$$\n",
    "so in this case, the partition functions of the independent contributions multiply. It is simple to generalise this to N **independent** contributions, in which case we get\n",
    "$$\n",
    "    Z = \\prod_{i=1} ^N Z_i\n",
    "$$"
   ]
  },
  {
   "cell_type": "code",
   "execution_count": null,
   "id": "e6ab079d-d4f2-4f5b-8a0e-edeaeb7c0a8a",
   "metadata": {},
   "outputs": [],
   "source": []
  }
 ],
 "metadata": {
  "kernelspec": {
   "display_name": "Python 3 (ipykernel)",
   "language": "python",
   "name": "python3"
  },
  "language_info": {
   "codemirror_mode": {
    "name": "ipython",
    "version": 3
   },
   "file_extension": ".py",
   "mimetype": "text/x-python",
   "name": "python",
   "nbconvert_exporter": "python",
   "pygments_lexer": "ipython3",
   "version": "3.8.10"
  }
 },
 "nbformat": 4,
 "nbformat_minor": 5
}
