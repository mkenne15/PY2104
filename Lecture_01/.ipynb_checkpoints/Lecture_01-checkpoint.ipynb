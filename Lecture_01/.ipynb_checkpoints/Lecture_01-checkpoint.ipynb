{
 "cells": [
  {
   "cell_type": "markdown",
   "id": "f2ad7b79-a00e-4c19-a626-3e27d95332ae",
   "metadata": {},
   "source": [
    "# Introduction to Thermodynamics and Statistical Physics"
   ]
  },
  {
   "cell_type": "markdown",
   "id": "4d9eb898-027e-46ba-8276-e94008ac25bb",
   "metadata": {},
   "source": [
    "In this lecture, we will cover:\n",
    "\n",
    "* Macroscopic quantities\n",
    "* The Ideal Gas Law\n",
    "* Stirling's Law for large numbers\n",
    "* Heat\n",
    "* Heat Capacity\n",
    "* Zeroth Law of Thermodynamics\n"
   ]
  },
  {
   "cell_type": "markdown",
   "id": "bb37b725-9401-471a-a08b-533081ca5af0",
   "metadata": {},
   "source": [
    "We want to study the physics of a macroscopic object which is comprised of many particles. Say, for example, that we had one mole of a substance. This would mean we have $N\\sim6\\times10^{23}$ particles (where this is Avagardro's number) to study. Clearly this is not feasible, as to have a proper description we would need the momenta and positions for each particle.\n",
    "\n",
    "Instead of doing this, we are instead going to study macroscopic laws and properties which are ultimately governed by microscopic properties, but which emerge from averaging over these microscopic properties.\n",
    "\n",
    "Thus, there are two approaches to studying macroscopic physics. The first is the study of classical thermodynamics (Carnot, Clausius, Kelvin, Joule). This approach requires experiments on macroscopic systems, and avoidS any description of atomic physics. The laws are thus phenomenological. The second approach is that of statistical physics, which starts out from an atomic description of matter and tries to derive the laws of macroscopic bodies from these atomic properties (Maxwell, Boltzmann, Gibbs)."
   ]
  },
  {
   "cell_type": "markdown",
   "id": "abe25c70-7a8d-4ebe-b303-e83033ada469",
   "metadata": {},
   "source": [
    "## Macroscopic quantities & The Thermodynamic limit"
   ]
  },
  {
   "cell_type": "markdown",
   "id": "d379d25a-1950-4235-b386-45bd363c113d",
   "metadata": {},
   "source": [
    "So what exactly are macroscopic quantites, and how do they arise? Consider the diagram below, in which we have a gas in a sealed container and a moveable piston.\n",
    "\n",
    "![Sealed_Cotainer](Figures/Sealed_Container.png)\n",
    "\n",
    "When that piston at rest, the force exerted on the piston balancse the pressure exerted on the piston by the gas, and are related through\n",
    "$$\n",
    "    P=F/A\n",
    "$$\n",
    "where A is the surface area of the piston exposed to the gas. The pressure arises due to the elastic collisions of the particles within the gas with the walls of the container. Thus, the pressure is not really time independant - at any given time, there may be more or less particles hitting the wall then at other times due to the random movements of the particles in the gas - this is Brownian motion. As such, the piston is not perfectly in place - it is constantly shifting around by small amounts as the number of particles hitting it varies. \n",
    "\n",
    "If we were studying a small number of particles, or the system we were studying was very small, we would be sensitive to these variations. However, when dealing with a large number of particles, or with macroscopic objects then the variation in the number of particles hitting the piston is so small, we cannot observe the changes, meaning the pressure appears to be constant to us. This is what we'll refer to as the thermodynamic limit.\n",
    "\n",
    "This is not always the case - for very small macroscopic bodies or using very sensitive instruments, the effects of Brownian motion can be witnessed, which thus limit the accuracy of any measurements.\n",
    "\n",
    "Our goal is then to describe macroscopic systems using well defined, measureable quantities such as the mass, pressure, volume, or temperature of an object. These quantities can be split into two different categories:\n",
    "\n",
    "- **Extensive varibles** (such as volume, total energy), which scale with the size of the system.\n",
    "- **Intensive variables** (such as temperature, pressure), which do not scale.\n",
    "\n",
    "As an example, consider a volume $V$ of a gas at temperature $T$ and pressure $P$. If you now only study one half of the container, the volume of gas you are studying has halved, but the temperature and pressure of the gas are the same."
   ]
  },
  {
   "cell_type": "markdown",
   "id": "3c5696be-4edd-4c06-b464-df040234a5f4",
   "metadata": {},
   "source": [
    "## The Ideal Gas"
   ]
  },
  {
   "cell_type": "markdown",
   "id": "18b7c9de-621a-4361-9f8b-12dad61dd6ad",
   "metadata": {},
   "source": [
    "For the ideal gas, we will follow the developments of classical thermodynamics. That is, we will rely on phenomenological laws observed in experiments, and combine them together. First, Robert Boyle observed that for a fixed amount of gas at constant temperature then\n",
    "$$\n",
    "    P \\propto \\frac{1}{V}.\n",
    "$$\n",
    "Jacques Charles then found that for constant pressure, gas follows the relation\n",
    "$$\n",
    "    V \\propto T.\n",
    "$$\n",
    "Finally, Guillaume Amontons found that for a fixed volume, then\n",
    "$$\n",
    "    P \\propto T.\n",
    "$$\n",
    "Combining these together, we get\n",
    "$$\n",
    "    P V \\propto T.\n",
    "$$\n",
    "The constants of proportionality turn out to be $N k_{\\rm B}$, where $N$ is the number of particles in the gas and $k_{\\rm B}=1.3807\\times10^{-23}$ J $K^{-1}$ is Boltzmanns constant. This gives the ideal gas equation of\n",
    "$$\n",
    "    P V = N k_{\\rm B} T\n",
    "$$\n",
    "Alternatively, this can be written as \n",
    "$$\n",
    "    P V = n R T\n",
    "$$\n",
    "where $n$ is the number of moles and $R=8.31$ J /(mol K), and is related to $N$ by $N=n \\times N_{\\rm A}$ where is $N_{\\rm A}$ is Avagadro's number.\n",
    "\n",
    "So why is it ideal? First, we have assumed that there are no interparticle forces occuring, and we also assume that all particles are point like and have zero-size. As we'll see later, this also means that the total internal energy of an ideal gas is simply given by\n",
    "$$\n",
    "    U = \\frac{3}{2} N k_{\\rm B} T\n",
    "$$"
   ]
  },
  {
   "cell_type": "markdown",
   "id": "6d79ea29-54dc-4000-ab34-de9a7130f7f4",
   "metadata": {},
   "source": [
    "## Working with large numbers\n",
    "Fortunately, there are some tips and tricks we can use when dealing with large numbers, which will help throughout our studies. As an example, imagine I have 10 containers, each of which can only hold 1 marble, and I have some marbles. How many distinct ways can we arrange our 10 cups (empty, not empty) if (i) I have 10 marbles or (ii) only 4 marbles? First, let's consider a general example where I have $n$ cups and $r$ marbles.\n",
    "\n",
    "The first marble can go in any of the $n$ cups, the second can go in any of $n-1$, etc, until the $r^{th}$ marble can go into any of the remaining $n-r+1$ cups. Thus, the number of possible arrangements is\n",
    "$$\n",
    "    \\Omega = n\\times (n-1) \\times (n-2) \\times ... \\times (n-r+1)\n",
    "$$\n",
    "which, simplified, is\n",
    "$$\n",
    "    \\Omega = \\frac{n\\times (n-1) \\times (n-2) \\times ... \\times 1}{(n-r)\\times (n-r-1) \\times (n-r-2) \\times ... \\times 1} = \\frac{n!}{(n-r)!}.\n",
    "$$\n",
    "Now, in the above, I said first marble, and second marble, as if each marble is special or identifiable. In general, I don't actually care which marble goes in which cup - to account for this, we take the above expression and divide by $r!$ to get\n",
    "$$\n",
    "    \\Omega = \\frac{n!}{(n-r)!r!}.\n",
    "$$\n",
    "This expression can be used to work out the questions discusse above. However, this expression can get unwieldy. To see how, let's turn the above problem into a physics problem - simple replace cups with atoms, and marbles with units (or quanta) of energy. So imagine I have $n=6 \\times 10^{23}$ atoms. At this stage, it's a bit easier to look at the natural log of $\\Omega$, which is \n",
    "$$\n",
    "    \\ln(\\Omega) = \\ln(n!) - \\ln((n-r)!) - \\ln(r!)\n",
    "$$\n",
    "This would mean our expresison for $\\ln(\\Omega)$ would involve $\\ln(6 \\times 10^{23}!)$ - try running this on a calulator. To overcome this issue, it's useful to use **Stirling's formula**\n",
    "$$\n",
    "    \\ln n! = n\\ln(n) - n.\n",
    "$$"
   ]
  },
  {
   "cell_type": "markdown",
   "id": "523ee422-054e-48ed-a5f5-1e581ca0cbc6",
   "metadata": {},
   "source": [
    "## Heat"
   ]
  },
  {
   "cell_type": "markdown",
   "id": "d7c66c16-8d22-4410-8e3e-1287ad4b14c0",
   "metadata": {},
   "source": [
    "As we begin our studies, the next concept we need to deal with is heat. So, what does it mean to say something is hot? If I'm standing beside a radiator, I can feel the heat coming from it. If I'm standing in a fridge, I can feel heat being drawn away from me. So, let's use that as our startin definition: Heat is energy in transit.\n",
    "\n",
    "So is there a natural direction for this flow of energy? If we put a hot object in contact with a cold object, there is a natural flow of energy from the hot object to the cold object which increases the temperature of the cold object. \n",
    "\n",
    "There are instances when the direction can be reversed (e.g. fridges/freezers) where the hot object decreases to match the temperature of the cold object, but the key difference here is that we need to put additional energy into the system to cause this.\n",
    "\n",
    "It's also important to note the \"in transit\" part of the definition, but we'll return to this later on in the course. Heat is measured in joules, and the rate of heating is thus in watts (J/s)."
   ]
  },
  {
   "cell_type": "markdown",
   "id": "c5619140-5662-44ca-8d45-8e54ac416bf4",
   "metadata": {},
   "source": [
    "## Heat Capacity"
   ]
  },
  {
   "cell_type": "markdown",
   "id": "fd679f86-cbda-43e2-af13-0ee28ab543a0",
   "metadata": {},
   "source": [
    "Next, let's ask the question \"how much heat needs to be subbplied to an object to raise its temperature by a small amount $dT$?\" The answer is\n",
    "$$\n",
    "    dQ=CdT\n",
    "$$\n",
    "where $C$ is the heat capacity of an object. $C$ can come in a few flavours (see Section 2.2 of Blundell), but the most common one is the specific heat capacity, which is the heat capacity per unit mass ($c=M/C$) (given a mass $M$ of an object which has some measured heat capacity $C$).\n",
    "\n",
    "For an example, see 2.2 of Blundell & Blundell.\n",
    "\n",
    "The equation above is only somewhat useful to us. It simply asks the question \"how much heat should be added to raise the temperature of a gas?\". In practice there are two ways to do this:\n",
    "\n",
    "1. Place the gas in a sealed box and add heat. Since this is at fixed volume, the pressure increases.\n",
    "2. Place our gas in a chamber with a piston (like in the diagram above). As we add heat in now, the piston will rise (work is being done against the atmosphere) - hence this process is being done at constant pressure, but the volume will increase.\n",
    "\n",
    "Either way applies a constraing to the system, so the equation above must be modified to be either:\n",
    "\n",
    "\\begin{align}\n",
    "    C_{V} & = \\left( \\frac {\\partial Q}{\\partial T} \\right)_V,\\\\\n",
    "    C_{P} & = \\left( \\frac {\\partial Q}{\\partial T} \\right)_P.\\\\\n",
    "\\end{align}\n",
    "We'll come back to which one we think should be larger later."
   ]
  },
  {
   "cell_type": "markdown",
   "id": "79f41806-d1c4-407d-bf7b-beea5422e709",
   "metadata": {},
   "source": [
    "## Temperature"
   ]
  },
  {
   "cell_type": "markdown",
   "id": "880c3366-1bdc-45d2-985b-ebccc74a0761",
   "metadata": {},
   "source": [
    "What exactly is temperature? Qualitatively, it is how hot or cold an object is, but this is of course subjective. If we have two bodies, and we know that one with temperature $T_1$ is hotter than one with temperature $T_2$, then we know that $T_1>T_2$.\n",
    "\n",
    "![Thermal Equilibrium](Figures/Thermal_Equilibrium.png)\n",
    "\n",
    "Furthermore, we know that if we bring two bodies into thermal contact with each other, heating (energy in transit) will occur between bodies (shown in b above), and they'll eventually end up with a temperture $T_1>T_{\\rm f}>T_2$ (c). When this is achieved, and there is no net flow between the bodies, they are in thermal equilibrium.\n",
    "\n",
    "This process is not reversible. That is, if we have two objects in thermal contact, and they are in thermal equilibrium, we would never expect them to spontaneously to undergo a flow of energy that goes from (c) back to (a). So, this means as a function of time, bodies tend towards thermal equilibrium.\n",
    "\n",
    "Realising this, and also then that if multiple bodies are in thermal equilibrium with each other, then all bodies must be at the same tempearture leads us to the Zeroth law of thermodynamics."
   ]
  },
  {
   "cell_type": "markdown",
   "id": "26019342-26fd-4753-be60-76e51cfe4629",
   "metadata": {},
   "source": [
    "<div class=\"alert alert-block alert-info\">\n",
    "    <b>Zeroth Law of Thermdynamics</b>\n",
    "\n",
    "Two systems, each separately in thermal equilibrium with a third, are in equilibiurm with each other.\n",
    "</div>"
   ]
  },
  {
   "cell_type": "code",
   "execution_count": null,
   "id": "9c7e46fe-d20e-4a04-9233-dc1c893cc06a",
   "metadata": {},
   "outputs": [],
   "source": []
  }
 ],
 "metadata": {
  "kernelspec": {
   "display_name": "Python 3 (ipykernel)",
   "language": "python",
   "name": "python3"
  },
  "language_info": {
   "codemirror_mode": {
    "name": "ipython",
    "version": 3
   },
   "file_extension": ".py",
   "mimetype": "text/x-python",
   "name": "python",
   "nbconvert_exporter": "python",
   "pygments_lexer": "ipython3",
   "version": "3.8.10"
  }
 },
 "nbformat": 4,
 "nbformat_minor": 5
}
