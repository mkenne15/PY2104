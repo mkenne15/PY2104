{
 "cells": [
  {
   "cell_type": "markdown",
   "id": "842718d2-f1cd-48ee-b8bd-a6d1735f3bc0",
   "metadata": {},
   "source": [
    "# Heat Capacity of Solids"
   ]
  },
  {
   "cell_type": "markdown",
   "id": "949c56f3-82e0-4a8a-b93c-380d5f430668",
   "metadata": {},
   "source": [
    "Continuing our discussion of how real systems differ from ideal gases, let's consider how heat capacities behave for solids. Imagine a solid with $N$ atoms can be modelled as a lattice, and that each atom is bonded to its neighbours by springs. This means there are 3$N$ springs in the system. As such, each atom is allowed to oscillate about its equilibrium position. Each \"spring\" has two quadratic modes of energy: one kinetic, and one potential, and so the equipartition of energy tells us that each spring has a mean energy\n",
    "$$\n",
    "    \\langle E \\rangle = 2 \\times \\frac{1}{2} k_{\\rm B} T = k_{\\rm B} T\n",
    "$$\n",
    "and that the mean energy of the system is then\n",
    "$$\n",
    "    \\langle E \\rangle = 3 N k_{\\rm B} T\n",
    "$$\n",
    "The heat capacity of the solid is then\n",
    "$$\n",
    "    C = \\frac{\\partial \\langle E \\rangle}{\\partial T} = 3 N k_{\\rm B} = 3 R.\n",
    "$$\n",
    "where that last value is true for one mole of the substance. That is, the heat capacity should be constant in this picture - this is known as the Dulong-Petit law, and experiments have found that expectation value for the heat capacity is very close to what's observed in a lot of systems around room temperature. However, because of the third law of thermodynamics, we would expect the heat capacity to go to 0 at low temperatures, which this treatment does not reproduce. So how do we fix this?"
   ]
  },
  {
   "cell_type": "markdown",
   "id": "8de32a8d-28d0-4313-8b50-52207e9d8d84",
   "metadata": {},
   "source": [
    "## Einstein's Theory"
   ]
  },
  {
   "cell_type": "markdown",
   "id": "f28b9977-d4c4-4a30-b778-2f14c3c46a5d",
   "metadata": {},
   "source": [
    "The answer comes from Eintein's model. In this model, we again assume that all atoms are linked via a spring. However, the key insight here is that, in accordance with quantum mechanics, the springs will only be able to oscillate with discrete energies. These discrete units of vibrational energy are known as **phonons**.\n",
    "\n",
    "Ok, let's assume we have such a lattice, and that every atom is oscillating about their equilibria positions independently of all the other atoms. The frequency of the oscillations will be given by\n",
    "$$\n",
    "    \\nu_E = \\frac{\\omega_{\\rm E}}{2\\pi}\n",
    "$$\n",
    "Following the prescription of quantum mechanics, a single oscillator will have an energy of\n",
    "$$\n",
    "    \\epsilon_r = \\hbar \\omega_{\\rm E} \\left(r+\\frac{1}{2}\\right)\n",
    "$$\n",
    "The partition function for a single oscillator in the system is\n",
    "$$\n",
    "    Z_1 = \\sum_{n=0}^{\\infty} {\\rm e}^{\\beta (n+1/2)\\hbar \\omega_{\\rm E}} =\\frac{{\\rm e}^{-\\beta \\hbar \\omega_{\\rm E}/2}}{1-{\\rm e}^{-\\beta \\hbar \\omega_{\\rm E}}}\n",
    "$$\n",
    "as derived in Lecture 10 (and as a part of problem set 3). The mean energy of a single oscillator is then\n",
    "\\begin{align}\n",
    "    U_1 &= -\\left(\\frac{\\partial\\ln(Z_1)}{\\partial \\beta}\\right)\\\\\n",
    "        &= -\\left(\\frac{\\partial\\ln(\\frac{{\\rm e}^{-\\beta \\hbar \\omega_{\\rm E}/2}}{1-{\\rm e}^{-\\beta \\hbar \\omega_{\\rm E}}})}{\\partial \\beta}\\right)\\\\\n",
    "        &= -\\left(\\frac{\\partial\\ln({\\rm e}^{-\\beta \\hbar \\omega_{\\rm E}/2})}{\\partial \\beta}\\right) -\\left(\\frac{\\partial\\ln({1-{\\rm e}^{-\\beta \\hbar \\omega_{\\rm E}}})}{\\partial \\beta}\\right)\\\\\n",
    "        &= \\frac{\\hbar \\omega_{\\rm E}}{2}+\\frac{\\hbar \\omega_{\\rm E}{\\rm e}^{-\\beta \\hbar \\omega_{\\rm E}}}{1-{\\rm e}^{-\\beta \\hbar \\omega_{\\rm E}}}\\\\\n",
    "        &= \\frac{\\hbar \\omega_{\\rm E}}{2}+\\frac{\\hbar \\omega_{\\rm E}}{{\\rm e}^{\\beta \\hbar \\omega_{\\rm E}}-1}\\\\\n",
    "\\end{align}\n",
    "So if we have $3 N$ phonons, then the internal energy is\n",
    "$$\n",
    "    U = 3 N U_1\n",
    "$$\n",
    "The heat capacity of this solid can then be calculated using\n",
    "$$\n",
    "    C_{\\rm V} = \\left( \\frac{\\partial \\langle U \\rangle}{\\partial T} \\right)_V\n",
    "$$\n",
    "which gives\n",
    "\\begin{align}\n",
    "    C_{\\rm V} &= 3 N \\left( - \\frac{(\\hbar \\omega_{\\rm E})^2 {\\rm e}^{\\beta \\hbar \\omega_{\\rm E}}} {({\\rm e}^{\\beta \\hbar \\omega_{\\rm E}}-1)^2} \\right) \\left( \\frac{-1}{k_{\\rm B}T^2} \\right).\\\\\n",
    "\\end{align}\n",
    "If we now define the Einstein Temperature,$\\Theta_{\\rm E} = \\frac{\\hbar \\omega_{\\rm E}}{k_{\\rm B}}$ and $x=\\frac{\\Theta_{\\rm E}}{T}$, then this simplifies to\n",
    "$$\n",
    "    C_{\\rm V} = 3 N k_{\\rm B} \\frac{ x^2 {\\rm e}^{x}} {({\\rm e}^{x}-1)^2}\n",
    "$$\n",
    "So now the question we have to ask is: does this expression for the heat capacity both satisfy the Dulong-Petit law (that is, at high temperatures, $C_{\\rm V} = 3R$, and also the Third law (that is, at low temperatures, it should go to 0).\n",
    "\n",
    "- In the high temperature limit, when $T\\gg \\Theta_{\\rm E}$, then $x \\ll 1$. If we Taylor expand $e^x$ around $x=0$, then $e^x=1+x+...$ and thus $C_{\\rm V}= 3 N k_{\\rm B} = 3 R$ for 1 mole, as required\n",
    "- In the low temperature limit, when $T\\ll \\Theta_{\\rm E}$, then $x \\gg 1$. In this limit, $\\frac{e^{x}}{(e^{x}-1)^2} \\to \\frac{e^{x}}{e^{2x}}=e^{-x}$. Thus, $C_{\\rm V} = 3 N k_{\\rm B} \\left(\\frac{\\Theta_{\\rm E}}{T}\\right)^2 \\exp{-\\frac{\\Theta_{\\rm E}}{T}}$. As $T \\to 0$, the exponential function goes to 0 faster than the other term grows, thus the heat capacity goes to 0 as required by the third law!\n",
    "\n",
    "So how else is this picture useful? Let's take diamond as an example, which is the material Einstein studied in order to test this theory. By measuring the heat capacity of diamond at various temperatures, Einstein found that the Einstein temperature should be $\\Theta_{\\rm E} = 1325$ K. (Shown below, and data taken from Einstein's paper: https://einsteinpapers.press.princeton.edu/vol2-trans/228\n",
    "\n",
    "Since $\\Theta_{\\rm E} = \\frac{\\hbar \\omega_{\\rm E}}{k_{\\rm B}}$, this means we can estimate what $\\omega_{\\rm E}$ is. From our simplistic picture, this frequency is related to the restoring force that the atoms in the lattice are experiencing, and thus is also related to the masses of the individual atoms, the elastic properties of the solid, and the interatomic spacing. As such, a measurement of $\\Theta_{\\rm E}$ gives us a method of probing the internal strucutre of the material."
   ]
  },
  {
   "cell_type": "code",
   "execution_count": 47,
   "id": "569d914b-d06e-4ae4-91c3-2ade4cbc01ca",
   "metadata": {},
   "outputs": [
    {
     "data": {
      "image/png": "[encoded data removed]",
      "text/plain": [
       "<Figure size 600x450 with 1 Axes>"
      ]
     },
     "metadata": {
      "needs_background": "light"
     },
     "output_type": "display_data"
    }
   ],
   "source": [
    "import numpy as np\n",
    "import matplotlib.pyplot as plt\n",
    "import pandas as pd\n",
    "import astropy.units as u\n",
    "import astropy.constants as c\n",
    "\n",
    "#Read in the data\n",
    "data = pd.read_csv(\"Diamond.csv\")\n",
    "\n",
    "#The Einstein paper has all of the heat capacities in cal/kelvin/mol, so need to hard code a unit conversion\n",
    "calorie = u.def_unit('calorie', 4.184 * u.J)\n",
    "\n",
    "#Now, set up arrays and values\n",
    "temp = data.Temp.values*u.K\n",
    "Cv = data.Cap.values*(calorie/u.K/u.mol).to(u.J/u.K/u.mol) # Convert Cv to SI\n",
    "\n",
    "#Finally step is to calculate the heat capacity for the Einstein model, assuming T_E = 1325*u.K\n",
    "T_E = 1325*u.K\n",
    "T = np.arange(10,1325,10)*u.K # Making a wide temperature array to evaluate T over\n",
    "x = T_E/T\n",
    "Cv_theo = 3*c.R*(x**2*np.exp(x)/(np.exp(x)-1)**2)\n",
    "\n",
    "plt.figure(figsize=[4,3], dpi=150)\n",
    "plt.plot(temp,Cv,'.',label='Experimental Data')\n",
    "plt.plot(T,Cv_theo,'-',label='Einstein Model')\n",
    "plt.axhline(3*c.R.value,linestyle='--')\n",
    "plt.xlabel(r\"T (K)\")\n",
    "plt.ylabel(r\"C$_{\\rm V}$ (J/K/mol)\")\n",
    "plt.ylim(0,)\n",
    "plt.xlim(0,1325)\n",
    "plt.tight_layout()\n",
    "plt.savefig(\"Figures/Einstein_Model_vs_Data.jpg\")\n",
    "plt.show()"
   ]
  },
  {
   "cell_type": "markdown",
   "id": "7c294d9d-faef-47a5-a8b2-6316fef8e94d",
   "metadata": {},
   "source": [
    "So this picture of a solid being a lattice with phonons solves the heat capacity issue. However, experimental evidence gathered after Eintein's paper was published showed poor agreement between the measured heat capacity and the predicted heat capacity for low (<200 K) temperatures, which leads us on to Debye's model."
   ]
  },
  {
   "cell_type": "markdown",
   "id": "f5ab202f-4731-4e31-b8b5-ba19cb69e757",
   "metadata": {},
   "source": [
    "## The Debye model"
   ]
  },
  {
   "cell_type": "markdown",
   "id": "0d88ca58-94f8-4b35-afad-fefb1555ff5b",
   "metadata": {},
   "source": [
    "The key difference between Einstein's theory and Debye's is that in the Einstein model, it is assumed that all of the atoms are vibrating about their equilibrium positions independantly with the exact same frequency. The Debye model builds on this by allowing the oscillators within the system to have a distribution of frequencies.\n",
    "\n",
    "Fortunately, we have already developed part of the framework we need for this task. Recalling the definition of the density of states from Lecture 12, we will modify it to represent the density of vibrational states, $g(\\omega)$. We will impose the requirement that if we intergate the density of vibrational states over the entire frequency range, we should get back the total number of phonons in our system, $3N$. That is\n",
    "$$\n",
    "    \\int g(\\omega) {\\rm d} \\omega = 3N\n",
    "$$\n",
    "\n",
    "Debye used the following knowledge to determine an appropriate distribution of frequencies - we know that vibrational waves will travel through the solid with a speed equal to the speed of sound of the solid. That is\n",
    "$$\n",
    "    \\omega = v_{s}q\n",
    "$$\n",
    "where q is the wave vector of the lattice vibrations. The density of these vibrations is given as\n",
    "$$\n",
    "    g(q) {\\rm d} q = \\frac{4\\pi q^2 {\\rm d} q}{(2\\pi/L)^3} \\times 3\n",
    "$$\n",
    "where the factor of 3 comes from the allowed polarisations of the wave, and we have assumed the crystal is a cube of side $L$. Tidying up a bit gives\n",
    "$$\n",
    "    g(q) {\\rm d} q = \\frac{3 V q^2 {\\rm d} q}{2\\pi^2}\n",
    "$$\n",
    "which, in terms of $\\omega$, is\n",
    "$$\n",
    "    g(\\omega) {\\rm d} \\omega = \\frac{3 V \\omega^2 {\\rm d} \\omega}{2\\pi^2 v_{s}^3}\n",
    "$$\n",
    "The next assumption Debye allowed for is that, since there is a maximum of $3N$ modes in the crystal, there exists a maximum frequency (the Debye frequency) such that\n",
    "$$\n",
    "    \\int_0^{\\omega_{\\rm D}} g(\\omega) {\\rm d} \\omega = 3N\n",
    "$$\n",
    "which, after substituting in for $g(\\omega)$, gives\n",
    "$$\n",
    "    \\omega_{\\rm D} = \\left( \\frac{6 N \\pi^2 v_{\\rm s}^3 }{V} \\right) ^{1/3}\n",
    "$$\n",
    "which also let's us write\n",
    "$$\n",
    "    g(\\omega) {\\rm d} \\omega = \\frac{9 N \\omega^2 {\\rm d} \\omega}{\\omega_{\\rm D}^3}\n",
    "$$\n",
    "Now, we'll define the Debye temperature as\n",
    "$$\n",
    "    \\Theta_{\\rm D} = \\frac{\\hbar \\omega_{\\rm D}}{k_{\\rm B}}\n",
    "$$\n",
    "\n",
    "So the question we now need to ask is \"is the predicted heat capacity versus temperature from this model a better match to our data?\". Let's work out an expression for it and see.\n",
    "\n",
    "Starting with the partition function, we'll have\n",
    "$$\n",
    "    \\ln(Z) = \\int_0^{\\omega_{\\rm D}} {\\rm d} \\omega \\; g(\\omega) \\; ln \\left[ \\frac{e^{-\\hbar \\omega \\beta/2}}{1-e^{-\\hbar \\omega \\beta}} \\right]\n",
    "$$\n",
    "Breaking this integral up gives\n",
    "$$\n",
    "    \\ln(Z) = -\\int_0^{\\omega_{\\rm D}} \\; \\frac{1}{2} \\hbar \\omega \\beta g(\\omega)  {\\rm d} \\omega + \\int_0^{\\omega_{\\rm D}} \\; g(\\omega) \\ln[1-e^{-\\hbar \\omega \\beta}] {\\rm d} \\omega\n",
    "$$\n",
    "which in turn gives\n",
    "$$\n",
    "    \\ln(Z) = -\\frac{9}{8} N \\hbar \\omega_{\\rm D} \\beta -\\frac{9 N}{\\omega_{\\rm D}^3} \\int_0^{\\omega_{\\rm D}} \\omega^2 \\ln[1-e^{-\\hbar \\omega \\beta}] {\\rm d} \\omega\n",
    "$$\n",
    "The internal energy is then\n",
    "$$\n",
    "    U = - \\frac{\\partial \\ln(Z)}{\\partial \\beta} = -\\frac{9}{8} N \\hbar \\omega_{\\rm D} + \\frac{9 N \\hbar}{\\omega_{\\rm D}^3} \\int_0^{\\omega_{\\rm D}} \\frac{\\omega^2} {e^{\\hbar \\omega \\beta}-1} {\\rm d} \\omega\n",
    "$$"
   ]
  },
  {
   "cell_type": "code",
   "execution_count": null,
   "id": "be435ba2-a342-4020-a5a2-95181d529449",
   "metadata": {},
   "outputs": [],
   "source": []
  }
 ],
 "metadata": {
  "kernelspec": {
   "display_name": "Python 3 (ipykernel)",
   "language": "python",
   "name": "python3"
  },
  "language_info": {
   "codemirror_mode": {
    "name": "ipython",
    "version": 3
   },
   "file_extension": ".py",
   "mimetype": "text/x-python",
   "name": "python",
   "nbconvert_exporter": "python",
   "pygments_lexer": "ipython3",
   "version": "3.8.10"
  }
 },
 "nbformat": 4,
 "nbformat_minor": 5
}
