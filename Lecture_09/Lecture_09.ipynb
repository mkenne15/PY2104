{
 "cells": [
  {
   "cell_type": "markdown",
   "id": "3df9c4f5-59fb-497c-aefb-ca886b8f86c8",
   "metadata": {
    "tags": []
   },
   "source": [
    "# Introduction to Thermodynamics and Statistical Physics"
   ]
  },
  {
   "cell_type": "markdown",
   "id": "2a98a837-de35-4096-8f82-be14d1d4d7e4",
   "metadata": {},
   "source": [
    "In this lecture, we are going to discuss:\n",
    "\n",
    "* Maxwell's Relations.\n",
    "* The Third Law of Thermodynamics."
   ]
  },
  {
   "cell_type": "markdown",
   "id": "aac2f958-38f6-4b1c-90fd-58d13e7c8f47",
   "metadata": {},
   "source": [
    "In the last lecture, we introduced the concept of availability. When a system at energy $U$, volume $V$, and entropy $S$ is in contact with some surroundings which are at a pressure of $P_0$ and $T_)$, we can write the availability as\n",
    "$$\n",
    "    A  = U + P_0 V - T_0 S.\n",
    "$$\n",
    "If the temperature and pressure of the surroundings are constant (which for a small system and a large surrounding, should be true), then we have that \n",
    "$$\n",
    "    {\\rm d} A  = {\\rm d} U + P_0 {\\rm d}V - T_0 {\\rm d}S.\n",
    "$$\n",
    "This expression allows us to work out the available work or energy that a thermodynamic change can give us under certain constaints. For example, we showed that at fixed pressure and temperature, the Gibb's free energy is minimized. This is where the expression free energy comes from, as when something happens at fixed pressure and temperature, we free energy that is equal to the change in Gibb's function."
   ]
  },
  {
   "cell_type": "markdown",
   "id": "5aebc735-1635-4d28-89f5-1cfd315cb443",
   "metadata": {},
   "source": [
    "## Maxwell's Relations"
   ]
  },
  {
   "cell_type": "markdown",
   "id": "f8f00c38-59d1-4ddd-b3d4-ae0ff90df451",
   "metadata": {},
   "source": [
    "Now we are going to use the results of the 4 thermodynamic potentials to derive what are known as Maxwell's relations. First, we need to do a bit of setup. For a general function of two variables which has an exact differential, $f(x,y)$, we have that\n",
    "$$\n",
    "    {\\rm d}f = \\left(\\frac{\\partial f}{\\partial x}\\right)_y {\\rm d}x + \\left(\\frac{\\partial f}{\\partial y}\\right)_x {\\rm d}y\n",
    "$$\n",
    "as we've used many times before. Because ${\\rm d}f$ is an exact differential we can say that\n",
    "$$\n",
    "    \\left(\\frac{\\partial ^2 f}{\\partial x \\partial y}\\right) = \\left(\\frac{\\partial ^2 f}{\\partial y \\partial x}\\right)\n",
    "$$\n",
    "If we then write\n",
    "$$\n",
    "    F_x = \\left(\\frac{\\partial f}{\\partial x}\\right)_y ; \\:\\:\\: F_y = \\left(\\frac{\\partial f}{\\partial y}\\right)_x\n",
    "$$\n",
    "we have\n",
    "$$\n",
    "    \\frac{\\partial F_y}{\\partial x} = \\frac{\\partial F_x}{\\partial y}.\n",
    "$$\n",
    "We can now use these relations on $U$, $H$, $F$, and $G$."
   ]
  },
  {
   "cell_type": "markdown",
   "id": "02876c87-201f-4d74-b68a-a69763ac2d8a",
   "metadata": {},
   "source": [
    "### Example using the Gibbs Free Energy"
   ]
  },
  {
   "cell_type": "markdown",
   "id": "2d33895f-ed62-4f04-a773-039c09d09e1f",
   "metadata": {},
   "source": [
    "The Gibbs Free Energy is $G = H - TS$. As we saw earlier, this gives us that\n",
    "$$\n",
    "    {\\rm d} G= - S {\\rm d} T + V {\\rm d} P.\n",
    "$$\n",
    "We can also write ${\\rm d} G$ as\n",
    "$$\n",
    "    {\\rm d} G= \\left(\\frac{\\partial G}{\\partial T}\\right)_P {\\rm d}T + \\left(\\frac{\\partial G}{\\partial P}\\right)_T {\\rm d}P\n",
    "$$\n",
    "which gives\n",
    "$$\n",
    "   S = -\\left(\\frac{\\partial G}{\\partial T}\\right)_P; \\:\\:\\: V = \\left(\\frac{\\partial G}{\\partial P}\\right)_T\n",
    "$$\n",
    "Let's consider the first of these statements. We can perform the following operation\n",
    "$$\n",
    "    -\\left(\\frac{\\partial S}{\\partial P}\\right)_T = \\left(\\frac{\\partial^2 G}{\\partial P \\partial T}\\right)\n",
    "$$\n",
    "We can do the following to the second statement\n",
    "$$\n",
    "    \\left(\\frac{\\partial V}{\\partial T}\\right)_P = \\left(\\frac{\\partial^2 G}{\\partial T \\partial P}\\right)\n",
    "$$\n",
    "Now\n",
    "$$\n",
    "    \\left(\\frac{\\partial^2 G}{\\partial T \\partial P}\\right) = \\left(\\frac{\\partial^2 G}{\\partial P \\partial T}\\right)\n",
    "$$\n",
    "because $G$ is a function of state (${\\rm d}G$ is an exact differential). So, we get that\n",
    "$$\n",
    "    -\\left(\\frac{\\partial S}{\\partial P}\\right)_T = \\left(\\frac{\\partial V}{\\partial T}\\right)_P\n",
    "$$\n",
    "This is one of Maxwell's relations. We can do the same analysis for the other 3 thermodyanmic potentials, and we end up with the following relations\n",
    "\\begin{align}\n",
    "    \\left(\\frac{\\partial T}{\\partial V}\\right)_S &= - \\left(\\frac{\\partial P}{\\partial S}\\right)_V\\\\\n",
    "    \\left(\\frac{\\partial T}{\\partial P}\\right)_S &= \\left(\\frac{\\partial V}{\\partial S}\\right)_P\\\\\n",
    "    \\left(\\frac{\\partial S}{\\partial V}\\right)_T &= \\left(\\frac{\\partial P}{\\partial T}\\right)_V\\\\\n",
    "    \\left(\\frac{\\partial S}{\\partial P}\\right)_T &= -\\left(\\frac{\\partial V}{\\partial T}\\right)_P\n",
    "\\end{align}\n",
    "\n",
    "So why do we care about these? Well, Maxwell's relations allow us to relate quantities that are difficult to measure with those that are easier to measure. For example, consider the last expression. The change in volume with respect to temperature of a system at constant pressure is a trivial thing to measure - but we now know that this gives us the change in entropy with respect to pressure at constant temperature, which is a very difficult quantity to measure."
   ]
  },
  {
   "cell_type": "markdown",
   "id": "2d163ee5-8c36-4847-92e1-f9cd31f998ee",
   "metadata": {
    "tags": []
   },
   "source": [
    "## Revisiting Heat Capacity (again)"
   ]
  },
  {
   "cell_type": "markdown",
   "id": "bd6fabb0-b567-4874-b26b-88acb24150ef",
   "metadata": {},
   "source": [
    "Ok let's use one of the tricks from the last lecture to derive some more helpful quantities. First, let's start with the fundamental thermodynamic relation, which we can write as :\n",
    "$$\n",
    "     {\\rm d} S = \\frac{1}{T} \\left(\\frac{\\partial U}{\\partial T}\\right)_V {\\rm d} T + \\frac{1}{T}\\left[ P + \\left(\\frac{\\partial U}{\\partial V}\\right)_T \\right] {\\rm d} V\n",
    "$$\n",
    "If we then write $S=S(T,V)$ we get \n",
    "$$\n",
    "    {\\rm d}S = \\left(\\frac{\\partial S}{\\partial T} \\right)_V {\\rm d}T + \\left(\\frac{\\partial S}{\\partial V} \\right)_T {\\rm d}S\n",
    "$$\n",
    "Which immediately gives\n",
    "$$\n",
    "    \\left(\\frac{\\partial S}{\\partial T} \\right)_V = \\frac{1}{T} \\left(\\frac{\\partial U}{\\partial T}\\right)_V; \\: \\: \\: \\left(\\frac{\\partial S}{\\partial V} \\right)_T = \\frac{1}{T}\\left[ P + \\left(\\frac{\\partial U}{\\partial V}\\right)_T \\right]\n",
    "$$\n",
    "Using the fact that\n",
    "$$\n",
    "    \\frac{\\partial^2 S}{\\partial V \\partial T} = \\frac{\\partial^2 S}{\\partial T \\partial V}\n",
    "$$\n",
    "leads us to\n",
    "$$\n",
    "    T \\left(\\frac{\\partial P}{\\partial T} \\right)_V = P + \\left(\\frac{\\partial U}{\\partial V} \\right)_T\n",
    "$$\n",
    "Recalling that\n",
    "$$\n",
    "    C_P-C_V = \\left[ \\left(\\frac{\\partial U}{\\partial V}\\right)_T +P \\right] \\left( \\frac{\\partial V}{\\partial T}\\right)_P.\n",
    "$$\n",
    "(from Lecture 4), we then get\n",
    "$$\n",
    "    C_P-C_V = T \\left(\\frac{\\partial P}{\\partial T} \\right)_V \\left(\\frac{\\partial V}{\\partial T}\\right)_P.\n",
    "$$\n",
    "If we now define\n",
    "$$\n",
    "    \\beta_P = \\frac{1}{V} \\left(\\frac{\\partial V}{\\partial T} \\right)_P; \\: \\: \\: -\\kappa_T = \\frac{1}{V} \\left(\\frac{\\partial V}{\\partial P} \\right)_T;\n",
    "$$\n",
    "where $\\beta_P$ is the isobaric expansivity and $\\kappa_T$ is the isothermal compressibility, and use the following identity\n",
    "$$\n",
    "    \\left(\\frac{\\partial x}{\\partial y}\\right)_z \\left(\\frac{\\partial y}{\\partial z}\\right)_x \\left(\\frac{\\partial z}{\\partial x}\\right)_y = -1\n",
    "$$\n",
    "which gives\n",
    "$$\n",
    "    \\left(\\frac{\\partial P}{\\partial T} \\right)_V = - \\left(\\frac{\\partial V}{\\partial T} \\right)_P \\left(\\frac{\\partial P}{\\partial V} \\right)_T\n",
    "$$\n",
    "Tidying up gives that\n",
    "$$\n",
    "    C_P-C_V = \\frac{T V \\beta_P^2}{\\kappa_T}\n",
    "$$\n",
    "These are all quantities which are easily measurable in the lab, meaning the difference in the heat capacities can be easily obtained."
   ]
  },
  {
   "cell_type": "markdown",
   "id": "bdb9d4b4-fda5-4c2e-ab7f-b6e644cf754e",
   "metadata": {
    "tags": []
   },
   "source": [
    "## The absolute scale of entropy?"
   ]
  },
  {
   "cell_type": "markdown",
   "id": "6a163034-04dc-4a79-9d35-985582a7c6a9",
   "metadata": {},
   "source": [
    "The second law of thermodynamics introduced the concept of entropy, and that it either always stays constant or else increases for an isolated system. However, we don't know yet how to measure entropy, or what a typical value for it might be.\n",
    "\n",
    "Consider again our definitions of heat capacities. We have that\n",
    "$$\n",
    "    C_{\\rm V} = \\left(\\frac{\\partial Q}{\\partial T}\\right)_V = T \\left(\\frac{\\partial S}{\\partial T}\\right)_V\n",
    "$$\n",
    "and \n",
    "$$\n",
    "    C_{\\rm P} = \\left(\\frac{\\partial Q}{\\partial T}\\right)_P = T \\left(\\frac{\\partial S}{\\partial T}\\right)_P\n",
    "$$\n",
    "From this, we have that\n",
    "$$\n",
    "    S = \\int \\frac{{\\rm d}Q}{T} = \\int \\frac{C_P}{T} {\\rm d} T\n",
    "$$\n",
    "If we integrate this function, we end up with an undefined constant\n",
    "$$\n",
    "    S(T) = S(T_0) + \\int _{T_0} ^T \\frac{C_P}{T} {\\rm d} T\n",
    "$$\n",
    "In the test on Friday, we saw that measuring changes of S is possible, but figuring out an absolute measurement of entropy is not easy. This is what the third law of thermodynamics addresses.\n",
    "\n"
   ]
  },
  {
   "cell_type": "markdown",
   "id": "3e26c508-f2c5-4f35-a2d8-9ce98769b75b",
   "metadata": {
    "tags": []
   },
   "source": [
    "## The Third Law of Thermodynamics"
   ]
  },
  {
   "cell_type": "markdown",
   "id": "af090af5-f066-44d4-be42-11863e67cc99",
   "metadata": {},
   "source": [
    "There are two ways of arriving at a definition of the third law: statistically and experimentally. Let's start with the statistical definition.\n",
    "\n",
    "### Statistical\n",
    "Consider a system which has distinct energy levels. If we enumerate over the energy levels without repitition, we have\n",
    "$$\n",
    "    E_1<E_2<E_3<...<E_r<...\n",
    "$$\n",
    "such that the degeneracy of level $E_r$ is $G(E_r)$. The probability of the system being in a state with energy $E_r$ is thus\n",
    "$$\n",
    "    P(E_r) = \\frac{1}{Z} g(E_r) {\\rm e}^{-\\beta E_r}\n",
    "$$\n",
    "If the temperature of the system is low enough such that\n",
    "$$\n",
    "    E_2 - E_1 >> k_{\\rm B}T\n",
    "$$\n",
    "Then we'll have that\n",
    "$$\n",
    "    P(E_1) \\approx 1, P(E_r) \\approx 0\n",
    "$$\n",
    "for all r > 1. Basically, we're saying that at low temperatures, we should only ever find the system to be in its ground state. The entropy of the system at these low temperatures must then satisfy\n",
    "$$\n",
    "   \\lim_{T\\to 0} S = k_{\\rm B} \\ln g(E_1)\n",
    "$$\n",
    "Although it has not be proven that $g(E_1)=1$ for all systems (that is, the ground state for every system is non-degenerate), it holds for all cases that have been checked. This then means that\n",
    "$$\n",
    "   \\lim_{T\\to 0} S = 0\n",
    "$$\n",
    "This leads quite nicely to Plancks statement of the third lad, which is that\n",
    "\n",
    "**The entropy of all systems in internal equilibrium is the same as absolute 0, and may be taken to be zero**"
   ]
  }
 ],
 "metadata": {
  "kernelspec": {
   "display_name": "Python 3 (ipykernel)",
   "language": "python",
   "name": "python3"
  },
  "language_info": {
   "codemirror_mode": {
    "name": "ipython",
    "version": 3
   },
   "file_extension": ".py",
   "mimetype": "text/x-python",
   "name": "python",
   "nbconvert_exporter": "python",
   "pygments_lexer": "ipython3",
   "version": "3.11.10"
  }
 },
 "nbformat": 4,
 "nbformat_minor": 5
}
