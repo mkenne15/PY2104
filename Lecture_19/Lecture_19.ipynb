{
 "cells": [
  {
   "cell_type": "markdown",
   "id": "bae0279d-97e5-4eca-a89c-cce7e77359c0",
   "metadata": {
    "tags": []
   },
   "source": [
    "# Introduction to Thermodynamics and Statistical Physics"
   ]
  },
  {
   "cell_type": "markdown",
   "id": "5cf68e18-af24-4888-b103-5a619dfb0d62",
   "metadata": {},
   "source": [
    "In this lecture, we are going to discuss:\n",
    "\n",
    "* The Joule Effect.\n",
    "* The Joule-Thomson Effect."
   ]
  },
  {
   "cell_type": "markdown",
   "id": "990431c1-d06c-44e3-9838-78cf3c63d1cd",
   "metadata": {},
   "source": [
    "## The Joule effect (revisited)"
   ]
  },
  {
   "cell_type": "markdown",
   "id": "e4b8665e-86e6-411f-a1e9-b57fbc9d4acf",
   "metadata": {},
   "source": [
    "In our final discussion around how real gases differ from an ideal gas, we are going to return to the Joule expansions which was introduced in Lecture 5. In this expansion, a gas which is initially on the left side of a container is suddenly allowed to expand into the right. If the system is entirely isolated, then no work is done on the gas, and it cannot exchange heat with its surroundings. As such, the internal energy of the gas remains constant.\n",
    "\n",
    "![Joule_Expansion](Figures/Joule_Expansion.png)\n",
    "\n",
    "In this scenario, we are interested in answering the following question: after opening the valve, does the temperature of the gas change, does it cool, or does it warm up? To answer this, we will need to evalvuate the Joule coefficient, which we define as\n",
    "$$\n",
    "    \\mu_{\\rm J} = \\left( \\frac{\\partial T}{\\partial V} \\right)_U\n",
    "$$\n",
    "It's been a while since we've used this trick, so it's worth recalling that\n",
    "$$\n",
    "    \\left( \\frac{\\partial T}{\\partial V} \\right)_U \\left( \\frac{\\partial V}{\\partial U} \\right)_T \\left( \\frac{\\partial U}{\\partial T} \\right)_V = -1\n",
    "$$\n",
    "such that \n",
    "$$\n",
    "    \\left( \\frac{\\partial T}{\\partial V} \\right)_U = - \\left( \\frac{\\partial U}{\\partial V} \\right)_T \\left( \\frac{\\partial T}{\\partial U} \\right)_V\n",
    "$$\n",
    "so the Joule coefficient can be written as\n",
    "$$\n",
    "    \\mu_J = - \\left( \\frac{\\partial T}{\\partial U} \\right)_V \\left( \\frac{\\partial U}{\\partial V} \\right)_T  = - \\frac{1}{C_{\\rm V}} \\left( \\frac{\\partial U}{\\partial V} \\right)_T\n",
    "$$\n",
    "That last term is still a bit tricky to work with, so let's work to restructure this equation into something easier. First, from the fundamental thermodynamic relation we have that\n",
    "$$\n",
    "    {\\rm d} U = T {\\rm d} S - P {\\rm d} V\n",
    "$$\n",
    "which implies that\n",
    "$$\n",
    "    \\left(\\frac{\\partial U}{\\partial V} \\right)_T = T \\left(\\frac{\\partial S}{\\partial V} \\right)_T - P\n",
    "$$\n",
    "Recalling the Maxwell relation\n",
    "$$\n",
    "  \\left(\\frac{\\partial S}{\\partial V} \\right)_T =   \\left(\\frac{\\partial P}{\\partial T} \\right)_V\n",
    "$$\n",
    "we get\n",
    "$$\n",
    "    \\left(\\frac{\\partial U}{\\partial V} \\right)_T = T \\left(\\frac{\\partial P}{\\partial T} \\right)_V - P.\n",
    "$$\n",
    "This finally gives the expression\n",
    "$$\n",
    "    \\mu_{\\rm J} = - \\frac{1}{C_{\\rm V}} \\left[ T \\left(\\frac{\\partial P}{\\partial T} \\right)_V - P \\right]\n",
    "$$\n",
    "For an ideal gas, $PV = N k_{\\rm B} T$. As such, \n",
    "$$\n",
    "    \\left(\\frac{\\partial P}{\\partial T} \\right)_V = \\frac{N k_{\\rm B}}{V}\n",
    "$$\n",
    "and\n",
    "$$\n",
    "    T \\left(\\frac{\\partial P}{\\partial T} \\right)_V = P\n",
    "$$\n",
    "This means the Joule coefficient is 0 for an ideal gas, which means the temperature of the ideal gas does not change during the expansion.\n",
    "\n",
    "However, as we now know, an ideal isn't always the appropriate equation of state to adopt for this situation. Let's instead assume we have a Van der Waals gas:\n",
    "$$\n",
    "    \\left(P + \\frac{a}{V^2}\\right) (V - b) = N k_{\\rm B} T\n",
    "$$\n",
    "where $a$ is related to interatomic spacing and $b$ is due to the non-zero volume occupied by molecules in our gas. In this case\n",
    "$$\n",
    "    \\left(\\frac{\\partial P}{\\partial T} \\right)_V  = \\frac{N k_{\\rm B}}{(V - b)}\n",
    "$$\n",
    "which means the Joule coefficient is\n",
    "$$\n",
    "    \\mu_{\\rm J} = - \\frac{a}{C_{\\rm V}V^2}\n",
    "$$\n",
    "This is negative since $a$, $C_{\\rm V}$, and $V^2$ are all positive, which means that\n",
    "$$\n",
    "    \\left( \\frac{\\partial T}{\\partial V} \\right)_U < 0.\n",
    "$$\n",
    "That is, a real gas cools as it expands during a Joule expansion. This means that if we had a gas and wanted to cool it, we could use the Joule effect to do it without doing any work on the gas.\n",
    "\n",
    "However, the setup is not really useful in real world situations (how often do you have a gas totally isolated to one side of a chamber, and then let it expand? Also, what would you even do with it afterwards?).\n",
    "\n",
    "This brings us on to..."
   ]
  },
  {
   "cell_type": "markdown",
   "id": "4db88135-9420-4b1d-87c3-82dd63b78059",
   "metadata": {},
   "source": [
    "## The Joule Thomson Expansion"
   ]
  },
  {
   "cell_type": "markdown",
   "id": "ec8da1e4-be6e-47ce-91b2-ffcf618788d8",
   "metadata": {},
   "source": [
    "The Joule-Thompson builds on this initial picture. Instead of a container with a stationary gas, and where we let the gas change volume at constant energy, it instead assumes we have a steady flow of gas from a high pressure region at $P_1$ to a low pressure region at $P_2$ via a throttle (or a porous plug, something that can maintain the pressure difference).\n",
    "\n",
    "![Joule_Expansion](Figures/Joule_Thompson_Expansion.png)\n",
    "\n",
    "This is an irreversible process. However, since the initial and final states are both equilibria states, we can pretend that it does happen reversibly. This leads to the following treatment.\n",
    "\n",
    "Any gas that is entering into throttle must have work equal to $P_1 V_1$ done on it. After the gas has passed through the throttle, it will expand to pressure $P_2$, thus doing work $P_2 V_2$ on whatever gas was there before. As such, the total work done on the gas as it is compressed and then expands is $W= P_1V_1 - P_2V_2$. Assuming the system is thermally isolated, this means that the change in internal energy of the gas must be $U_2 - U_1 = P_2V_2 - P_1V_1$ which gives\n",
    "$$\n",
    "    U_1+ P_1V_1=U_2+ P_2V_2\n",
    "$$\n",
    "Since we know that the enthalpy is $H=U+PV$, this means that\n",
    "$$\n",
    "    H_1 = H_2.\n",
    "$$\n",
    "That is, the enthalpy is conserved in such a process! So for this process, we want to ask the question: \"What is the change in temperature with respect to pressure, when performed at constant enthalpy?\" or, more formally, we will define the Joule-Thomson coefficient to be\n",
    "$$\n",
    "    \\mu_{\\rm JT} = \\left( \\frac{\\partial T}{\\partial P} \\right) _H.\n",
    "$$\n",
    "As done above, we can subsitute the partial derivative term with\n",
    "$$\n",
    "    \\left( \\frac{\\partial T}{\\partial P} \\right) _H = - \\left( \\frac{\\partial T}{\\partial H} \\right) _P \\left( \\frac{\\partial H}{\\partial P} \\right)_T\n",
    "$$\n",
    "which means we can write $\\mu_{\\rm JT}$ to be\n",
    "$$\n",
    "    \\mu_{\\rm JT} = - \\frac{1}{C_{\\rm P}} \\left( \\frac{\\partial H}{\\partial P} \\right)_T\n",
    "$$\n",
    "We also know that ${\\rm d} H = T {\\rm d} S +V {\\rm d} P$ (see Lecture 7), giving\n",
    "$$\n",
    "    \\left( \\frac{\\partial H}{\\partial P} \\right)_T = T \\left( \\frac{\\partial S}{\\partial P} \\right)_T + V\n",
    "$$\n",
    "leading to\n",
    "$$\n",
    "    \\mu_{\\rm JT} = \\frac{1}{C_{\\rm P}} \\left[ T \\left( \\frac{\\partial V}{\\partial T} \\right)_P - V \\right]\n",
    "$$\n",
    "where we've used a Maxwell relation to replace the partial derivative that was there.\n",
    "\n",
    "It's worth comparing this to the Joule coefficient for a moment. For $\\mu_{\\rm J}$, we had to evaluate $\\left(\\frac{\\partial P}{\\partial T} \\right)_V$ for both an ideal gas and a Van der Waals gas to determine the sign of the coefficient, and we found that it's always negative for any gas. However, for $\\mu_{\\rm J}$, we instead need to evaluate $\\left( \\frac{\\partial V}{\\partial T} \\right)_P$. This is fine for an ideal gas, but even just for a Van der Waals gas, it is very difficult (give it a try if you don't believe me).\n",
    "\n",
    "The key point to take away is that $\\mu_{\\rm J}$ can take either a positive or a negative sign. The point at which the coefficient vanishes is given by\n",
    "$$\n",
    "    T \\left( \\frac{\\partial V}{\\partial T} \\right)_P - V = 0\n",
    "$$\n",
    "or when\n",
    "$$\n",
    "    \\left( \\frac{\\partial V}{\\partial T} \\right)_P = \\frac{V}{T}\n",
    "$$\n",
    "This equation defines a curve in the T-P plane, and is known as the inversion curve. I still need to develop a good example for this, which will be added soon."
   ]
  },
  {
   "cell_type": "code",
   "execution_count": null,
   "id": "bcd7ac19-69ce-4918-98fd-072e76654834",
   "metadata": {},
   "outputs": [],
   "source": []
  }
 ],
 "metadata": {
  "kernelspec": {
   "display_name": "Python 3 (ipykernel)",
   "language": "python",
   "name": "python3"
  },
  "language_info": {
   "codemirror_mode": {
    "name": "ipython",
    "version": 3
   },
   "file_extension": ".py",
   "mimetype": "text/x-python",
   "name": "python",
   "nbconvert_exporter": "python",
   "pygments_lexer": "ipython3",
   "version": "3.11.10"
  }
 },
 "nbformat": 4,
 "nbformat_minor": 5
}
