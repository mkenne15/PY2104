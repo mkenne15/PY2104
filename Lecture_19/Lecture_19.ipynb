{
 "cells": [
  {
   "cell_type": "markdown",
   "id": "56dfe867-dc5c-41b6-a173-d6ab1831cedc",
   "metadata": {},
   "source": [
    "# Motivation for todays lecture"
   ]
  },
  {
   "cell_type": "markdown",
   "id": "55550290-5675-47ec-b64c-2b09d95fc758",
   "metadata": {},
   "source": [
    "In Lectures 12 and 13, we introduced the idea of a perfect classical gas. I won't cover all of the background here, but the main point was that when we had a gas of weakly-interacting particles, and when there is a very low probability of 2 particles occupying the same state, the partition function could be written as\n",
    "$$\n",
    "    Z = \\frac{1}{N!} Z_1^N.\n",
    "$$\n",
    "The condition for having a low probability of 2 particles occupying the same state was given by\n",
    "$$\n",
    "    n<<n_{\\rm Q}\n",
    "$$\n",
    "where \n",
    "$$\n",
    "    n_{\\rm Q} = \\frac{1}{\\hbar^3} \\left(\\frac{mk_{\\rm B}T}{2\\pi}\\right)^{3/2}\n",
    "$$\n",
    "\n",
    "In todays lecture, we will be addressing the following question: imagine we are not in the classical regime. In such a case, do we expect more than 1 particle to occupy the same state, and what do the statistics in this regime look like?"
   ]
  },
  {
   "cell_type": "markdown",
   "id": "22da271d-c8cb-45f6-957a-5cb7380ac6c3",
   "metadata": {},
   "source": [
    "# Bose-Einstein and Fermi-Dirac statistics"
   ]
  },
  {
   "cell_type": "markdown",
   "id": "2bc6085b-0cb7-4069-b5f7-54040912f283",
   "metadata": {},
   "source": [
    "## Bosons and Fermions\n",
    "In todays lecture, we are going to be looking at how one of the results from quantum mechanics affects statistical thermodynamics. First, let's consider a gas with $N$ non-interacting, identical particles. The system possess a set of states with allowed energies of \n",
    "$$\n",
    "    \\epsilon_1 \\leq \\epsilon_2 \\leq \\dots \\epsilon_r \\leq \\dots\n",
    "$$\n",
    "The occupation number of each state is \n",
    "$$\n",
    "    n_1,n_2,\\dots,n_r,\\dots\n",
    "$$\n",
    "Thus, the question we want to answer is what values can the occupation numbers take?\n",
    "\n",
    "To answer this, The main result that we will need to borrow is that there are two types of identical particles:\n",
    "\n",
    "- Bosons - particles which may share the same quantum state as each other. For these particles, $n_r$ can take any integer value. Statistics involving bosons is known as Bose-Einstein statistics.\n",
    "    * Examples: Photons, $\\pi$ mesons, $K$ mesons, He$^4$ atoms.\n",
    "- Fermions - particles for which only one particle is permitted per quantum state. For these particles, $n_r$ can only be 0 or 1. Statistics involving bosons is known as Fermi-Dirac statistics.\n",
    "    * Examples: Electrons, protons, neutrons.\n",
    "    \n",
    "The result that $n_r$ can only be 0 or 1 for fermions is also known as the Pauli exclusion principle, as it states that two identical fermions cannot be in the same single-particle state.\n",
    "\n",
    "So what is driving the distinction between bosons and fermions? Recall another result from quantum mechanics: particles possess an intrinsic angular momentum called spin, which is quantised into units of $\\frac{1}{2} \\hbar \\omega$. Experimentally, it has been shown that:\n",
    "\n",
    "- Bosons have integer spin: $0, \\hbar \\omega, 2 \\hbar \\omega, \\dots$.\n",
    "- Fermions have half integer spin: $\\frac{1}{2} \\hbar \\omega, \\frac{3}{2} \\hbar \\omega, \\dots$.\n",
    "\n",
    "Finally, in quantum mechanics particles are characterised by their wave function, $\\psi$, which denotes the probability that a particle is in a certain state.\n",
    "\n",
    "- Bosons have symmetric wave functions: $\\psi(1,2) = \\phi_r(1)\\phi_s(2)+\\phi_r(2)\\phi_s(1) = \\psi(2,1)$. This mathematically says that the particle are indistinguishable.\n",
    "- Fermions have antisymmetric wave functions: $\\psi(1,2) = \\phi_r(1)\\phi_s(2)-\\phi_r(2)\\phi_s(1) = -\\psi(2,1)$. This vanishs if the particles are in the same state ($r=s$).\n",
    "\n",
    "\n",
    "## The partition function\n",
    "\n",
    "Now that we have the ground work laid out, let's calculate the partition function for both types of particles. Consider a gas of $N$ particles, which are non-interacting and whose energy levels have occupation numbers as discussed above. Such a gas is called a perfect quantal gas. The energy of the system will be given by\n",
    "$$\n",
    "    U = \\sum_{r} n_r \\epsilon_r\n",
    "$$\n",
    "where this is a sum over all available states, and $n_r$ is the occupation number of each state. The occupation numbers are given by\n",
    "\\begin{align}\n",
    "    n_r &= 0,1 & {\\rm all \\: r \\: Fermi-Dirac}\\\\\n",
    "    n_r &= 0,1,2,\\dots & {\\rm all \\: r \\: Bose-Einstein}\n",
    "\\end{align}\n",
    "Finally, we require that\n",
    "$$\n",
    "    N = \\sum n_r\n",
    "$$\n",
    "\n",
    "So, the partition function is\n",
    "\\begin{align}\n",
    "    Z(T,V,N) &= \\sum_{n_1n_2,\\dots,n_r} e^{-\\beta \\sum_{r} n_r \\epsilon_r}\\\\\n",
    "    Z(T,V,N) &= \\sum_{n_1n_2,\\dots,n_r} e^{-\\beta (n_1 \\epsilon_1+n_2 \\epsilon_2+\\dots)}\n",
    "\\end{align}\n",
    "\n",
    "If we differentiate $\\ln Z$ with respect to the energy level $\\epsilon_i$ while leaving the temperature and other energy levels constant, we obtain the mean occupation number $\\bar{n}_i$ of the state $i$. That is\n",
    "$$\n",
    "    \\bar{n}_i = \\frac{1}{\\beta}\\left(\\frac{\\partial \\ln Z}{\\partial \\epsilon_i}\\right)_{T,\\epsilon_r(r!=i)} = \\frac{\\sum_{n_1n_2,\\dots} n_i {\\rm exp}[-\\beta(n_1 \\epsilon_1+n_2 \\epsilon_2+\\dots)]}{\\sum_{n_1n_2,\\dots} {\\rm exp}[-\\beta(n_1 \\epsilon_1+n_2 \\epsilon_2+\\dots)]}\n",
    "$$\n",
    "\n",
    "From this, we can calculate all desired quantities of the system at hand.\n",
    "\n",
    "### Example: Photons\n",
    "Borrowing a few more results from quantum mechanics, we will start with the following information.\n",
    "\n",
    "- Photons have a spin of 1, meaning they act like bosons.\n",
    "- Photons do not interact with each other, meaning a gas of photons acts like a perfect quantal gas"
   ]
  },
  {
   "cell_type": "code",
   "execution_count": null,
   "id": "bcd7ac19-69ce-4918-98fd-072e76654834",
   "metadata": {},
   "outputs": [],
   "source": []
  }
 ],
 "metadata": {
  "kernelspec": {
   "display_name": "Python 3 (ipykernel)",
   "language": "python",
   "name": "python3"
  },
  "language_info": {
   "codemirror_mode": {
    "name": "ipython",
    "version": 3
   },
   "file_extension": ".py",
   "mimetype": "text/x-python",
   "name": "python",
   "nbconvert_exporter": "python",
   "pygments_lexer": "ipython3",
   "version": "3.8.10"
  }
 },
 "nbformat": 4,
 "nbformat_minor": 5
}
