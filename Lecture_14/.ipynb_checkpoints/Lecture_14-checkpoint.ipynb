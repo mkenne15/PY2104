{
 "cells": [
  {
   "cell_type": "markdown",
   "id": "4aac6b7a-c642-42ac-9692-edcaf8b9cea6",
   "metadata": {
    "tags": []
   },
   "source": [
    "# Introduction to Thermodynamics and Statistical Physics"
   ]
  },
  {
   "cell_type": "markdown",
   "id": "b434c8a5-e4ac-433f-8957-50e1b8802a74",
   "metadata": {},
   "source": [
    "In this lecture, we are going to discuss:\n",
    "\n",
    "* Functions of state of an ideal gas.\n",
    "* The Maxwell-Boltzmann distribution."
   ]
  },
  {
   "cell_type": "markdown",
   "id": "2ef4d89a-53ee-463d-9f94-e9afcab884b0",
   "metadata": {},
   "source": [
    "## Functions of state of an ideal gas"
   ]
  },
  {
   "cell_type": "markdown",
   "id": "6b5acae1-86ca-4364-9f28-212dd2d6fc38",
   "metadata": {},
   "source": [
    "So now that we know how to calculate the partition function for N indistinguishable particles, let's apply the techniques we have developed to understand an ideal gas. The partition function for N particles in a gas is\n",
    "$$\n",
    "    Z_N = \\frac{1}{N!} \\left( \\frac{V}{\\lambda_{\\rm th}^3}\\right)^N\n",
    "$$\n",
    "Using the expression for $\\lambda_{\\rm th}$, we then get that\n",
    "$$\n",
    "    Z_N = \\frac{1}{N!} V^N \\left( \\frac{ 2\\pi m k_{\\rm B} T}{h^2}\\right)^{3N/2}\n",
    "$$\n",
    "This means that\n",
    "$$\n",
    "    \\ln{Z_N} = N \\ln{V} + \\frac{3}{2} N \\ln{T} + C\n",
    "$$\n",
    "The internal energy is then given by\n",
    "$$\n",
    "    U = -\\frac{\\partial \\ln Z_N}{\\partial \\beta} = k_{\\rm B} T^2 \\frac{\\partial \\ln Z_N}{\\partial T} = \\frac{3}{2}N k_{\\rm B}T\n",
    "$$\n",
    "The Helmholtz free energy is\n",
    "$$\n",
    "    F = -k_{\\rm B} T \\ln Z_N = -k_{\\rm B} T N \\ln{V} -k_{\\rm B} T \\frac{3}{2} N \\ln{T} -k_{\\rm B} T C\n",
    "$$\n",
    "such that if we use (from Lecture 7)\n",
    "$$\n",
    "    P = -\\left( \\frac{\\partial F}{\\partial V} \\right)_T = \\frac{N k_{\\rm B} T}{V}\n",
    "$$\n",
    "which is the equation of state for an ideal gas!\n",
    "In order to work out the other thermodynamic quantities, we need to be a bit more careful with those constants in earlier equations. Returning to the partition function, we can write it instead as.\n",
    "$$\n",
    "    \\ln{Z_N} = N \\ln{V} - 3 N \\ln {\\lambda_{\\rm th}} - N \\ln N + N\n",
    "$$\n",
    "after using Stirlings approximation of $\\ln{N!} \\sim N\\ln {N} - N$. This further simplifies to\n",
    "$$\n",
    "    \\ln{Z_N} = N \\ln \\left(\\frac{V {\\rm e} }{N \\lambda_{\\rm th}^3}\\right)\n",
    "$$\n",
    "and so the Helmholtz free energy is given by\n",
    "\\begin{align}\n",
    "    F &= -N k_{\\rm B} T \\ln \\left(\\frac{V {\\rm e} }{N \\lambda_{\\rm th}^3}\\right)\\\\\n",
    "      &= N k_{\\rm B} T[ \\ln (n \\lambda_{\\rm th}^3)-1]\n",
    "\\end{align}\n",
    "from which all other thermodynamic quantities of an ideal gas can be derived."
   ]
  },
  {
   "cell_type": "markdown",
   "id": "cfbd29b7-e31c-4662-9c98-0570dbe9fa73",
   "metadata": {},
   "source": [
    "## The Maxwell Boltzmann Distribution"
   ]
  },
  {
   "cell_type": "markdown",
   "id": "6299545e-eb0a-4bb4-84c8-b88b5a8af5da",
   "metadata": {},
   "source": [
    "The next question we want to ask is, given a gas at a certain temperature, what is the distribution of particle velocities within that gas?\n",
    "\n",
    "First, we will ignore all rotational or vibrational energies associated with any particles (that is, we will assume a monatomic gas where the energy only arises due to translational motion of the particles, see Lecture 9). As such, the energy of a single particle can be written as\n",
    "$$\n",
    "    \\epsilon = \\frac{p^2}{2m}\n",
    "$$\n",
    "The probability that a particle is in a particular state $s$ with translational energy $\\epsilon$ is then given by\n",
    "$$\n",
    "    P_s = \\frac{1}{Z_1}e^{-\\beta \\epsilon}\n",
    "$$\n",
    "If the gas consisits of $N$ particles, the mean number $\\bar{n}_s$ of particles which are in the translational state $s$ is given by\n",
    "$$\n",
    "    \\bar{n}_s = NP_s\n",
    "$$\n",
    "Now, substituting for $Z_1$ and $\\epsilon$ then gives\n",
    "$$\n",
    "    \\bar{n}_s(p) = \\frac{\\hbar^3 N}{V} \\left(\\frac{2\\pi}{mk_{\\rm B}T}\\right)^{3/2} \\exp \\left( \\frac{- p^2}{2mk_{\\rm B}T} \\right)\n",
    "$$\n",
    "We now need to figure out what the appropriate expression is for particles which have momenta between ${\\bf p}$ and ${\\bf p}+{\\rm d}{\\bf p}$. Fortunately, we can get this from the density of states equation\n",
    "$$\n",
    "    g(k){\\rm d}k = \\frac{V k^2 {\\rm d} k}{2\\pi^2}\n",
    "$$\n",
    "and using the relation that $p=\\hbar k$. This gives \n",
    "$$\n",
    "    f(p){\\rm d}p = \\frac{V p^2 }{2\\pi^2 \\hbar^3} {\\rm d} p\n",
    "$$\n",
    "This means that the probability that a particle will possess a momentum with magnitude between ${\\bf p}$ and ${\\bf p}+{\\rm d}{\\bf p}$ is given by\n",
    "$$\n",
    "    P(p)dp = \\frac{1}{N} f(p) \\; dp \\;\\bar{n}(p)\n",
    "$$\n",
    "Plugging in our above expressions thus gives\n",
    "$$\n",
    "    P(p)dp = \\frac{4\\pi p^2}{(2 \\pi m k_{\\rm B} T)^{3/2}} \\exp \\left(\\frac{- p^2}{2mk_{\\rm B}T}\\right) dp\n",
    "$$\n",
    "The normalisation for this equation is the condition that\n",
    "$$\n",
    "    \\int_{0}^{\\infty} P(p)dp = 1\n",
    "$$\n",
    "So, what does this equation tell us? If we let $p=mv$, then the expression above becomes\n",
    "$$\n",
    "    P(v)dv = 4\\pi v^2\\left( \\frac{m}{2 \\pi k_{\\rm B} T}\\right)^{3/2} \\exp \\left(\\frac{- mv ^2}{2k_{\\rm B}T}\\right) dv\n",
    "$$\n",
    "which, if we then let $u=v / \\left(\\frac{2 k_{\\rm B} T}{m}\\right)^{1/2}$, becomes \n",
    "$$\n",
    "    P(u)du = \\frac{4}{\\sqrt{\\pi}} u^2 \\exp (-u^2) du = F_1(u) du\n",
    "$$\n",
    "This equation describes a Maxwell velocity distribution, and is plotted below."
   ]
  },
  {
   "cell_type": "code",
   "execution_count": 1,
   "id": "1fb5a646-9547-48b9-9f15-6b5cf6c9578d",
   "metadata": {},
   "outputs": [
    {
     "data": {
      "image/png": "[encoded data removed]",
      "text/plain": [
       "<Figure size 450x300 with 1 Axes>"
      ]
     },
     "metadata": {
      "needs_background": "light"
     },
     "output_type": "display_data"
    }
   ],
   "source": [
    "import numpy as np\n",
    "import matplotlib.pyplot as plt\n",
    "\n",
    "u = np.arange(0,3,0.01) #in units of eps\n",
    "F = 4/ np.pi**(1/2) * u**2 * np.exp(-u**2)\n",
    "\n",
    "fig, ax = plt.subplots(ncols=1,figsize=[3,2],dpi=150)\n",
    "ax.plot(u,F)\n",
    "ax.set_xlabel(r\"$u = v / \\left(\\frac{2 k_{\\rm B} T}{m}\\right)^{1/2}$\")\n",
    "ax.set_ylabel(r\"$F_1(u)$\")\n",
    "ax.set_xlim(0,3)\n",
    "ax.set_ylim(0,0.85)\n",
    "ax.axvline(1,linestyle='-',color='grey',label=r'$v_{\\rm max}$')\n",
    "ax.axvline(2/np.sqrt(np.pi),linestyle='--',color='grey',label=r'$\\langle v \\rangle$')\n",
    "ax.axvline(np.sqrt(3/2),linestyle='-.',color='grey',label=r'$v_{\\rm rms}$')\n",
    "plt.legend()\n",
    "plt.tight_layout()\n",
    "plt.savefig(\"Figures/Maxwell_Distribution.png\")\n",
    "plt.show()"
   ]
  },
  {
   "cell_type": "markdown",
   "id": "06df9641-8795-4dd5-a3f0-964586410013",
   "metadata": {},
   "source": [
    "First, the maximum of the distribution occurs at\n",
    "\n",
    "$$\n",
    "    v_{\\rm max}=\\left(\\frac{2 k_{\\rm B} T}{m}\\right)^{1/2}\n",
    "$$\n",
    "\n",
    "Now, the mean value for the velocity, $\\langle v \\rangle$, can be found using\n",
    "$$\n",
    "    \\langle u \\rangle = \\int_0^\\infty u P(u) du = \\frac{4}{\\sqrt{\\pi}} \\int_0^\\infty u^3 e^{-u^2} du\n",
    "$$\n",
    "That last term is a known intergral, and is $\\int_0^\\infty u^3 e^{-u^2} du = \\frac{1}{2}$. This gives\n",
    "$$\n",
    "    \\langle u \\rangle = \\frac{2}{\\sqrt{\\pi}}\n",
    "$$\n",
    "which, substituting in for $\\langle v \\rangle$, gives\n",
    "$$\n",
    "    \\langle v \\rangle = \\left(\\frac{8 k_{\\rm B} T}{\\pi m}\\right)^{1/2} = \\frac{2}{\\sqrt{\\pi}} v_{\\rm max}\n",
    "$$\n",
    "The mean value for the squared-velocity can be found using a similar procedure, and gives\n",
    "$$\n",
    "    \\langle v^2 \\rangle = \\frac{3 k_{\\rm B} T}{m}\n",
    "$$\n",
    "which means the root-mean-square (RMS) of the velocity is\n",
    "$$\n",
    "    v_{\\rm RMS} = \\sqrt{\\langle v^2 \\rangle} = \\sqrt{\\frac{3 k_{\\rm B} T}{ m}} = \\sqrt{\\frac{3}{2}} v_{\\rm max}\n",
    "$$\n",
    "This means that $v_{\\rm max} \\langle \\langle v \\rangle\\langle v_{\\rm RMS}$ - so the velocity which has the highest probability of occuring is lower than the mean velocity, which is lower than the RMS velocity. This is because the long tail to our distribution. Remembering this is important when discussing the kinematics of gases (to come next year)\n",
    "This means that the average kinetic energy of a particle in this gas is\n",
    "$$\n",
    "    \\langle E \\rangle= \\frac{1}{2} m \\langle v^2 \\rangle= \\frac{3}{2} k_{\\rm B} T\n",
    "$$\n",
    "in agreement with our previous result for the an ideal gas (if we multiple this by N particles)."
   ]
  },
  {
   "cell_type": "code",
   "execution_count": null,
   "id": "39b42001-e5e4-4688-870c-81de429f82a8",
   "metadata": {},
   "outputs": [],
   "source": []
  }
 ],
 "metadata": {
  "kernelspec": {
   "display_name": "Python 3 (ipykernel)",
   "language": "python",
   "name": "python3"
  },
  "language_info": {
   "codemirror_mode": {
    "name": "ipython",
    "version": 3
   },
   "file_extension": ".py",
   "mimetype": "text/x-python",
   "name": "python",
   "nbconvert_exporter": "python",
   "pygments_lexer": "ipython3",
   "version": "3.8.10"
  }
 },
 "nbformat": 4,
 "nbformat_minor": 5
}
