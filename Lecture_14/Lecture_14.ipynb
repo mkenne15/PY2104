{
 "cells": [
  {
   "cell_type": "markdown",
   "id": "06b570db-d382-4eec-a913-527e1f4a7df7",
   "metadata": {},
   "source": [
    "# The Chemical Potential and Phase transitions"
   ]
  },
  {
   "cell_type": "markdown",
   "id": "ebbc6255-2ff7-4442-b041-7e2691f69c87",
   "metadata": {},
   "source": [
    "At the end of the last lecture, we defined the chemical potential as \n",
    "$$\n",
    "    \\mu_i = -T_i \\left( \\frac{\\partial S_i}{\\partial N_i}\\right)_{V_i,U_i}.\n",
    "$$\n",
    "such that for a single component which has two phases that are in equilibrium gives that\n",
    "$$\n",
    "    \\mu_1 = \\mu_2.\n",
    "$$\n",
    "\n",
    "So what does this do to the fundamental thermodynamic relation? Consider again\n",
    "$$\n",
    "    {\\rm d} S = \\left( \\frac{\\partial S}{\\partial U}\\right)_{V,N} {\\rm d} U +\\left( \\frac{\\partial S}{\\partial V}\\right)_{U,N} {\\rm d} V +\\left( \\frac{\\partial S}{\\partial N}\\right)_{V,U} {\\rm d} N.\n",
    "$$\n",
    "Using our known substitutions, we get \n",
    "$$\n",
    "    {\\rm d} S = \\frac{1}{T} {\\rm d} U +\\frac{1}{T} P {\\rm d} V - \\frac{1}{T} \\mu {\\rm d} N.\n",
    "$$\n",
    "Tidying up gives\n",
    "$$\n",
    "    {\\rm d} U = T {\\rm d} S - P {\\rm d} V + \\mu {\\rm d} N.\n",
    "$$\n",
    "From this, we can express $\\mu$ in terms of $U$ as \n",
    "$$\n",
    "    \\mu = \\left( \\frac{ \\partial U }{ \\partial N} \\right)_{S,V} \n",
    "$$\n",
    "which is not altogether useful, as both $S$ and $V$ are hard to keep constant. Modifyign either the Helmholtz free energy or the Gibbs free energy to account for this change to the fundamental thermodynamic relation thus gives\n",
    "\\begin{align}\n",
    "    {\\rm d} F &= - P {\\rm d} V - S {\\rm d} T + \\mu {\\rm d} N. \\\\\n",
    "    {\\rm d} G &= V {\\rm d} P - S {\\rm d} T + \\mu {\\rm d} N. \\\\\n",
    "\\end{align}\n",
    "which leads to\n",
    "\\begin{align}\n",
    "    \\mu &= \\left( \\frac{ \\partial F }{ \\partial N} \\right)_{V,T}\\\\ \n",
    "    \\mu &= \\left( \\frac{ \\partial G }{ \\partial N} \\right)_{P,T} \n",
    "\\end{align}\n",
    "\n",
    "In the case we are considering of single component system (remember, this is us saying that we only have one type of molecule in the system, like a system containg just water molecules), then the Gibbs free energy depends on N, the particle number, such that\n",
    "$$\n",
    "    G(T,P,N) = N\\; G(T,P,1) = N g(T,P)\n",
    "$$\n",
    "where\n",
    "$$\n",
    "    g(T,P) = \\frac{G(T,P,N)}{N}\n",
    "$$\n",
    "is the Gibbs free energy per particle. From above, this then means that we can write the chemical potential for a single component, homogenous system as\n",
    "$$\n",
    "    \\mu = g(T,P).\n",
    "$$\n",
    "Finally, this means that for a two state, single component system, where each state is homogenous, we require that\n",
    "$$\n",
    "    g_1(T,P) = g_2(T,P)\n",
    "$$\n",
    "This condition defines a curve in the $(P,T)$ plane. For any combination of temperature and pressure which lie on the curve, the phases are in equilibrium, while for any points that lie off of the curve, they are not.\n",
    "\n",
    "A simple example of this is shown below. In this, 1 and 2 define the regions in which $g_1 < g_2$ and $g_2 < g_1$ respectively.\n",
    "\n",
    "![TPCurve](Figures/Gibbs_Free_Energy.png)\n",
    "\n",
    "If $N_1$ and $N_2$ are the number of molecules in phases 1 and 2 respectively, then the Gibbs free energy of the system is\n",
    "$$\n",
    "    G = N_1 g_1(T,P)+N_2 g_2(T,P)\n",
    "$$\n",
    "For a system at a pressure and temperature given by point A in the figure above, $g_1<g_2$, and so the Gibbs free energy is minimised if all of the substance is in phase 1. Similar logic applies to point B, where $G$ is a minimum if all of the substance is in phase 2. Thus, the curve divides the $(P, T)$ plane into regions where one or other phase represents the stable equilibrium state.\n",
    "\n",
    "It is only along the curve that the phases can coexist in equilibrium - as such, this curve is called a **phase equilibrium curve**. This curve has a different name depending on which 2 phases are being discussed:\n",
    "\n",
    "* If the two phases are liquid and vapour, it's a vapour pressure curve.\n",
    "* If the two phases are liquid and solid, it's a melting curve.\n",
    "* If the two phases are vapour and solid, it's a sublimation curve.\n",
    "\n",
    "Let's now briefly consider what happens for a 3 phase system. The equilibrium condition for such a system is given by\n",
    "$$\n",
    "    g_1(T,P) = g_2(T,P) = g_3(T,P)\n",
    "$$\n",
    "Rather than just describing a curve, this condition describes the intersection of two curves, with the intersection point known as the triple point. A simple curve is plotted below as an example, but I recommend looking up the curve for water to get an idea of the full complexity of such a graph. The triple point of water occurs at a temperature and pressure of (611.567 Pa, 273.16 K)."
   ]
  },
  {
   "cell_type": "markdown",
   "id": "d2439d08-bfcc-4880-a7e1-1c953e086543",
   "metadata": {},
   "source": [
    "# The Clausius Clapyeron equation"
   ]
  },
  {
   "cell_type": "markdown",
   "id": "f93f57eb-bc98-4218-bbc8-4ec5112e3991",
   "metadata": {},
   "source": [
    "So how do we utilise this information?"
   ]
  },
  {
   "cell_type": "code",
   "execution_count": null,
   "id": "932f416d-1865-4c1f-a59e-fc7e6a8cadb6",
   "metadata": {},
   "outputs": [],
   "source": []
  }
 ],
 "metadata": {
  "kernelspec": {
   "display_name": "Python 3 (ipykernel)",
   "language": "python",
   "name": "python3"
  },
  "language_info": {
   "codemirror_mode": {
    "name": "ipython",
    "version": 3
   },
   "file_extension": ".py",
   "mimetype": "text/x-python",
   "name": "python",
   "nbconvert_exporter": "python",
   "pygments_lexer": "ipython3",
   "version": "3.8.10"
  }
 },
 "nbformat": 4,
 "nbformat_minor": 5
}
