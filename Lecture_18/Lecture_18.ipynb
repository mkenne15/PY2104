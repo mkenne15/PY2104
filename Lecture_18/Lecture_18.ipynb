{
 "cells": [
  {
   "cell_type": "markdown",
   "id": "7e603d4b-45fe-431f-9bb9-8281c8b22cee",
   "metadata": {},
   "source": [
    "# The Joule effect (revisited)"
   ]
  },
  {
   "cell_type": "markdown",
   "id": "3c6eeabb-d591-4785-908f-41fe4b72cc57",
   "metadata": {},
   "source": [
    "In our final discussion around how real gases differ from an ideal gas, we are going to return to the Joule expansions which was introduced in Lecture 5. In this expansion, a gas which is initially on the left side of a container is suddenly allowed to expand into the right. If the system is entirely isolated, then no work is done on the gas, and it cannot exchange heat with its surroundings. As such, the internal energy of the gas remains constant.\n",
    "\n",
    "![Joule_Expansion](Figures/Joule_Expansion.png)\n",
    "\n",
    "In this scenario, we are interested in answering the following question: after opening the valve, does the temperature of the gas change, does it cool, or does it warm up? To answer this, we will need to evalvuate the Joule coefficient, which we define as\n",
    "$$\n",
    "    \\mu_{\\rm J} = \\left( \\frac{\\partial T}{\\partial V} \\right)_U\n",
    "$$\n",
    "It's been a while since we've used this trick, so it's worth recalling that\n",
    "$$\n",
    "    \\left( \\frac{\\partial T}{\\partial V} \\right)_U \\left( \\frac{\\partial V}{\\partial U} \\right)_T \\left( \\frac{\\partial U}{\\partial T} \\right)_V = -1\n",
    "$$\n",
    "such that \n",
    "$$\n",
    "    \\left( \\frac{\\partial T}{\\partial V} \\right)_U = - \\left( \\frac{\\partial U}{\\partial V} \\right)_T \\left( \\frac{\\partial T}{\\partial U} \\right)_V\n",
    "$$\n",
    "so the Joule coefficient can be written as\n",
    "$$\n",
    "    \\mu_J = - \\left( \\frac{\\partial T}{\\partial U} \\right)_V \\left( \\frac{\\partial U}{\\partial V} \\right)_T  = - \\frac{1}{C_{\\rm V}} \\left( \\frac{\\partial U}{\\partial V} \\right)_T\n",
    "$$\n",
    "That last term is still a bit tricky to work with, so let's work to restructure this equation into something easier. First, from the fundamental thermodynamic relation we have that\n",
    "$$\n",
    "    {\\rm d} U = T {\\rm d} S - P {\\rm d} V\n",
    "$$\n",
    "which implies that\n",
    "$$\n",
    "    \\left(\\frac{\\partial U}{\\partial V} \\right)_T = T \\left(\\frac{\\partial S}{\\partial V} \\right)_T - P\n",
    "$$\n",
    "Recalling the Maxwell relation\n",
    "$$\n",
    "  \\left(\\frac{\\partial S}{\\partial V} \\right)_T =   \\left(\\frac{\\partial P}{\\partial T} \\right)_V\n",
    "$$\n",
    "we get\n",
    "$$\n",
    "    \\left(\\frac{\\partial U}{\\partial V} \\right)_T = T \\left(\\frac{\\partial P}{\\partial T} \\right)_V - P.\n",
    "$$\n",
    "This finally gives the expression\n",
    "$$\n",
    "    \\mu_{\\rm J} = - \\frac{1}{C_{\\rm V}} \\left[ T \\left(\\frac{\\partial P}{\\partial T} \\right)_V - P \\right]\n",
    "$$\n",
    "For an ideal gas, $PV = N k_{\\rm B} T$. As such, \n",
    "$$\n",
    "    \\left(\\frac{\\partial P}{\\partial T} \\right)_V = \\frac{N k_{\\rm B}}{V}\n",
    "$$\n",
    "and\n",
    "$$\n",
    "    T \\left(\\frac{\\partial P}{\\partial T} \\right)_V = P\n",
    "$$\n",
    "This means the Joule coefficient is 0 for an ideal gas, which means the temperature of the ideal gas does not change during the expansion.\n",
    "\n",
    "However, as we now know, an ideal isn't always the appropriate equation of state to adopt for this situation. Let's instead assume we have a Van der Waals gas:\n",
    "$$\n",
    "    \\left(P + \\frac{a}{V^2}\\right) (V - b) = N k_{\\rm B} T\n",
    "$$\n",
    "where $a$ is related to interatomic spacing and $b$ is due to the non-zero volume occupied by molecules in our gas. In this case\n",
    "$$\n",
    "    \\left(\\frac{\\partial P}{\\partial T} \\right)_V  = \\frac{N k_{\\rm B}}{(V - b)}\n",
    "$$\n",
    "which means the Joule coefficient is\n",
    "$$\n",
    "    \\mu_{\\rm J} = - \\frac{a}{C_{\\rm V}V^2}\n",
    "$$\n",
    "This is negative since $a$, $C_{\\rm V}$, and $V^2$ are all positive, which means that\n",
    "$$\n",
    "    \\left( \\frac{\\partial T}{\\partial V} \\right)_U < 0.\n",
    "$$\n",
    "That is, a real gas cools as it expands during a Joule expansion. This means that if we had a gas and wanted to cool it, we could use the Joule effect to do it without doing any work on the gas.\n",
    "\n",
    "However, the setup is not really useful in real world situations (how often do you have a gas totally isolated to one side of a chamber, and then let it expand? Also, what would you even do with it afterwards?).\n",
    "\n",
    "This brings us on to..."
   ]
  },
  {
   "cell_type": "markdown",
   "id": "0a32ea04-ea56-418b-8571-4d870b1823b0",
   "metadata": {},
   "source": [
    "# The Joule Thompson Expansion"
   ]
  },
  {
   "cell_type": "markdown",
   "id": "66eaee7e-185c-4b42-a148-f5672bb992de",
   "metadata": {},
   "source": [
    "The Joule-Thompson builds on this initial picture. Instead of a container with a stationary gas, it instead assumes we have a steady flow of gas from a high pressure region at $P_1$ to a low pressure region at $P_2$ via a throttle (or a porous plug, something that can maintain the pressure difference).\n",
    "\n",
    "![Joule_Expansion](Figures/Joule_Thompson_Expansion.png)\n",
    "\n",
    "This is an irreversible process. However, since the initial and final states are both equilibria states, we can pretend that it does happen reversibly. This leads to the following treatment.\n",
    "\n",
    "Any gas that is entering into throttle must have work equal to $P_1 V_1$ done on it. After the gas has passed through the throttle, it will expand to pressure $P_2$, thus doing work $P_2 V_2$ on whatever gas was there before. As such, the total work done on the gas as it is compressed and then expands is $W= P_1V_1 - P_2V_2$. Assuming the system is thermally isolated, this means that the change in internal energy of the gas must be $U_2 - U_1 = P_2V_2 - P_1V_1$ which gives\n",
    "$$\n",
    "    U_1+ P_1V_1=U_2+ P_2V_2\n",
    "$$"
   ]
  },
  {
   "cell_type": "code",
   "execution_count": null,
   "id": "e948c9ab-5e6b-4b51-b2c9-605387df6427",
   "metadata": {},
   "outputs": [],
   "source": []
  }
 ],
 "metadata": {
  "kernelspec": {
   "display_name": "Python 3 (ipykernel)",
   "language": "python",
   "name": "python3"
  },
  "language_info": {
   "codemirror_mode": {
    "name": "ipython",
    "version": 3
   },
   "file_extension": ".py",
   "mimetype": "text/x-python",
   "name": "python",
   "nbconvert_exporter": "python",
   "pygments_lexer": "ipython3",
   "version": "3.8.10"
  }
 },
 "nbformat": 4,
 "nbformat_minor": 5
}
