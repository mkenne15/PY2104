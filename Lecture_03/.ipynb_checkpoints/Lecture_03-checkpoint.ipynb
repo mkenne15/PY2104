{
 "cells": [
  {
   "cell_type": "markdown",
   "id": "3228784e-d7e7-40d9-bbb7-6c786ce131f2",
   "metadata": {
    "tags": []
   },
   "source": [
    "# Introduction to Thermodynamics and Statistical Physics"
   ]
  },
  {
   "cell_type": "markdown",
   "id": "be03ef91-4271-414e-b36b-6adb0b95d80a",
   "metadata": {},
   "source": [
    "In this lecture, we are going to continue introducing some topics which are needed to fully explore thermal physics. In particular, we'll cover:\n",
    "\n",
    "* The Bolztmann Distribution\n",
    "* Partition Function and Energy\n",
    "* The First Law of Thermodynamics"
   ]
  },
  {
   "cell_type": "markdown",
   "id": "2d851665-8802-4f9c-9501-76defe82b563",
   "metadata": {
    "tags": []
   },
   "source": [
    "## The Boltzmann Distribution"
   ]
  },
  {
   "cell_type": "markdown",
   "id": "f2676404-63d7-4d50-b658-b174ef6ab04d",
   "metadata": {},
   "source": [
    "Ok, now let's consider the above example again. However, we're going to change one of the systems such that it acts as a reservoir (or heat bath). We then place the other system into thermal contact with the reservoir. The reservoir has such an enormour amount of energy compared to the system that any change in its temperature as it heats the smaller system is completely negligible. This is the canonical ensemble discussed previously.\n",
    "\n",
    "![Reservoir](Figures/Reservoir.png)\n",
    "\n",
    "Now, we're going to assume that for each energy of the system, there is only a single allow microstate. As such, $\\Omega(\\epsilon)=1$.\n",
    "\n",
    "So, the probability that the system has energy $\\epsilon$ is proportional to the number of microstates of the reservoir times the number of microstates of the system:\n",
    "$$\n",
    "    P(\\epsilon) \\propto \\Omega(E-\\epsilon)\\Omega(\\epsilon)=\\Omega(E-\\epsilon)\n",
    "$$\n",
    "Now using\n",
    "$$\n",
    "    \\frac{1}{k_{\\rm B}T} = \\frac{{\\rm d ln} \\Omega}{{\\rm d} E}\n",
    "$$\n",
    "and given that $\\epsilon \\ll E$, we can Taylor expand ${\\rm ln} \\Omega$ around 0 to give\n",
    "$$\n",
    "    {\\rm ln} \\Omega(E-\\epsilon) = {\\rm ln} \\Omega(E) - \\frac{{\\rm d ln} \\Omega(E)}{{\\rm d} E}\\epsilon + ...\n",
    "$$\n",
    "which gives\n",
    "$$\n",
    "    {\\rm ln} \\Omega(E-\\epsilon) = {\\rm ln} \\Omega(E) - \\frac{\\epsilon}{k_{\\rm B} T} + ...\n",
    "$$\n",
    "This then gives\n",
    "$$\n",
    "    \\Omega(E-\\epsilon) = \\Omega(E){\\rm e}^{-\\frac{\\epsilon}{k_{\\rm B} T}}\n",
    "$$\n",
    "Finally, this gives\n",
    "$$\n",
    "    P(\\epsilon) \\propto {\\rm e}^{-\\frac{\\epsilon}{k_{\\rm B} T}}\n",
    "$$\n",
    "This probability tells us how the system reacts to being placed in the bath. There is a high probability that the system will achieve an energy $\\epsilon$ which is less than ${k_{\\rm B} T}$, but it quickly decays above this energy, meaning we are unlikely to observe the system to have an energy much higher than the reservoir. Now, to normalise the probability, we must divide by all possible microstates:\n",
    "$$\n",
    "    P(E_r) = \\frac{{\\rm e}^{-E_r/k_{\\rm B} T}}{\\sum_i {\\rm e}^{-E_i/k_{\\rm B} T}}\n",
    "$$\n",
    "This is known as the **Boltzmann distribution**. It is also written as \n",
    "$$\n",
    "    P(E_r) = \\frac{1}{Z}{\\rm e}^{-\\beta E_r}\n",
    "$$\n",
    "where\n",
    "$$\n",
    "    Z = \\sum_i {\\rm e}^{-\\beta E_i}\n",
    "$$\n",
    "is  called the **partition function**.\n",
    "In deriving this, we have assumed that every energy has a single microstate which describes it. This is not necessarily true, and so we can modify the equations above to be\n",
    "$$\n",
    "    P(E_r) = \\frac{1}{Z}g(E_r){\\rm e}^{-\\beta E_r}\n",
    "$$\n",
    "$$\n",
    "    Z = \\sum_{E_i} g(E_i) {\\rm e}^{-\\beta E_i}\n",
    "$$\n",
    "where we are now summing over energies instead of microstates. $g(E_i)$ is then the number of microstates possessing energy $E_i$. It is called the degeneracy of the energy eigenvalue $E_i$, and will come up in quantum mechanics.\n",
    "\n",
    "Finally, it's useful to note that $1/k_{\\rm B} T$ comes up a lot in statistical mechanics. As such, it's often simply written as\n",
    "$$\n",
    "    \\beta \\equiv \\frac{1}{k_{\\rm B} T}\n",
    "$$\n",
    "to save time."
   ]
  },
  {
   "cell_type": "markdown",
   "id": "47dd13b2-570c-4b82-97c2-a677536ad7ca",
   "metadata": {},
   "source": [
    "## The partition function and Energy"
   ]
  },
  {
   "cell_type": "markdown",
   "id": "57183d47-3ed6-442c-babc-f676d066a244",
   "metadata": {},
   "source": [
    "So now assume we have some system with internal energy $U$. What is the average energy of the system? To calculate this, we need to take the energy of each state and multiply it by the probability that each state will occur. This gives\n",
    "$$\n",
    "    \\bar{U} = \\sum_{i} P(E_i) E_i = \\frac{1}{Z} \\sum_{i} E_i {\\rm e}^{(-\\beta E_i)}.\n",
    "$$\n",
    "However,\n",
    "$$\n",
    "    \\sum_{i} E_i {\\rm e}^{(-\\beta E_i)} = -\\frac{{\\rm d} Z}{{\\rm d} \\beta}\n",
    "$$\n",
    "so we get\n",
    "$$\n",
    "    \\bar{U} = - \\frac{1}{Z} \\frac{{\\rm d} Z}{{\\rm d} \\beta} = -\\frac{{\\rm d} \\ln Z}{{\\rm d} \\beta}\n",
    "$$"
   ]
  },
  {
   "cell_type": "markdown",
   "id": "21bbae2c-c851-4513-9392-2e7835eed9ae",
   "metadata": {},
   "source": [
    "## Some final definitions"
   ]
  },
  {
   "cell_type": "markdown",
   "id": "c16d3fe6-5345-4567-8e49-59e85f737e33",
   "metadata": {},
   "source": [
    "Right, we need a few final terms before we can move on.\n",
    "\n",
    "**Thermal equilibrium** : A system is in thermal equilibrium when its macroscopic properties have ceased to change with time.\n",
    "\n",
    "**Functons of state** : Any physical quanitity that has a well defined value for each equilibrium state of a system. For example: Pressure, temperature, volume. In mathematical terms, these are exact differentials.\n",
    "\n",
    "Work put into a system and total heat put into or out of a system are thus **not** functions of state. They are inexact differentials.\n",
    "\n",
    "As a nice example, consider warming up your hands. If you change the temperature of your hands, they achieve an equilibrium state with a given temperature, independant of how you managed to get them to this temperature. That is, you could rub them together (performing work on them) or sinking them into a tub of hot water (adding heat to them).\n",
    "\n",
    "In this course, we will endeavour to write exact differentials as ${\\rm d} T$, and inexact differentials as đQ. However, some times latex doesn't work with this symbol, so always check one of the course books to be sure whether an equation involves an exact or an inexact differential.\n",
    "\n",
    "**Equation of state**: An equation of state links together functions of state. For example, $P V = N k_{\\rm B} T$ is the equation of state of an Ideal Gas."
   ]
  },
  {
   "cell_type": "markdown",
   "id": "884e8f8d-04d9-49a2-8225-7fc36f7dde0d",
   "metadata": {},
   "source": [
    "## The First Law of Thermodynamics"
   ]
  },
  {
   "cell_type": "markdown",
   "id": "cb26593a-fd0e-4e5f-9e51-985b2a58b643",
   "metadata": {},
   "source": [
    "So, now we are in a position to state the first law of thermodynamics, which says:\n",
    "\n",
    "**The first law of thermodynamics**\n",
    "Energy is conserved, and heat and work are both forms of energy.\n",
    "\n",
    "This was shown experimentally by Joule, who changed the temperature of a mass of water in two ways: rotating a paddle through it, and by placing a heating element in it, and for a fixed temperature change, found that the energy from both methods was the same.\n",
    "\n",
    "Mathmatically, we can right the first law as \n",
    "$$\n",
    "    \\Delta U = \\Delta Q + \\Delta W.\n",
    "$$\n",
    "That is, the change in internal energy of a system, $\\Delta U$, is equal to the the sum of the heat supplied to the system $\\Delta Q$ and the work done on the system $\\Delta W$. Writing it for differential changes gives\n",
    "\n",
    "$$ \n",
    "    {\\rm d U} = {\\rm d}Q +  {\\rm d}W.\n",
    "$$"
   ]
  }
 ],
 "metadata": {
  "kernelspec": {
   "display_name": "Python 3 (ipykernel)",
   "language": "python",
   "name": "python3"
  },
  "language_info": {
   "codemirror_mode": {
    "name": "ipython",
    "version": 3
   },
   "file_extension": ".py",
   "mimetype": "text/x-python",
   "name": "python",
   "nbconvert_exporter": "python",
   "pygments_lexer": "ipython3",
   "version": "3.8.10"
  }
 },
 "nbformat": 4,
 "nbformat_minor": 5
}
