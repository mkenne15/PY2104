{
 "cells": [
  {
   "cell_type": "markdown",
   "id": "b73cfa69-05a3-43a0-8f6d-c9ef0bd6dce9",
   "metadata": {
    "tags": []
   },
   "source": [
    "# Revisiting Heat Capacity (again)"
   ]
  },
  {
   "cell_type": "markdown",
   "id": "60ea88e3-1289-4945-aaa4-9240f34ed2c6",
   "metadata": {},
   "source": [
    "Ok let's use one of the tricks from the last lecture to derive some more helpful quantities. First, let's start with the fundamental thermodynamic relation, which we can write as :\n",
    "$$\n",
    "     {\\rm d} S = \\frac{1}{T} \\left(\\frac{\\partial U}{\\partial T}\\right)_V {\\rm d} T + \\frac{1}{T}\\left[ P + \\left(\\frac{\\partial U}{\\partial V}\\right)_T \\right] {\\rm d} V\n",
    "$$\n",
    "If we then write $S=S(T,V)$ we get \n",
    "$$\n",
    "    {\\rm d}S = \\left(\\frac{\\partial S}{\\partial T} \\right)_V {\\rm d}T + \\left(\\frac{\\partial S}{\\partial V} \\right)_T {\\rm d}S\n",
    "$$\n",
    "Which immediately gives\n",
    "$$\n",
    "    \\left(\\frac{\\partial S}{\\partial T} \\right)_V = \\frac{1}{T} \\left(\\frac{\\partial U}{\\partial T}\\right)_V; \\: \\: \\: \\left(\\frac{\\partial S}{\\partial V} \\right)_T = \\frac{1}{T}\\left[ P + \\left(\\frac{\\partial U}{\\partial V}\\right)_T \\right]\n",
    "$$\n",
    "Using the fact that\n",
    "$$\n",
    "    \\frac{\\partial^2 S}{\\partial V \\partial T} = \\frac{\\partial^2 S}{\\partial T \\partial V}\n",
    "$$\n",
    "leads us to\n",
    "$$\n",
    "    T \\left(\\frac{\\partial P}{\\partial T} \\right)_V = P + \\left(\\frac{\\partial U}{\\partial V} \\right)_T\n",
    "$$\n",
    "Recalling that\n",
    "$$\n",
    "    C_P-C_V = \\left[ \\left(\\frac{\\partial U}{\\partial V}\\right)_T +P \\right] \\left( \\frac{\\partial V}{\\partial T}\\right)_P.\n",
    "$$\n",
    "(from Lecture 3), we then get\n",
    "$$\n",
    "    C_P-C_V = T \\left(\\frac{\\partial P}{\\partial T} \\right)_V \\left(\\frac{\\partial V}{\\partial T}\\right)_P.\n",
    "$$\n",
    "If we now define\n",
    "$$\n",
    "    \\beta_P = \\frac{1}{V} \\left(\\frac{\\partial V}{\\partial T} \\right)_P; \\: \\: \\: -\\kappa_T = \\frac{1}{V} \\left(\\frac{\\partial V}{\\partial P} \\right)_T;\n",
    "$$\n",
    "where $\\beta_P$ is the isobaric expansivity and $\\kappa_T$ is the isothermal compressibility, and use the following identity\n",
    "$$\n",
    "    \\left(\\frac{\\partial x}{\\partial y}\\right)_z \\left(\\frac{\\partial y}{\\partial z}\\right)_x \\left(\\frac{\\partial z}{\\partial x}\\right)_y = -1\n",
    "$$\n",
    "which gives\n",
    "$$\n",
    "    \\left(\\frac{\\partial P}{\\partial T} \\right)_V = - \\left(\\frac{\\partial V}{\\partial T} \\right)_P \\left(\\frac{\\partial P}{\\partial V} \\right)_T\n",
    "$$\n",
    "Tidying up gives that\n",
    "$$\n",
    "    C_P-C_V = \\frac{T V \\beta_P^2}{\\kappa_T}\n",
    "$$\n",
    "These are all quantities which are easily measurable in the lab, meaning the difference in the heat capacities can be easily obtained."
   ]
  },
  {
   "cell_type": "code",
   "execution_count": null,
   "id": "01feadb5-17f4-48e5-9e19-50134dad3577",
   "metadata": {},
   "outputs": [],
   "source": []
  }
 ],
 "metadata": {
  "kernelspec": {
   "display_name": "Python 3 (ipykernel)",
   "language": "python",
   "name": "python3"
  },
  "language_info": {
   "codemirror_mode": {
    "name": "ipython",
    "version": 3
   },
   "file_extension": ".py",
   "mimetype": "text/x-python",
   "name": "python",
   "nbconvert_exporter": "python",
   "pygments_lexer": "ipython3",
   "version": "3.8.10"
  }
 },
 "nbformat": 4,
 "nbformat_minor": 5
}
