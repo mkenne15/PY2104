{
 "cells": [
  {
   "cell_type": "markdown",
   "id": "690f764d-9496-4364-8fda-b8459dfb7209",
   "metadata": {
    "tags": []
   },
   "source": [
    "# Introduction to Thermodynamics and Statistical Physics"
   ]
  },
  {
   "cell_type": "markdown",
   "id": "53f2d641-f82f-4021-a7c2-8d1397161dff",
   "metadata": {},
   "source": [
    "In this lecture, we are going to discuss entropy. In particular, we'll cover:\n",
    "\n",
    "* Thermodynamic Potentials.\n",
    "* Availability."
   ]
  },
  {
   "cell_type": "markdown",
   "id": "e5664270-7e54-4d6d-b277-7807cb4504d4",
   "metadata": {},
   "source": [
    "## Thermodynamic Potentials"
   ]
  },
  {
   "cell_type": "markdown",
   "id": "ac62139d-373b-4695-add8-a410e09cc22d",
   "metadata": {},
   "source": [
    "Up until this point, we have been working a lot with the internal energy if a system, $U$, which is a function of state. In principle, we can combine $U$ with any other functions of state ($P$, $V$, $S$, $T$) to create new functions of state. This are called **thermodynamic potentiels**. In this next section, we are going to look at some thermodynamic potentials which can be very useful in certain situations."
   ]
  },
  {
   "cell_type": "markdown",
   "id": "ff8e13d6-6ccd-4a62-ba9c-2008cb8463b2",
   "metadata": {},
   "source": [
    "### Internal energy, $U$"
   ]
  },
  {
   "cell_type": "markdown",
   "id": "20c9f807-6899-42eb-84a2-110a327f9478",
   "metadata": {},
   "source": [
    "We've spent a lot of time dealing with $U$, so I'm not going to dwell on it too much. Below is simply a summary of where we've encountered $U$ previously.\n",
    "First,\n",
    "$$\n",
    "    {\\rm d}U = T{\\rm d}S - P{\\rm d} V\n",
    "$$\n",
    "which is the fundamental thermodynamic potential. From this, we can state that, $U=U(S,V)$. Now we will define an isochoric process as one during which the volume stays constant (${\\rm d} V = 0$). In this case, we have\n",
    "$$\n",
    "    {\\rm d}U = T{\\rm d}S\n",
    "$$\n",
    "If we have a reversible isochoric process, then we also have that\n",
    "$$\n",
    "    {\\rm d}U = {\\rm d}Q = C_V {\\rm d} T\n",
    "$$\n",
    "Thus\n",
    "$$\n",
    "    \\Delta U = \\int_{T_1} ^{T_2} C_V {\\rm d} T\n",
    "$$\n",
    "The fundamental thermodynamic relation also gives us that \n",
    "$$\n",
    "   T = \\left(\\frac{\\partial U}{\\partial S}\\right)_V ; P = -\\left(\\frac{\\partial U}{\\partial V}\\right)_S\n",
    "$$\n",
    "\n",
    "This is only true at constant volume. To handle a process at constant pressure, we need a different potential.\n"
   ]
  },
  {
   "cell_type": "markdown",
   "id": "f7eb09f6-fce8-4935-a802-62cde09560b8",
   "metadata": {},
   "source": [
    "### Enthalpy, H"
   ]
  },
  {
   "cell_type": "markdown",
   "id": "caa3ff2e-ff77-41e6-a50a-a793eae9cd32",
   "metadata": {},
   "source": [
    "Imagine we are studying a small thermodynamic system inside a large room. Keeping track of the total internal energy of the system as it does work (or has work done on it) can be a bit of a pain. Instead, we can always add the work that is needed to make space for the system. This gives us enthalpy:\n",
    "$$\n",
    "    H = U+PV.\n",
    "$$\n",
    "Thus, an infinitesimal change in $H$ is given by\n",
    "\\begin{align}\n",
    "    {\\rm d} H &= T{\\rm d} S - P {\\rm d} V + P {\\rm d} V + V {\\rm d} P\\\\\n",
    "    {\\rm d} H &= T{\\rm d} S + V {\\rm d} P\n",
    "\\end{align}\n",
    "From this, we can say that $H=H(S,P)$. For an isobaric process (${\\rm d}P=0$), we then have\n",
    "$$\n",
    "    {\\rm d} H = T{\\rm d} S\n",
    "$$\n",
    "and for a reversible, isobaris process we have\n",
    "$$\n",
    "    {\\rm d}H = {\\rm d}Q = C_P {\\rm d} T\n",
    "$$\n",
    "Thus\n",
    "$$\n",
    "    \\Delta H = \\int_{T_1} ^{T_2} C_P {\\rm d} T\n",
    "$$\n",
    "Thus, for a process performed at contant pressure, then the enthalpy represents the heat (which is why it's called H) transferred to or from the system.\n",
    "Our definition of the enthalpy also gives us that\n",
    "$$\n",
    "   T = \\left(\\frac{\\partial H}{\\partial S}\\right)_P ; V = \\left(\\frac{\\partial H}{\\partial P}\\right)_S\n",
    "$$"
   ]
  },
  {
   "cell_type": "markdown",
   "id": "dda22fa0-6ced-4a7d-a123-ed88d6732096",
   "metadata": {},
   "source": [
    "### Helmholtz Free Energy (or Helmholtz Function)"
   ]
  },
  {
   "cell_type": "markdown",
   "id": "ecf3bf78-d0d7-42c7-b75b-cdf466b63e15",
   "metadata": {},
   "source": [
    "The above potentials are both functions of entropy, $S$, which can difficult to vary experimentally. This next thermodynamic potential does not suffer the same drawback. Let's define the Helmholtz Free Energy as\n",
    "$$\n",
    "    F = U - TS.\n",
    "$$\n",
    "This gives\n",
    "\\begin{align}\n",
    "    {\\rm d} F &= T {\\rm d} S - P {\\rm d} V - T {\\rm d} S - S {\\rm d} T\\\\\n",
    "              &= - S {\\rm d} T - P {\\rm d} V\n",
    "\\end{align}\n",
    "From this, we can say that $F=F(T,V)$. For an isothermal process, we thus have\n",
    "$$\n",
    "    {\\rm d} F = - P {\\rm d} V\n",
    "$$\n",
    "giving\n",
    "$$\n",
    "    \\Delta F = - \\int_{V_1}^{V_2} P {\\rm d} V\n",
    "$$\n",
    "Our definition of the Helmholtz Free Energy also gives us that\n",
    "$$\n",
    "   S = -\\left(\\frac{\\partial F}{\\partial T}\\right)_V ; P = -\\left(\\frac{\\partial F}{\\partial V}\\right)_T\n",
    "$$"
   ]
  },
  {
   "cell_type": "markdown",
   "id": "59f0ac4c-a280-4415-932e-a8bd240ce304",
   "metadata": {},
   "source": [
    "### Gibbs Free Energy (or Gibbs Function)"
   ]
  },
  {
   "cell_type": "markdown",
   "id": "3bb91f5a-8cc4-4d11-81e9-f693f8555c0f",
   "metadata": {},
   "source": [
    "Let\n",
    "$$\n",
    "    G = H - TS\n",
    "$$\n",
    "This gives\n",
    "\\begin{align}\n",
    "    {\\rm d} G &= T {\\rm d} S + V {\\rm d} P - T {\\rm d} S - S {\\rm d} T\\\\\n",
    "              &= - S {\\rm d} T + V {\\rm d} P\n",
    "\\end{align}\n",
    "Thus $G=G(T,P)$, which is particularly useful as both $T$ and $P$ are easy to control and change in experiments. Thus, if you have an isothermal isobaric process, then ${\\rm d} G = 0$. This will be useful when we are studying phase transitions later.\n",
    "Our definition of the Gibbs Free Energy also gives us that\n",
    "$$\n",
    "   S = -\\left(\\frac{\\partial G}{\\partial T}\\right)_P ; V = \\left(\\frac{\\partial G}{\\partial P}\\right)_T\n",
    "$$"
   ]
  },
  {
   "cell_type": "markdown",
   "id": "514557ba-676e-430c-b366-724cb4fa63b8",
   "metadata": {},
   "source": [
    "## Availability"
   ]
  },
  {
   "cell_type": "markdown",
   "id": "7688a34c-3227-4a9e-a53f-efbe39874275",
   "metadata": {},
   "source": [
    "So what use are these new thermodynamic potentials? As a starting point, consider the setup below where we have a system inside some surroundings. The system will be allowed to exchange heat and to do work on the surroundings.\n",
    "\n",
    "![Entropy_of_mixing](Figures/Surroundings.png)\n",
    "\n",
    "So what happens when energy ${\\rm d} U$ and volume ${\\rm d} V$ are transferred from the surroundings to the system? First, the internal energy of the surroundings will change according to the 1st law by\n",
    "$$\n",
    "    {\\rm d} U_0 = - {\\rm d} U = T_0 {\\rm d} S_0 - P_0 (- {\\rm d} V)\n",
    "$$\n",
    "The $-$ in ${\\rm d} U$ and in ${\\rm d} V$ are because these quantites are being transferred **to** the system, and as such are negative for the surroundings. Rearranging we have\n",
    "$$\n",
    "    {\\rm d} S_0 = - \\left(\\frac{{\\rm d} U + P_0  {\\rm d} V}{T_0}\\right)\n",
    "$$\n",
    "If the entropy of the system changes by ${\\rm d} S$ during this process, then the total change in entropy is\n",
    "$$\n",
    "    {\\rm d} S_{\\rm Total} = {\\rm d} S_0 + {\\rm d} S.\n",
    "$$\n",
    "The second law tells us that ${\\rm d} S_{\\rm Total} \\geq 0$. Combining this with the above equation then gives\n",
    "$$\n",
    "    T_0 {\\rm d} S_{\\rm Total} = -({\\rm d} U + P_0 {\\rm d} V - T_0 {\\rm d} S) \\geq 0\n",
    "$$\n",
    "giving\n",
    "$$\n",
    "    {\\rm d} U + P_0 {\\rm d} V - T_0 {\\rm d} S \\leq 0.\n",
    "$$\n",
    "We will now define a new variable called **availability** and let it be\n",
    "$$\n",
    "    A  = U + P_0 V - T_0 S\n",
    "$$\n",
    "such that (given that $P_0$ and $T_0$ are constants)\n",
    "$$\n",
    "    {\\rm d} A  = {\\rm d} U + P_0 {\\rm d}V - T_0 {\\rm d}S.\n",
    "$$\n",
    "This means that\n",
    "$$\n",
    "    {\\rm d} A \\leq 0\n",
    "$$\n",
    "What does this actually mean? It tells us that any changes in a system as it settles down to equilibrium will decrease $A$. When at equilibrium, $A$ remains constant. As such, in order to figure out what the equilibrium conditions for a system are, all we have to do is minimise $A$. However, the type of equilibrium we are trying to achieve will affect how $A$ is minimised. What exactly does this mean? Consider the following examples, which will also tie together our thermodynamic potentials."
   ]
  },
  {
   "cell_type": "markdown",
   "id": "72b36e25-b8c4-432b-ab69-1ba405cb65eb",
   "metadata": {},
   "source": [
    "## Fixed entropy & volume"
   ]
  },
  {
   "cell_type": "markdown",
   "id": "ed7c064e-bc4b-4bc0-bded-357d0ebacff1",
   "metadata": {},
   "source": [
    "This means that ${\\rm d} S=0$ and ${\\rm d} V=0$. \n",
    "Thus, we have that\n",
    "$$\n",
    "    {\\rm d} A  = {\\rm d} U\n",
    "$$\n",
    "and\n",
    "$$\n",
    "    {\\rm d} A = {\\rm d} U \\leq 0.\n",
    "$$\n",
    "As such, we must minimise the internal energy $U$ to find the equilibrium state of this system."
   ]
  },
  {
   "cell_type": "markdown",
   "id": "997003c5-ff0b-43d0-8d79-ee5ed76838d2",
   "metadata": {},
   "source": [
    "## Fixed entropy & pressure"
   ]
  },
  {
   "cell_type": "markdown",
   "id": "77e788dd-0b0a-4267-8660-86039d6a3a24",
   "metadata": {},
   "source": [
    "This means that ${\\rm d} S=0$ and ${\\rm d} P=0$. Thus, we have that\n",
    "$$\n",
    "    {\\rm d} A  = {\\rm d} U + P_0 {\\rm d}V \n",
    "$$\n",
    "Recalling now that the enthalpy $H = U+PV$, such that \n",
    "$$\n",
    "    {\\rm d} H = {\\rm d} U + P {\\rm d} V + V {\\rm d} P\n",
    "$$\n",
    "which, for constant pressure, becomes\n",
    "$$\n",
    "    {\\rm d} H = {\\rm d} U + P {\\rm d} V\n",
    "$$\n",
    "As such, the change in availability is given by \n",
    "$$\n",
    "    {\\rm d} A  = {\\rm d} H \\leq 0.\n",
    "$$\n",
    "As such, we must minimise the enthalpy $H$ to find the equilibrium state of this system."
   ]
  },
  {
   "cell_type": "markdown",
   "id": "f4645aa4-aceb-495a-8e50-bc1d450e6c8b",
   "metadata": {},
   "source": [
    "## Thermally isolated & fixed volume"
   ]
  },
  {
   "cell_type": "markdown",
   "id": "0dae36c7-0699-4f54-9487-de4b1e1e797f",
   "metadata": {},
   "source": [
    "If a system is thermally isolated, then ${\\rm d} U = 0$. Thus \n",
    "$$\n",
    "    {\\rm d} A  = - T_0 {\\rm d} S \\leq 0\n",
    "$$\n",
    "which gives \n",
    "$$\n",
    "    {\\rm d} S  \\geq 0\n",
    "$$\n",
    "As such, we must maximise the entropy to the find equilibrium state of this system."
   ]
  },
  {
   "cell_type": "markdown",
   "id": "7cbf949e-79db-4d60-9c86-2551df773e1b",
   "metadata": {},
   "source": [
    "## Fixed temperature & volume"
   ]
  },
  {
   "cell_type": "markdown",
   "id": "071fc7ee-cf9a-459b-8bde-b5a5b5f218a0",
   "metadata": {},
   "source": [
    "This means that ${\\rm d} T=0$ and ${\\rm d} V=0$. Thus, we have that\n",
    "$$\n",
    "    {\\rm d} A  = {\\rm d} U - T_0 {\\rm d}S\n",
    "$$\n",
    "Recalling that the Helmholtz Free Energy is $F = U - TS$, and following the same steps as for the fixed entropy and pressure scenario, we are left with\n",
    "$$\n",
    "    {\\rm d} A = {\\rm d} F \\leq 0.\n",
    "$$\n",
    "So we must minimise the Helmholtz Free energy to find the equilibrium state."
   ]
  },
  {
   "cell_type": "markdown",
   "id": "ec9a2a52-c357-41c8-abf8-e7a9ad4bcade",
   "metadata": {},
   "source": [
    "## Fixed pressure and temperature"
   ]
  },
  {
   "cell_type": "markdown",
   "id": "e50fce33-1370-4c34-a8e1-3d98e1508b9c",
   "metadata": {},
   "source": [
    "This means that ${\\rm d} T=0$ and ${\\rm d} P=0$. Thus, we have that\n",
    "$$\n",
    "    {\\rm d} A  = {\\rm d} U + P_0 {\\rm d}V - T_0 {\\rm d}S \\leq 0\n",
    "$$\n",
    "Recalling that the Gibbs Free Energy is $G = H - TS = U + PV - TS$, we get that\n",
    "\\begin{align}\n",
    "    {\\rm d} G &= {\\rm d}U + P_0 {\\rm d}V + V{\\rm d}P_0 - T_0{\\rm d}S - S{\\rm d}T_0\\\\\n",
    "              &= {\\rm d}U + P_0 {\\rm d}V - T_0{\\rm d}S\n",
    "\\end{align}\n",
    "for constant $T_0$ and $P_0$. We then get\n",
    "$$\n",
    "    {\\rm d} A = {\\rm d} G \\leq 0\n",
    "$$\n",
    "So we must minimise the Gibbs Free energy to find the equilibrium state."
   ]
  },
  {
   "cell_type": "markdown",
   "id": "a119ab36-ec00-4a62-b163-df97eb3ddbcb",
   "metadata": {},
   "source": [
    "So now we can see where these thermodynamic potentials come in use. Let's consider an example next."
   ]
  }
 ],
 "metadata": {
  "kernelspec": {
   "display_name": "Python 3 (ipykernel)",
   "language": "python",
   "name": "python3"
  },
  "language_info": {
   "codemirror_mode": {
    "name": "ipython",
    "version": 3
   },
   "file_extension": ".py",
   "mimetype": "text/x-python",
   "name": "python",
   "nbconvert_exporter": "python",
   "pygments_lexer": "ipython3",
   "version": "3.11.10"
  }
 },
 "nbformat": 4,
 "nbformat_minor": 5
}
